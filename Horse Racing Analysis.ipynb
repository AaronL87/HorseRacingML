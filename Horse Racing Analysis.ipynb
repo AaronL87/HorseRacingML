{
 "cells": [
  {
   "cell_type": "markdown",
   "metadata": {},
   "source": [
    "Process of cleaning and analyzing horse racing data from Kaggle dataset \"Horses for Courses\""
   ]
  },
  {
   "cell_type": "code",
   "execution_count": null,
   "metadata": {},
   "outputs": [],
   "source": [
    "import pandas as pd\n",
    "import numpy as np\n",
    "import matplotlib as plt"
   ]
  },
  {
   "cell_type": "code",
   "execution_count": null,
   "metadata": {},
   "outputs": [],
   "source": [
    "fields = [\"position_again\",\"position_two\",\"bf_odds\",\"venue_name\",\"date\",\"market_name\",\"condition\",\"barrier\",\"handicap_weight\",\"last_five_starts\",\"prize_money\",\"sex\",\"age\",\"jockey\",\"jockey_sex\",\"trainer\",\"days_since_last_run\",\"runs_since_spell\",\"overall_starts\",\"overall_wins\",\"overall_places\",\"track_starts\",\"track_wins\",\"track_places\",\"firm_starts\",\"firm_wins\",\"firm_places\",\"good_starts\",\"good_wins\",\"good_places\",\"dead_starts\",\"dead_wins\",\"dead_places\",\"slow_starts\",\"slow_wins\",\"slow_places\",\"soft_starts\",\"soft_wins\",\"soft_places\",\"heavy_starts\",\"heavy_wins\",\"heavy_places\",\"distance_starts\",\"distance_wins\",\"distance_places\"]\n",
    "\n",
    "df = pd.read_csv(\"horses.csv\", skipinitialspace=True, usecols=fields)"
   ]
  },
  {
   "cell_type": "markdown",
   "metadata": {},
   "source": [
    "The following reassigns variable types"
   ]
  },
  {
   "cell_type": "code",
   "execution_count": null,
   "metadata": {
    "scrolled": false
   },
   "outputs": [],
   "source": [
    "df.date = pd.to_datetime(df.date, format='%Y'+'-'+'%m'+'-'+'%d')\n",
    "df.market_name = df.market_name.astype('str') \n",
    "df.venue_name = df.venue_name.astype('str')\n",
    "df.condition = df.condition.astype('str')\n",
    "df.sex = df.sex.astype('str')\n",
    "df.last_five_starts = df.last_five_starts.astype('str')\n",
    "\n",
    "df = df.rename(index=str, columns={\"position_two\":\"all_finish\"})\n",
    "\n",
    "df.head()"
   ]
  },
  {
   "cell_type": "code",
   "execution_count": null,
   "metadata": {},
   "outputs": [],
   "source": [
    "#dropping these now and will potentially add them back in later\n",
    "\n",
    "df_main = df.drop(['jockey','jockey_sex','trainer','runs_since_spell','track_starts','track_wins','track_places','firm_starts','firm_wins','firm_places','good_starts','good_wins','good_places','dead_starts','dead_wins','dead_places','slow_starts','slow_wins','slow_places','soft_starts','soft_wins','soft_places','heavy_starts','heavy_wins','heavy_places','distance_starts','distance_wins','distance_places'], axis=1)\n",
    "\n",
    "df_main.head()"
   ]
  },
  {
   "cell_type": "markdown",
   "metadata": {},
   "source": [
    "Trying to clean data, I find:"
   ]
  },
  {
   "cell_type": "code",
   "execution_count": null,
   "metadata": {},
   "outputs": [],
   "source": [
    "df_main[(df_main[\"all_finish\"] == df_main.shift(-1)[\"all_finish\"]) & (df_main[\"all_finish\"] == 1) & (df_main[\"position_again\"] != df_main[\"all_finish\"])]\n",
    "\n",
    "#there are doubled first-place finishes (false ties) in all_finish column, which is inconsistent with position_again "
   ]
  },
  {
   "cell_type": "code",
   "execution_count": null,
   "metadata": {},
   "outputs": [],
   "source": [
    "df_main[((df_main[\"position_again\"] == df_main[\"all_finish\"]) & (df_main[\"position_again\"] == 1)) & ((df_main.shift(-1)[\"position_again\"] == df_main.shift(-1)[\"all_finish\"]) & (df_main.shift(-1)[\"position_again\"] == 2)) & (((df_main.shift(-2)[\"position_again\"] == df_main.shift(-2)[\"all_finish\"]) & (df_main.shift(-2)[\"position_again\"] == 3)) | ((df_main.shift(-2)[\"position_again\"].isna()) & (df_main.shift(-2)[\"all_finish\"] == 3)))]\n",
    "\n",
    "#filters out values where position_again and all_finish are not consistent"
   ]
  },
  {
   "cell_type": "code",
   "execution_count": null,
   "metadata": {},
   "outputs": [],
   "source": [
    "clean_indices = df_main.index[((df_main[\"position_again\"] == df_main[\"all_finish\"]) & (df_main[\"position_again\"] == 1)) & ((df_main.shift(-1)[\"position_again\"] == df_main.shift(-1)[\"all_finish\"]) & (df_main.shift(-1)[\"position_again\"] == 2)) & (((df_main.shift(-2)[\"position_again\"] == df_main.shift(-2)[\"all_finish\"]) & (df_main.shift(-2)[\"position_again\"] == 3)) | ((df_main.shift(-2)[\"position_again\"].isna()) & (df_main.shift(-2)[\"all_finish\"] == 3)))]\n",
    "\n",
    "clean_indices"
   ]
  },
  {
   "cell_type": "code",
   "execution_count": null,
   "metadata": {},
   "outputs": [],
   "source": [
    "#finds all races where there are 0 or NaN values above the first place position of the same race\n",
    "\n",
    "shift_one_indices = list(df_main.index[((df_main[\"position_again\"] == df_main[\"all_finish\"]) & (df_main[\"position_again\"] == 1)) & (df_main[\"market_name\"] == df_main.shift(1)[\"market_name\"]) & (df_main[\"venue_name\"] == df_main.shift(1)[\"venue_name\"]) & (df_main[\"date\"] == df_main.shift(1)[\"date\"])])\n",
    "shift_two_indices = list(df_main.index[((df_main[\"position_again\"] == df_main[\"all_finish\"]) & (df_main[\"position_again\"] == 1)) & (df_main[\"market_name\"] == df_main.shift(2)[\"market_name\"]) & (df_main[\"venue_name\"] == df_main.shift(2)[\"venue_name\"]) & (df_main[\"date\"] == df_main.shift(2)[\"date\"])])\n",
    "shift_three_indices = list(df_main.index[((df_main[\"position_again\"] == df_main[\"all_finish\"]) & (df_main[\"position_again\"] == 1)) & (df_main[\"market_name\"] == df_main.shift(3)[\"market_name\"]) & (df_main[\"venue_name\"] == df_main.shift(3)[\"venue_name\"]) & (df_main[\"date\"] == df_main.shift(3)[\"date\"])])\n",
    "shift_four_indices = list(df_main.index[((df_main[\"position_again\"] == df_main[\"all_finish\"]) & (df_main[\"position_again\"] == 1)) & (df_main[\"market_name\"] == df_main.shift(4)[\"market_name\"]) & (df_main[\"venue_name\"] == df_main.shift(4)[\"venue_name\"]) & (df_main[\"date\"] == df_main.shift(4)[\"date\"])])\n",
    "shift_five_indices = list(df_main.index[((df_main[\"position_again\"] == df_main[\"all_finish\"]) & (df_main[\"position_again\"] == 1)) & (df_main[\"market_name\"] == df_main.shift(5)[\"market_name\"]) & (df_main[\"venue_name\"] == df_main.shift(5)[\"venue_name\"]) & (df_main[\"date\"] == df_main.shift(5)[\"date\"])])\n",
    "shift_six_indices = list(df_main.index[((df_main[\"position_again\"] == df_main[\"all_finish\"]) & (df_main[\"position_again\"] == 1)) & (df_main[\"market_name\"] == df_main.shift(6)[\"market_name\"]) & (df_main[\"venue_name\"] == df_main.shift(6)[\"venue_name\"]) & (df_main[\"date\"] == df_main.shift(6)[\"date\"])])\n",
    "\n",
    "print(\"shift_one_indices:\",len(shift_one_indices),shift_one_indices)\n",
    "print(\"shift_two_indices:\",len(shift_two_indices),shift_two_indices)\n",
    "print(\"shift_three_indices:\",len(shift_three_indices),shift_three_indices)\n",
    "print(\"shift_four_indices:\",len(shift_four_indices),shift_four_indices)\n",
    "print(\"shift_five_indices:\",len(shift_five_indices),shift_five_indices)\n",
    "print(\"shift_six_indices:\",len(shift_six_indices),shift_six_indices)\n",
    "\n",
    "shift_all_indices = list(set(shift_one_indices+shift_two_indices+shift_three_indices,shift_four_indices+shift_five_indices))"
   ]
  },
  {
   "cell_type": "code",
   "execution_count": null,
   "metadata": {},
   "outputs": [],
   "source": [
    "# Example of shifted indices where values of race are above first place finish of that race.\n",
    "\n",
    "x=5405\n",
    "\n",
    "df_main.iloc[[x-6,x-5,x-4,x-3,x-2,x-1,x,x+1,x+2,x+3]]"
   ]
  },
  {
   "cell_type": "code",
   "execution_count": null,
   "metadata": {},
   "outputs": [],
   "source": [
    "#adds win percentage and place percentage columns and drops \"overall\" columns\n",
    "\n",
    "try:\n",
    "    df_main[\"n_win_percent\"] = df_main[\"overall_wins\"]/df_main[\"overall_starts\"]\n",
    "except ZeroDivisionError:\n",
    "    df_main[\"n_win_percent\"] = np.nan\n",
    "    \n",
    "try:\n",
    "    df_main[\"o_place_percent\"] = df_main[\"overall_places\"]/df_main[\"overall_starts\"]\n",
    "except ZeroDivisionError:\n",
    "    df_main[\"o_place_percent\"] = np.nan\n",
    "    \n",
    "df_main = df_main.drop(['position_again', 'overall_wins', 'overall_starts', 'overall_places'], axis=1)"
   ]
  },
  {
   "cell_type": "code",
   "execution_count": null,
   "metadata": {},
   "outputs": [],
   "source": [
    "#might finish and use this to fix the shift_all_indices\n",
    "\n",
    "'''\n",
    "\n",
    "checker = []\n",
    "\n",
    "for i in range(len(wrong_indices)):\n",
    "    if i == len(wrong_indices)-1:\n",
    "        break\n",
    "    else:\n",
    "        first_counter = 0\n",
    "        value = all_finish[wrong_indices[i]]\n",
    "        while value != 1:\n",
    "            first_counter += 1\n",
    "            value = all_finish[wrong_indices[i]+first_counter]\n",
    "        place = venue_name[wrong_indices[i]+first_counter]\n",
    "        race = market_name[wrong_indices[i]+first_counter]\n",
    "        find_counter = 0\n",
    "        while (place == wrong_indices[i]+first_counter) & (race == market_name[wrong_indices[i]+first_counter]):\n",
    "            find_counter -= 1\n",
    "            place = venue_name[wrong_indices[i]+find_counter]\n",
    "            race = market_name[wrong_indices[i]+find_counter]\n",
    "        place = venue_name[wrong_indices[i]+first_counter]\n",
    "        race = market_name[wrong_indices[i]+first_counter]\n",
    "        replace_count = 0\n",
    "        while (place == wrong_indices[i]+first_counter) & (race == market_name[wrong_indices[i]+first_counter]):\n",
    "            replace_count += 1\n",
    "            place = venue_name[wrong_indices[i]+replace_count]\n",
    "            race = market_name[wrong_indices[i]+replace_count]\n",
    "        for j in range((wrong_indices[i]+replace_count-1) - (wrong_indices[i]+first_counter+1)):\n",
    "            \n",
    "        ...\n",
    "                    \n",
    "'''"
   ]
  },
  {
   "cell_type": "code",
   "execution_count": null,
   "metadata": {},
   "outputs": [],
   "source": [
    "#makes a new dataframe of all good races in \"clean_values\"\n",
    "\n",
    "df_clean = pd.DataFrame()\n",
    "\n",
    "for i in clean_indices:\n",
    "    counter = 0\n",
    "    value = 0\n",
    "    while value != 1:\n",
    "        counter += 1\n",
    "        value = df_main[\"all_finish\"][int(i)+counter]\n",
    "    if (str(int(i)+counter) in clean_indices) & (str(int(i)+counter) not in shift_all_indices):\n",
    "        for j in range(counter-1):\n",
    "            df_clean = df_clean.append(df_main.iloc[int(i)+j], ignore_index = True)"
   ]
  },
  {
   "cell_type": "markdown",
   "metadata": {},
   "source": [
    "The following splits the market_name column into three separate columns"
   ]
  },
  {
   "cell_type": "code",
   "execution_count": null,
   "metadata": {},
   "outputs": [],
   "source": [
    "df_clean.e_market_name.unique()"
   ]
  },
  {
   "cell_type": "code",
   "execution_count": null,
   "metadata": {},
   "outputs": [],
   "source": [
    "new = df_clean[\"market_name\"].str.split(\" \", n = 2, expand = True) "
   ]
  },
  {
   "cell_type": "code",
   "execution_count": null,
   "metadata": {},
   "outputs": [],
   "source": [
    "df_clean.insert(4, \"race_number\", new[0])\n",
    "df_clean.insert(5, \"race_length\", new[1])\n",
    "df_clean.insert(6, \"race_type\", new[2])"
   ]
  },
  {
   "cell_type": "code",
   "execution_count": null,
   "metadata": {},
   "outputs": [],
   "source": [
    "df_clean.drop(columns =[\"market_name\"], inplace = True)\n",
    "df_clean.head()"
   ]
  },
  {
   "cell_type": "code",
   "execution_count": null,
   "metadata": {},
   "outputs": [],
   "source": [
    "df_clean.race_type.unique()"
   ]
  },
  {
   "cell_type": "markdown",
   "metadata": {},
   "source": [
    "Next, I will find the average weight of each race to create a handicap_weight_minus_average column."
   ]
  }
 ],
 "metadata": {
  "kernelspec": {
   "display_name": "Python 3",
   "language": "python",
   "name": "python3"
  },
  "language_info": {
   "codemirror_mode": {
    "name": "ipython",
    "version": 3
   },
   "file_extension": ".py",
   "mimetype": "text/x-python",
   "name": "python",
   "nbconvert_exporter": "python",
   "pygments_lexer": "ipython3",
   "version": "3.7.3"
  }
 },
 "nbformat": 4,
 "nbformat_minor": 2
}
