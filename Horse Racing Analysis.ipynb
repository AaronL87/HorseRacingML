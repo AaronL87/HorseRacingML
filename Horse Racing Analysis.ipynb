{
 "cells": [
  {
   "cell_type": "markdown",
   "metadata": {},
   "source": [
    "# <center> Process of cleaning and analyzing horse racing data from Kaggle dataset \"Horses for Courses\"</center>"
   ]
  },
  {
   "cell_type": "code",
   "execution_count": null,
   "metadata": {},
   "outputs": [],
   "source": [
    "import pandas as pd\n",
    "import numpy as np\n",
    "import matplotlib.pyplot as plt\n",
    "from scipy.stats import chisquare, ttest_ind\n",
    "\n",
    "%matplotlib inline\n",
    "\n",
    "#To supress scientific notation\n",
    "pd.set_option('display.float_format', lambda x: '%.2f' % x)"
   ]
  },
  {
   "cell_type": "code",
   "execution_count": null,
   "metadata": {},
   "outputs": [],
   "source": [
    "#There are a lot of issues with the 'position_two' column, so I left it out.\n",
    "#Furthermore, the 'position_again' column is much more consistent and has all relevant win/place information  \n",
    "\n",
    "fields = [\"position_again\",\"bf_odds\",\"venue_name\",\"date\",\"market_name\",\"condition\",\"barrier\",\"handicap_weight\",\"last_five_starts\",\"prize_money\",\"sex\",\"age\",\"jockey\",\"jockey_sex\",\"trainer\",\"days_since_last_run\",\"overall_starts\",\"overall_wins\",\"overall_places\",\"track_starts\",\"track_wins\",\"track_places\",\"firm_starts\",\"firm_wins\",\"firm_places\",\"good_starts\",\"good_wins\",\"good_places\",\"slow_starts\",\"slow_wins\",\"slow_places\",\"soft_starts\",\"soft_wins\",\"soft_places\",\"heavy_starts\",\"heavy_wins\",\"heavy_places\",\"distance_starts\",\"distance_wins\",\"distance_places\"]\n",
    "\n",
    "df = pd.read_csv(\"horses.csv\", skipinitialspace=True, usecols=fields, low_memory=False)\n",
    "\n",
    "df.head()"
   ]
  },
  {
   "cell_type": "code",
   "execution_count": null,
   "metadata": {
    "scrolled": false
   },
   "outputs": [],
   "source": [
    "df.date = pd.to_datetime(df.date, format='%Y'+'-'+'%m'+'-'+'%d')\n",
    "\n",
    "#removes numbers from end of 'condition' strings\n",
    "df.condition = df.condition.str.replace('\\d+', '')\n",
    "\n",
    "#renaming condition values so that they're uniform\n",
    "df.condition = df.condition.str.replace('HVY', 'HEAVY')\n",
    "df.condition = df.condition.str.replace('AWT', 'GOOD') #AWT equates to a Good surface under some weather conditions\n",
    "\n",
    "#reverses 'last_five_starts' (originally written right-to-left) so that it's easier to read in the future\n",
    "df.last_five_starts = df.last_five_starts.str[::-1]"
   ]
  },
  {
   "cell_type": "markdown",
   "metadata": {},
   "source": [
    "## Creating general and track-condition-specific 'win_percent' and 'place_percent' columns:"
   ]
  },
  {
   "cell_type": "code",
   "execution_count": null,
   "metadata": {},
   "outputs": [],
   "source": [
    "#creates overall, track, and distance win_percent\n",
    "#and place_percent columns and drops existing wins and places columns\n",
    "\n",
    "columns_list = [\"overall\",\"track\",\"distance\"]\n",
    "\n",
    "for x in columns_list:\n",
    "    df[x+\"_win_percent\"] = df[x+\"_wins\"]/df[x+\"_starts\"]\n",
    "    \n",
    "    df[x+\"_place_percent\"] = df[x+\"_places\"]/df[x+\"_starts\"]\n",
    "\n",
    "    if x == \"overall\": # 'overall_starts' will be used later\n",
    "        df.drop([x+'_wins', x+'_places'], axis=1, inplace=True)\n",
    "    else:\n",
    "        df.drop([x+'_starts', x+'_wins', x+'_places'], axis=1, inplace=True)"
   ]
  },
  {
   "cell_type": "code",
   "execution_count": null,
   "metadata": {},
   "outputs": [],
   "source": [
    "#creates a win_percent and place_percent column for the current condition of the track\n",
    "\n",
    "df.loc[df.condition.isna(), \"condition_win_percent\"] = np.nan\n",
    "\n",
    "condition_list = [\"firm\",\"good\",\"slow\",\"soft\",\"heavy\"]\n",
    "\n",
    "for x in condition_list:    \n",
    "    \n",
    "    df.loc[df.condition.str.lower() == x, \"condition_win_percent\"] = df[x+\"_wins\"]/df[x+\"_starts\"]\n",
    "    \n",
    "    df.loc[df.condition.str.lower() == x, \"condition_place_percent\"] = df[x+\"_places\"]/df[x+\"_starts\"]\n",
    "    \n",
    "    df.drop([x+'_starts', x+'_wins', x+'_places'], axis=1, inplace=True)\n",
    "\n",
    "# Condition column is not necessary now that there are condition win and place percent columns \n",
    "df.drop('condition', axis=1, inplace=True)\n",
    "\n",
    "# Replaces infinity (zero division) with NaN\n",
    "df.replace([np.inf, -np.inf], np.nan, inplace=True)"
   ]
  },
  {
   "cell_type": "markdown",
   "metadata": {},
   "source": [
    "## Cleaning data by removing races with missing win and/or place values in 'position_again' column:"
   ]
  },
  {
   "cell_type": "code",
   "execution_count": null,
   "metadata": {},
   "outputs": [],
   "source": [
    "#Used groupby to create indices by which to sort the re-indexed dataframes below, like df_indexed and df_cleaned\n",
    "df_grouped = df.groupby(['date','venue_name','market_name'])\n",
    "\n",
    "#Drops all groups/races in 'position_again' column where sum of values [1st, 2nd, 3rd] don't add to 3 or 6\n",
    "#i.e. 1+2 and 1+2+3\n",
    "index_list1 = df_grouped.position_again.sum(dropna=False).where(lambda x:(x == 3) | (x == 6)).dropna().index\n",
    "\n",
    "df_indexed = df.set_index(['date','venue_name','market_name'])\n",
    "\n",
    "df_cleaned = df_indexed.loc[index_list1]"
   ]
  },
  {
   "cell_type": "code",
   "execution_count": null,
   "metadata": {},
   "outputs": [],
   "source": [
    "df_grouped = df_cleaned.groupby(['date','venue_name','market_name'])\n",
    "\n",
    "#Eliminates remaining errors in 'position_again' column by making sure that there isn't a single 3rd-place finish\n",
    "index_list2 = df_grouped.position_again.value_counts(normalize=True,dropna=False).where(lambda x:x != 1).dropna().index"
   ]
  },
  {
   "cell_type": "code",
   "execution_count": null,
   "metadata": {},
   "outputs": [],
   "source": [
    "df_cleaned = df_cleaned.loc[index_list2]\n",
    "\n",
    "df_grouped = df_cleaned.groupby(['date','venue_name','market_name'])"
   ]
  },
  {
   "cell_type": "markdown",
   "metadata": {},
   "source": [
    "## Creating a weight_minus_average column:"
   ]
  },
  {
   "cell_type": "code",
   "execution_count": null,
   "metadata": {},
   "outputs": [],
   "source": [
    "average_weight = df_grouped.handicap_weight.transform('mean')\n",
    "\n",
    "df_cleaned.insert(4,'average_weight',average_weight)\n",
    "\n",
    "df_cleaned.insert(5,'weight_minus_average', df_cleaned.handicap_weight - df_cleaned.average_weight)"
   ]
  },
  {
   "cell_type": "code",
   "execution_count": null,
   "metadata": {},
   "outputs": [],
   "source": [
    "df_cleaned.drop(['handicap_weight','average_weight'], axis=1, inplace=True)"
   ]
  },
  {
   "cell_type": "code",
   "execution_count": null,
   "metadata": {},
   "outputs": [],
   "source": [
    "df_grouped = df_cleaned.groupby(['date','venue_name','market_name'])"
   ]
  },
  {
   "cell_type": "markdown",
   "metadata": {},
   "source": [
    "## Creating a prize_money_per_start_minus_average column:"
   ]
  },
  {
   "cell_type": "code",
   "execution_count": null,
   "metadata": {},
   "outputs": [],
   "source": [
    "#creates prize_money_per_start column\n",
    "df_cleaned.insert(6,'prize_money_per_start', df_cleaned.prize_money/df_cleaned.overall_starts)\n",
    "\n",
    "#Creates average_prize_money_per_start column\n",
    "average_prize_money_per_start = df_grouped.prize_money_per_start.transform('mean')\n",
    "\n",
    "df_cleaned.insert(7,'average_prize_money_per_start', average_prize_money_per_start)\n",
    "\n",
    "#Creates prize_money_per_start_minus_average column\n",
    "df_cleaned.insert(8,'prize_money_per_start_minus_average', df_cleaned.prize_money_per_start - df_cleaned.average_prize_money_per_start)"
   ]
  },
  {
   "cell_type": "code",
   "execution_count": null,
   "metadata": {
    "scrolled": false
   },
   "outputs": [],
   "source": [
    "#drops irrelevant columns\n",
    "df_cleaned.drop(['prize_money', 'prize_money_per_start', 'average_prize_money_per_start'], axis=1, inplace=True)"
   ]
  },
  {
   "cell_type": "code",
   "execution_count": null,
   "metadata": {},
   "outputs": [],
   "source": [
    "df_grouped = df_cleaned.groupby(['date','venue_name','market_name'])"
   ]
  },
  {
   "cell_type": "markdown",
   "metadata": {},
   "source": [
    "## Creating a horse_age_minus_average column:"
   ]
  },
  {
   "cell_type": "code",
   "execution_count": null,
   "metadata": {},
   "outputs": [],
   "source": [
    "average_age = df_grouped.age.transform('mean')\n",
    "\n",
    "df_cleaned.insert(8,'average_age',average_age)\n",
    "\n",
    "df_cleaned.insert(9,'age_minus_average', df_cleaned.age - df_cleaned.average_age)"
   ]
  },
  {
   "cell_type": "code",
   "execution_count": null,
   "metadata": {},
   "outputs": [],
   "source": [
    "df_cleaned.drop(['age','average_age'], axis=1, inplace=True)\n",
    "\n",
    "df_cleaned.drop('overall_starts', axis=1, inplace=True)"
   ]
  },
  {
   "cell_type": "code",
   "execution_count": null,
   "metadata": {},
   "outputs": [],
   "source": [
    "# Replaces infinity (zero division) with NaN\n",
    "df_cleaned.replace([np.inf, -np.inf], np.nan, inplace=True)\n",
    "\n",
    "df_cleaned.sort_index(inplace=True)\n",
    "\n",
    "df_grouped = df_cleaned.groupby(['date','venue_name','market_name'])\n",
    "\n",
    "df_cleaned.head()"
   ]
  },
  {
   "cell_type": "markdown",
   "metadata": {},
   "source": [
    "# Testing which features are significant:\n",
    "\n",
    "## For jockey gender:"
   ]
  },
  {
   "cell_type": "markdown",
   "metadata": {},
   "source": [
    "#### Overall percentage of men and women in races where both are represented:"
   ]
  },
  {
   "cell_type": "code",
   "execution_count": null,
   "metadata": {},
   "outputs": [],
   "source": [
    "#Drops races where there is only one jockey gender, meaning that the other gender can't win\n",
    "jockey_sex_population = df_grouped.jockey_sex.value_counts(normalize=True,dropna=False).where(lambda x: x != 1).dropna()\n",
    "\n",
    "#Finds mean percent of jockey genders in races\n",
    "jockey_sex_population.mean(level=3)"
   ]
  },
  {
   "cell_type": "code",
   "execution_count": null,
   "metadata": {},
   "outputs": [],
   "source": [
    "jockey_sex_population_indices = jockey_sex_population.index\n",
    "\n",
    "jockey_sex_population_cleaned = df_cleaned.loc[jockey_sex_population_indices].drop_duplicates()"
   ]
  },
  {
   "cell_type": "markdown",
   "metadata": {},
   "source": [
    "#### Finding the total a different way:"
   ]
  },
  {
   "cell_type": "code",
   "execution_count": null,
   "metadata": {},
   "outputs": [],
   "source": [
    "jockey_sex_population_cleaned.jockey_sex.value_counts(dropna=False)\n",
    "#Yields same result as previous total:"
   ]
  },
  {
   "cell_type": "markdown",
   "metadata": {},
   "source": [
    "#### Win percentage of those races:"
   ]
  },
  {
   "cell_type": "code",
   "execution_count": null,
   "metadata": {},
   "outputs": [],
   "source": [
    "#Isolates wins in races with both jockey genders represented\n",
    "jockey_sex_win_indices = jockey_sex_population_cleaned.position_again.apply(lambda x: x == 1)\n",
    "\n",
    "jockey_sex_population_cleaned[jockey_sex_win_indices].jockey_sex.value_counts(dropna=False)"
   ]
  },
  {
   "cell_type": "markdown",
   "metadata": {},
   "source": [
    "#### Ensuring that races counted were same for both percentage values:"
   ]
  },
  {
   "cell_type": "code",
   "execution_count": null,
   "metadata": {},
   "outputs": [],
   "source": [
    "#Number of races for both previous percentages\n",
    "#followed by the number of races there should be (given by number of first-place finishes): \n",
    "\n",
    "print(len(jockey_sex_population_cleaned.groupby(['date','venue_name','market_name'])))\n",
    "\n",
    "print(len(jockey_sex_population_cleaned[jockey_sex_win_indices].jockey_sex.groupby(['date','venue_name','market_name'])))\n",
    "\n",
    "jockey_sex_population_cleaned.position_again.value_counts()"
   ]
  },
  {
   "cell_type": "markdown",
   "metadata": {},
   "source": [
    "### Using a 2-proportion z-test, I find that jockey gender is significant with a p-value of 2.3E-30\n",
    "#### (There is currently a bug with the statsmodels library concering compatibility with scipy, so I used a scientific calculator)\n",
    "\n",
    "## For horse gender:"
   ]
  },
  {
   "cell_type": "code",
   "execution_count": null,
   "metadata": {},
   "outputs": [],
   "source": [
    "#Removes races where only one horse gender is represented\n",
    "horse_gender_population = df_grouped.sex.value_counts(normalize=True,dropna=False).where(lambda x: x != 1).dropna()\n",
    "\n",
    "#Takes average percentage of each gender in races\n",
    "#In this case, this method of finding the general horse gender distribution overrepresents genders that are rare \n",
    "horse_gender_population.mean(level=3)"
   ]
  },
  {
   "cell_type": "code",
   "execution_count": null,
   "metadata": {},
   "outputs": [],
   "source": [
    "horse_gender_population_indices = horse_gender_population.index\n",
    "\n",
    "horse_gender_population_cleaned = df_cleaned.loc[horse_gender_population_indices].drop_duplicates()"
   ]
  },
  {
   "cell_type": "code",
   "execution_count": null,
   "metadata": {},
   "outputs": [],
   "source": [
    "#General percentage of horse genders for races where multiple genders are represented  \n",
    "horse_gender_population_cleaned.sex.value_counts(dropna=False,normalize=True)"
   ]
  },
  {
   "cell_type": "code",
   "execution_count": null,
   "metadata": {},
   "outputs": [],
   "source": [
    "horse_gender_win_indices = horse_gender_population_cleaned.position_again.apply(lambda x: x == 1)\n",
    "\n",
    "print('Total wins:', horse_gender_population_cleaned[horse_gender_win_indices].sex.value_counts(dropna=False).sum())\n",
    "\n",
    "horse_gender_population_cleaned[horse_gender_win_indices].sex.value_counts(dropna=False)"
   ]
  },
  {
   "cell_type": "markdown",
   "metadata": {},
   "source": [
    "### Using the Pearson's chi-squared test for both ways of finding population, I find horse gender is significant:"
   ]
  },
  {
   "cell_type": "code",
   "execution_count": null,
   "metadata": {},
   "outputs": [],
   "source": [
    "observed = [10015,4200,2447,715,187]\n",
    "expected_percentages = [.57,.27,.13,.03,.01]\n",
    "expected = [x*17564 for x in expected_percentages] #17564 removes the two anomalies (the Unknown and NaN genders)\n",
    "\n",
    "test_stat1, p_value1 = chisquare(observed, expected)\n",
    "\n",
    "test_stat1, p_value1"
   ]
  },
  {
   "cell_type": "markdown",
   "metadata": {},
   "source": [
    "## For horse weight, using weight_minus_average:"
   ]
  },
  {
   "cell_type": "code",
   "execution_count": null,
   "metadata": {},
   "outputs": [],
   "source": [
    "df_cleaned.weight_minus_average.describe()"
   ]
  },
  {
   "cell_type": "code",
   "execution_count": null,
   "metadata": {},
   "outputs": [],
   "source": [
    "general_win_indices = df_grouped.position_again.apply(lambda x: x == 1)\n",
    "\n",
    "#average weight difference for winners\n",
    "df_cleaned[general_win_indices].weight_minus_average.describe()"
   ]
  },
  {
   "cell_type": "code",
   "execution_count": null,
   "metadata": {},
   "outputs": [],
   "source": [
    "data2a = df_cleaned.weight_minus_average.dropna().values\n",
    "\n",
    "data2b = df_cleaned[general_win_indices].weight_minus_average.dropna().values\n",
    "\n",
    "plt.title(\"Winner and Race Distributions of Weight from Race Average\", fontsize=15)\n",
    "plt.hist(data2a, density=True, bins=40, range=(-10,10), label='Race Average', color='b', alpha=.5, edgecolor='k')\n",
    "plt.hist(data2b, density=True, bins=40, range=(-10,10), label='Winner Average', color='r', alpha=.5, edgecolor='k')\n",
    "plt.legend(loc='upper right')\n",
    "plt.xlabel('Weight from Average')\n",
    "plt.ylabel('Probability');"
   ]
  },
  {
   "cell_type": "markdown",
   "metadata": {},
   "source": [
    "#### 1 sample T-test:"
   ]
  },
  {
   "cell_type": "markdown",
   "metadata": {},
   "source": [
    "### Using a 2-sample T-test, I find that horse weight is significant:"
   ]
  },
  {
   "cell_type": "code",
   "execution_count": null,
   "metadata": {},
   "outputs": [],
   "source": [
    "test_stat2, p_value2 = ttest_ind(data2a, data2b)\n",
    "\n",
    "test_stat2, p_value2"
   ]
  },
  {
   "cell_type": "markdown",
   "metadata": {},
   "source": [
    "## For prize money, using prize_money_per_start_minus_average:"
   ]
  },
  {
   "cell_type": "code",
   "execution_count": null,
   "metadata": {},
   "outputs": [],
   "source": [
    "df_cleaned.prize_money_per_start_minus_average.describe()"
   ]
  },
  {
   "cell_type": "code",
   "execution_count": null,
   "metadata": {},
   "outputs": [],
   "source": [
    "#Winner prize money \n",
    "df_cleaned[general_win_indices].prize_money_per_start_minus_average.describe()"
   ]
  },
  {
   "cell_type": "code",
   "execution_count": null,
   "metadata": {},
   "outputs": [],
   "source": [
    "data3a = df_cleaned.prize_money_per_start_minus_average.dropna().values\n",
    "\n",
    "data3b = df_cleaned[general_win_indices].prize_money_per_start_minus_average.dropna().values\n",
    "\n",
    "plt.title(\"Winner and Race Distributions of Prize Money per Start Minus Average\", fontsize=15)\n",
    "plt.hist(data3a, density=True, bins=40, range=(-10000,10000), label='Race Average', color='b', alpha=.6, edgecolor='k')\n",
    "plt.hist(data3b, density=True, bins=40, range=(-10000,10000), label='Winner Average', color='r', alpha=.5, edgecolor='k')\n",
    "plt.legend(loc='upper right')\n",
    "plt.xlabel('Prize Money per Start Minus Average')\n",
    "plt.ylabel('Probability');"
   ]
  },
  {
   "cell_type": "markdown",
   "metadata": {},
   "source": [
    "### Using a 2-sample T-test, I find that prize money per start is significant:\n"
   ]
  },
  {
   "cell_type": "code",
   "execution_count": null,
   "metadata": {},
   "outputs": [],
   "source": [
    "test_stat3, p_value3 = ttest_ind(data3a, data3b)\n",
    "\n",
    "test_stat3, p_value3"
   ]
  },
  {
   "cell_type": "markdown",
   "metadata": {},
   "source": [
    "## For horse age, using horse_age_minus_average:"
   ]
  },
  {
   "cell_type": "code",
   "execution_count": null,
   "metadata": {},
   "outputs": [],
   "source": [
    "age_minus_average_population = df_grouped.age_minus_average.value_counts(normalize=True,dropna=False).where(lambda x: x != 1).dropna()"
   ]
  },
  {
   "cell_type": "code",
   "execution_count": null,
   "metadata": {},
   "outputs": [],
   "source": [
    "age_minus_average_population.describe()"
   ]
  },
  {
   "cell_type": "code",
   "execution_count": null,
   "metadata": {},
   "outputs": [],
   "source": [
    "age_minus_average_population_indices = age_minus_average_population.index\n",
    "\n",
    "age_minus_average_population_cleaned = df_cleaned.loc[age_minus_average_population_indices].drop_duplicates()"
   ]
  },
  {
   "cell_type": "code",
   "execution_count": null,
   "metadata": {},
   "outputs": [],
   "source": [
    "age_minus_average_win_indices = jockey_sex_population_cleaned.position_again.apply(lambda x: x == 1)\n",
    "\n",
    "df_cleaned[age_minus_average_win_indices].age_minus_average.describe()"
   ]
  }
 ],
 "metadata": {
  "kernelspec": {
   "display_name": "Python 3",
   "language": "python",
   "name": "python3"
  },
  "language_info": {
   "codemirror_mode": {
    "name": "ipython",
    "version": 3
   },
   "file_extension": ".py",
   "mimetype": "text/x-python",
   "name": "python",
   "nbconvert_exporter": "python",
   "pygments_lexer": "ipython3",
   "version": "3.7.3"
  }
 },
 "nbformat": 4,
 "nbformat_minor": 2
}
