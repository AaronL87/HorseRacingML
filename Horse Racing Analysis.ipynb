{
 "cells": [
  {
   "cell_type": "markdown",
   "metadata": {},
   "source": [
    "# <center> Analyzing the \"Horses for Courses\" Horse Racing Dataset from Kaggle </center>"
   ]
  },
  {
   "cell_type": "code",
   "execution_count": 1,
   "metadata": {},
   "outputs": [],
   "source": [
    "import pandas as pd\n",
    "import numpy as np\n",
    "import matplotlib.pyplot as plt\n",
    "from scipy.stats import chisquare, ttest_ind, zscore\n",
    "\n",
    "%matplotlib inline\n",
    "\n",
    "#Supresses scientific notation\n",
    "pd.set_option('display.float_format', lambda x: '%.2f' % x)\n",
    "\n",
    "import warnings\n",
    "warnings.filterwarnings('ignore')"
   ]
  },
  {
   "cell_type": "code",
   "execution_count": 2,
   "metadata": {},
   "outputs": [
    {
     "data": {
      "text/html": [
       "<div>\n",
       "<style scoped>\n",
       "    .dataframe tbody tr th:only-of-type {\n",
       "        vertical-align: middle;\n",
       "    }\n",
       "\n",
       "    .dataframe tbody tr th {\n",
       "        vertical-align: top;\n",
       "    }\n",
       "\n",
       "    .dataframe thead th {\n",
       "        text-align: right;\n",
       "    }\n",
       "</style>\n",
       "<table border=\"1\" class=\"dataframe\">\n",
       "  <thead>\n",
       "    <tr style=\"text-align: right;\">\n",
       "      <th></th>\n",
       "      <th>position_again</th>\n",
       "      <th>bf_odds</th>\n",
       "      <th>venue_name</th>\n",
       "      <th>date</th>\n",
       "      <th>market_name</th>\n",
       "      <th>condition</th>\n",
       "      <th>barrier</th>\n",
       "      <th>handicap_weight</th>\n",
       "      <th>prize_money</th>\n",
       "      <th>sex</th>\n",
       "      <th>...</th>\n",
       "      <th>slow_places</th>\n",
       "      <th>soft_starts</th>\n",
       "      <th>soft_wins</th>\n",
       "      <th>soft_places</th>\n",
       "      <th>heavy_starts</th>\n",
       "      <th>heavy_wins</th>\n",
       "      <th>heavy_places</th>\n",
       "      <th>distance_starts</th>\n",
       "      <th>distance_wins</th>\n",
       "      <th>distance_places</th>\n",
       "    </tr>\n",
       "  </thead>\n",
       "  <tbody>\n",
       "    <tr>\n",
       "      <th>0</th>\n",
       "      <td>1.00</td>\n",
       "      <td>2.88</td>\n",
       "      <td>Echuca</td>\n",
       "      <td>2016-06-27</td>\n",
       "      <td>R3 1200m Mdn</td>\n",
       "      <td>HVY9</td>\n",
       "      <td>3.00</td>\n",
       "      <td>58.50</td>\n",
       "      <td>2160.00</td>\n",
       "      <td>Gelding</td>\n",
       "      <td>...</td>\n",
       "      <td>1.00</td>\n",
       "      <td>1.00</td>\n",
       "      <td>0.00</td>\n",
       "      <td>1.00</td>\n",
       "      <td>0.00</td>\n",
       "      <td>0.00</td>\n",
       "      <td>0.00</td>\n",
       "      <td>1.00</td>\n",
       "      <td>0.00</td>\n",
       "      <td>1.00</td>\n",
       "    </tr>\n",
       "    <tr>\n",
       "      <th>1</th>\n",
       "      <td>2.00</td>\n",
       "      <td>15.00</td>\n",
       "      <td>Echuca</td>\n",
       "      <td>2016-06-27</td>\n",
       "      <td>R3 1200m Mdn</td>\n",
       "      <td>HVY9</td>\n",
       "      <td>10.00</td>\n",
       "      <td>58.50</td>\n",
       "      <td>21175.00</td>\n",
       "      <td>Gelding</td>\n",
       "      <td>...</td>\n",
       "      <td>1.00</td>\n",
       "      <td>2.00</td>\n",
       "      <td>0.00</td>\n",
       "      <td>1.00</td>\n",
       "      <td>1.00</td>\n",
       "      <td>0.00</td>\n",
       "      <td>0.00</td>\n",
       "      <td>1.00</td>\n",
       "      <td>0.00</td>\n",
       "      <td>1.00</td>\n",
       "    </tr>\n",
       "    <tr>\n",
       "      <th>2</th>\n",
       "      <td>3.00</td>\n",
       "      <td>95.00</td>\n",
       "      <td>Echuca</td>\n",
       "      <td>2016-06-27</td>\n",
       "      <td>R3 1200m Mdn</td>\n",
       "      <td>HVY9</td>\n",
       "      <td>6.00</td>\n",
       "      <td>56.50</td>\n",
       "      <td>28855.00</td>\n",
       "      <td>Mare</td>\n",
       "      <td>...</td>\n",
       "      <td>0.00</td>\n",
       "      <td>5.00</td>\n",
       "      <td>0.00</td>\n",
       "      <td>0.00</td>\n",
       "      <td>3.00</td>\n",
       "      <td>0.00</td>\n",
       "      <td>0.00</td>\n",
       "      <td>4.00</td>\n",
       "      <td>0.00</td>\n",
       "      <td>0.00</td>\n",
       "    </tr>\n",
       "    <tr>\n",
       "      <th>3</th>\n",
       "      <td>nan</td>\n",
       "      <td>20.00</td>\n",
       "      <td>Echuca</td>\n",
       "      <td>2016-06-27</td>\n",
       "      <td>R3 1200m Mdn</td>\n",
       "      <td>HVY9</td>\n",
       "      <td>2.00</td>\n",
       "      <td>56.50</td>\n",
       "      <td>1475.00</td>\n",
       "      <td>Filly</td>\n",
       "      <td>...</td>\n",
       "      <td>0.00</td>\n",
       "      <td>1.00</td>\n",
       "      <td>0.00</td>\n",
       "      <td>0.00</td>\n",
       "      <td>0.00</td>\n",
       "      <td>0.00</td>\n",
       "      <td>0.00</td>\n",
       "      <td>1.00</td>\n",
       "      <td>0.00</td>\n",
       "      <td>0.00</td>\n",
       "    </tr>\n",
       "    <tr>\n",
       "      <th>4</th>\n",
       "      <td>nan</td>\n",
       "      <td>2.74</td>\n",
       "      <td>Echuca</td>\n",
       "      <td>2016-06-27</td>\n",
       "      <td>R3 1200m Mdn</td>\n",
       "      <td>HVY9</td>\n",
       "      <td>7.00</td>\n",
       "      <td>56.50</td>\n",
       "      <td>1215.00</td>\n",
       "      <td>Filly</td>\n",
       "      <td>...</td>\n",
       "      <td>0.00</td>\n",
       "      <td>0.00</td>\n",
       "      <td>0.00</td>\n",
       "      <td>0.00</td>\n",
       "      <td>0.00</td>\n",
       "      <td>0.00</td>\n",
       "      <td>0.00</td>\n",
       "      <td>1.00</td>\n",
       "      <td>0.00</td>\n",
       "      <td>0.00</td>\n",
       "    </tr>\n",
       "  </tbody>\n",
       "</table>\n",
       "<p>5 rows × 38 columns</p>\n",
       "</div>"
      ],
      "text/plain": [
       "   position_again  bf_odds venue_name        date   market_name condition  \\\n",
       "0            1.00     2.88     Echuca  2016-06-27  R3 1200m Mdn      HVY9   \n",
       "1            2.00    15.00     Echuca  2016-06-27  R3 1200m Mdn      HVY9   \n",
       "2            3.00    95.00     Echuca  2016-06-27  R3 1200m Mdn      HVY9   \n",
       "3             nan    20.00     Echuca  2016-06-27  R3 1200m Mdn      HVY9   \n",
       "4             nan     2.74     Echuca  2016-06-27  R3 1200m Mdn      HVY9   \n",
       "\n",
       "   barrier  handicap_weight  prize_money      sex  ...  slow_places  \\\n",
       "0     3.00            58.50      2160.00  Gelding  ...         1.00   \n",
       "1    10.00            58.50     21175.00  Gelding  ...         1.00   \n",
       "2     6.00            56.50     28855.00     Mare  ...         0.00   \n",
       "3     2.00            56.50      1475.00    Filly  ...         0.00   \n",
       "4     7.00            56.50      1215.00    Filly  ...         0.00   \n",
       "\n",
       "  soft_starts soft_wins  soft_places  heavy_starts  heavy_wins  heavy_places  \\\n",
       "0        1.00      0.00         1.00          0.00        0.00          0.00   \n",
       "1        2.00      0.00         1.00          1.00        0.00          0.00   \n",
       "2        5.00      0.00         0.00          3.00        0.00          0.00   \n",
       "3        1.00      0.00         0.00          0.00        0.00          0.00   \n",
       "4        0.00      0.00         0.00          0.00        0.00          0.00   \n",
       "\n",
       "   distance_starts  distance_wins  distance_places  \n",
       "0             1.00           0.00             1.00  \n",
       "1             1.00           0.00             1.00  \n",
       "2             4.00           0.00             0.00  \n",
       "3             1.00           0.00             0.00  \n",
       "4             1.00           0.00             0.00  \n",
       "\n",
       "[5 rows x 38 columns]"
      ]
     },
     "execution_count": 2,
     "metadata": {},
     "output_type": "execute_result"
    }
   ],
   "source": [
    "#There are a lot of issues with the 'position_two' column, so I left it out.\n",
    "#Furthermore, the 'position_again' column is much more consistent and has all relevant win/place information  \n",
    "\n",
    "fields = [\"position_again\",\"bf_odds\",\"venue_name\",\"date\",\"market_name\",\"condition\",\n",
    "          \"barrier\",\"handicap_weight\",\"last_twenty_starts\",\"prize_money\",\"sex\",\n",
    "          \"age\",\"jockey_sex\",\"days_since_last_run\",\"overall_starts\",\"overall_wins\",\n",
    "          \"overall_places\",\"track_starts\",\"track_wins\",\"track_places\",\"firm_starts\",\n",
    "          \"firm_wins\",\"firm_places\",\"good_starts\",\"good_wins\",\"good_places\",\n",
    "          \"slow_starts\",\"slow_wins\",\"slow_places\",\"soft_starts\",\"soft_wins\",\n",
    "          \"soft_places\",\"heavy_starts\",\"heavy_wins\",\"heavy_places\",\"distance_starts\",\n",
    "          \"distance_wins\",\"distance_places\"]\n",
    "\n",
    "#May use \"jockey\",\"trainer\" later\n",
    "\n",
    "df = pd.read_csv(\"horses.csv\", usecols=fields, skipinitialspace=True, low_memory=False)\n",
    "\n",
    "df.head()"
   ]
  },
  {
   "cell_type": "code",
   "execution_count": 3,
   "metadata": {
    "scrolled": false
   },
   "outputs": [],
   "source": [
    "df.date = pd.to_datetime(df.date, format='%Y'+'-'+'%m'+'-'+'%d')\n",
    "\n",
    "#removes numbers from end of 'condition' strings\n",
    "df.condition = df.condition.str.replace('\\d+', '')\n",
    "\n",
    "#renaming condition values so that they're uniform\n",
    "df.condition = df.condition.replace(['HVY','AWT'], ['HEAVY','GOOD']) \n",
    "#AWT equates to a Good surface under some weather conditions\n",
    "\n",
    "#reverses 'last_five_starts' (originally written right-to-left) \n",
    "#so that it's easier to read in the future\n",
    "df.last_twenty_starts = df.last_twenty_starts.str[::-1]"
   ]
  },
  {
   "cell_type": "markdown",
   "metadata": {},
   "source": [
    "## Useful Functions:"
   ]
  },
  {
   "cell_type": "code",
   "execution_count": 4,
   "metadata": {},
   "outputs": [],
   "source": [
    "def column_cleaner(cleaned_df, grouped_df, column_name):\n",
    "    non_null_indices = grouped_df[column_name].apply(lambda x: all(x.notnull()))\n",
    "    \n",
    "    non_null_df = cleaned_df[non_null_indices]\n",
    "    \n",
    "    non_null_grouped = non_null_df.groupby(['date','venue_name','market_name'])\n",
    "    \n",
    "    clean_indices = non_null_grouped[column_name].value_counts(normalize=True,dropna=False).\\\n",
    "        where(lambda x:x != 1).dropna().index.droplevel(column_name)\n",
    "    \n",
    "    new_cleaned_df = non_null_df.loc[clean_indices].drop_duplicates()\n",
    "    return new_cleaned_df\n",
    "\n",
    "def cleaned_win_df(cleaned_df):\n",
    "    win_indices = cleaned_df.position_again.apply(lambda x:x == 1)\n",
    "    \n",
    "    df_cleaned_win = cleaned_df[win_indices]\n",
    "    return df_cleaned_win"
   ]
  },
  {
   "cell_type": "markdown",
   "metadata": {},
   "source": [
    "# Creating new features and dropping others in order to relate horses in each race to one another while allowing the general input of the dataset into a machine learning model:"
   ]
  },
  {
   "cell_type": "markdown",
   "metadata": {},
   "source": [
    "## Creating a distance column from market_name:"
   ]
  },
  {
   "cell_type": "code",
   "execution_count": 5,
   "metadata": {},
   "outputs": [
    {
     "data": {
      "text/plain": [
       "0    1200\n",
       "1    1200\n",
       "2    1200\n",
       "3    1200\n",
       "4    1200\n",
       "Name: distance, dtype: int64"
      ]
     },
     "execution_count": 5,
     "metadata": {},
     "output_type": "execute_result"
    }
   ],
   "source": [
    "new = df.market_name.str.split(expand=True)\n",
    "\n",
    "df['distance'] = new[1].str.rstrip('m')\n",
    "\n",
    "df.distance = df.distance.astype(np.int64)\n",
    "\n",
    "df.distance.head()"
   ]
  },
  {
   "cell_type": "markdown",
   "metadata": {},
   "source": [
    "## Creating general and track, distance, condition-specific 'win_percent' and 'place_percent' columns:"
   ]
  },
  {
   "cell_type": "code",
   "execution_count": 6,
   "metadata": {},
   "outputs": [],
   "source": [
    "#creates overall, track, and distance win_percent and place_percent columns\n",
    "#and drops existing wins and places columns\n",
    "\n",
    "columns_list = [\"overall\",\"track\",\"distance\"]\n",
    "\n",
    "for x in columns_list:\n",
    "    df[x+\"_win_percent\"] = df[x+\"_wins\"]/df[x+\"_starts\"]\n",
    "    \n",
    "    df[x+\"_place_percent\"] = df[x+\"_places\"]/df[x+\"_starts\"]\n",
    "\n",
    "    # dropping various columns, though 'starts' columns will be used later\n",
    "    df.drop([x+'_wins', x+'_places'], axis=1, inplace=True)"
   ]
  },
  {
   "cell_type": "code",
   "execution_count": 7,
   "metadata": {},
   "outputs": [],
   "source": [
    "#creates a condition_starts ,condition_win_percent, and condition_place_percent column\n",
    "#for each horse according to the condition of the track for that race\n",
    "\n",
    "df.loc[df.condition.isna(), \"condition_win_percent\"] = np.nan\n",
    "\n",
    "condition_list = [\"firm\",\"good\",\"slow\",\"soft\",\"heavy\"]\n",
    "\n",
    "for x in condition_list: \n",
    "    df.loc[df.condition.str.lower() == x, \"condition_starts\"] = df[x+\"_starts\"]\n",
    "    \n",
    "    df.loc[df.condition.str.lower() == x, \"condition_win_percent\"] = df[x+\"_wins\"]/df[x+\"_starts\"]\n",
    "    \n",
    "    df.loc[df.condition.str.lower() == x, \"condition_place_percent\"] = df[x+\"_places\"]/df[x+\"_starts\"]\n",
    "    \n",
    "    df.drop([x+'_starts', x+'_wins', x+'_places'], axis=1, inplace=True)\n",
    "\n",
    "# Replaces infinity (zero division) with NaN\n",
    "df.replace([np.inf, -np.inf], np.nan, inplace=True)"
   ]
  },
  {
   "cell_type": "markdown",
   "metadata": {},
   "source": [
    "## Find and drop features that are primarily NaN:"
   ]
  },
  {
   "cell_type": "code",
   "execution_count": 8,
   "metadata": {},
   "outputs": [
    {
     "data": {
      "text/plain": [
       "position_again             158461\n",
       "bf_odds                         0\n",
       "venue_name                      0\n",
       "date                            0\n",
       "market_name                     0\n",
       "condition                   22188\n",
       "barrier                     26289\n",
       "handicap_weight             26289\n",
       "prize_money                 26791\n",
       "sex                         26791\n",
       "age                         26791\n",
       "jockey_sex                  26791\n",
       "last_twenty_starts          37644\n",
       "days_since_last_run         27042\n",
       "overall_starts              27042\n",
       "track_starts                27042\n",
       "distance_starts             27042\n",
       "distance                        0\n",
       "overall_win_percent         37647\n",
       "overall_place_percent       37647\n",
       "track_win_percent          108448\n",
       "track_place_percent        108448\n",
       "distance_win_percent        55956\n",
       "distance_place_percent      55956\n",
       "condition_win_percent       57116\n",
       "condition_starts            29806\n",
       "condition_place_percent     57116\n",
       "dtype: int64"
      ]
     },
     "execution_count": 8,
     "metadata": {},
     "output_type": "execute_result"
    }
   ],
   "source": [
    "df.isnull().sum()\n",
    "#The position_again is primarily nan values because it only shows first and place\n",
    "#However, track_starts is primarily zeros, so the track_win/place_percent columns are nan"
   ]
  },
  {
   "cell_type": "code",
   "execution_count": 9,
   "metadata": {},
   "outputs": [],
   "source": [
    "df.drop(['track_win_percent','track_place_percent'],axis=1,inplace=True)"
   ]
  },
  {
   "cell_type": "code",
   "execution_count": 10,
   "metadata": {},
   "outputs": [
    {
     "data": {
      "text/plain": [
       "array([ 1.,  2.,  3., nan,  5.,  4.])"
      ]
     },
     "execution_count": 10,
     "metadata": {},
     "output_type": "execute_result"
    }
   ],
   "source": [
    "#position_again unique values\n",
    "df.position_again.unique()"
   ]
  },
  {
   "cell_type": "markdown",
   "metadata": {},
   "source": [
    "## Splits last_five_starts column into 5 separate columns, replaces values, then drops last_five_starts:"
   ]
  },
  {
   "cell_type": "code",
   "execution_count": 11,
   "metadata": {},
   "outputs": [],
   "source": [
    "new = pd.DataFrame()\n",
    "\n",
    "for i in range(20):\n",
    "    new[i] = df.last_twenty_starts.str[i:i+1]\n",
    "\n",
    "for i in range(20):\n",
    "    df['last_start'+str(i+1)] = new[i].replace(['0','','x','f'],['ten+','none','scratch','fell'])    \n",
    "\n",
    "df.drop('last_twenty_starts',axis=1,inplace=True)"
   ]
  },
  {
   "cell_type": "markdown",
   "metadata": {},
   "source": [
    "## Cleaning data by removing races with missing win and/or place values in 'position_again' column:"
   ]
  },
  {
   "cell_type": "code",
   "execution_count": 12,
   "metadata": {},
   "outputs": [],
   "source": [
    "#Used groupby to create indices by which to sort the re-indexed dataframes below, like df_indexed and df_cleaned\n",
    "df_grouped = df.groupby(['date','venue_name','market_name'])\n",
    "\n",
    "#Drops all groups/races in 'position_again' column where sum of values [1st, 2nd, 3rd] don't add to 3 or 6\n",
    "#i.e. 1+2 and 1+2+3\n",
    "index_list1 = df_grouped.position_again.sum(dropna=False).where(lambda x:(x == 3) | (x == 6)).dropna().index\n",
    "\n",
    "df_indexed = df.set_index(['date','venue_name','market_name'])\n",
    "\n",
    "df_cleaned = df_indexed.loc[index_list1].drop_duplicates()\n",
    "\n",
    "df_grouped = df_cleaned.groupby(['date','venue_name','market_name'])\n",
    "\n",
    "#Eliminates remaining errors in 'position_again' column by making sure that there isn't a single 3rd-place finish\n",
    "index_list2 = df_grouped.position_again.value_counts(normalize=True,dropna=False)\\\n",
    "    .where(lambda x:x != 1).dropna().index.droplevel('position_again')\n",
    "\n",
    "df_cleaned = df_cleaned.loc[index_list2].drop_duplicates()\n",
    "\n",
    "df_grouped = df_cleaned.groupby(['date','venue_name','market_name'])"
   ]
  },
  {
   "cell_type": "markdown",
   "metadata": {},
   "source": [
    "# Normalizing each group (race) using z-scores is a good and straightforward way to compare horses across races.\n",
    "\n",
    "## Here, I am creating several normalized columns in this way."
   ]
  },
  {
   "cell_type": "markdown",
   "metadata": {},
   "source": [
    "## Creating a weight_z column:"
   ]
  },
  {
   "cell_type": "code",
   "execution_count": 13,
   "metadata": {},
   "outputs": [],
   "source": [
    "df_cleaned['weight_z'] = df_grouped['handicap_weight'].transform(lambda x: zscore(x,ddof=1))\n",
    "\n",
    "df_cleaned.drop('handicap_weight',axis=1,inplace=True)\n",
    "\n",
    "df_grouped = df_cleaned.groupby(['date','venue_name','market_name'])"
   ]
  },
  {
   "cell_type": "markdown",
   "metadata": {},
   "source": [
    "## Creating a prize_money_per_start_z column:\n",
    "\n",
    "### This may be one of the best indicators, as prize money is also an indicator of the difficulty of past races. Therefore, the value (meaningfulness) of past wins is taken into consideration."
   ]
  },
  {
   "cell_type": "code",
   "execution_count": 14,
   "metadata": {},
   "outputs": [],
   "source": [
    "#creates prize_money_per_start column\n",
    "df_cleaned['prize_money_per_start'] = df_cleaned.prize_money/df_cleaned.overall_starts\n",
    "\n",
    "df_cleaned['prize_money_per_start_z'] = df_grouped['prize_money_per_start']\\\n",
    "    .transform(lambda x: zscore(x,ddof=1))\n",
    "\n",
    "df_cleaned.drop(['prize_money','prize_money_per_start'],axis=1,inplace=True)\n",
    "\n",
    "df_grouped = df_cleaned.groupby(['date','venue_name','market_name'])"
   ]
  },
  {
   "cell_type": "markdown",
   "metadata": {},
   "source": [
    "## Creating a horse age_z column:"
   ]
  },
  {
   "cell_type": "code",
   "execution_count": 15,
   "metadata": {},
   "outputs": [],
   "source": [
    "df_cleaned['age_z'] = df_grouped['age'].transform(lambda x: zscore(x,ddof=1))\n",
    "\n",
    "df_cleaned.drop('age',axis=1,inplace=True)\n",
    "\n",
    "df_grouped = df_cleaned.groupby(['date','venue_name','market_name'])"
   ]
  },
  {
   "cell_type": "markdown",
   "metadata": {},
   "source": [
    "## Creating race-relative z-scores for the remaining continuous features:"
   ]
  },
  {
   "cell_type": "code",
   "execution_count": 16,
   "metadata": {},
   "outputs": [],
   "source": [
    "z_score_cols = ['days_since_last_run','overall_win_percent','overall_place_percent',\n",
    "                'distance_win_percent','distance_place_percent','condition_win_percent',\n",
    "                'condition_place_percent','overall_starts','distance_starts','condition_starts',\n",
    "                'track_starts']\n",
    "\n",
    "for col in z_score_cols:\n",
    "    df_cleaned[col+'_z'] = df_grouped[col].transform(lambda x: zscore(x,ddof=1))"
   ]
  },
  {
   "cell_type": "markdown",
   "metadata": {},
   "source": [
    "## I decided to keep the original \"overall_starts,\" \"distance_starts,\" \"condition_starts,\" and \"track_starts\" columns because they may have a meaning irrespective of other races."
   ]
  },
  {
   "cell_type": "code",
   "execution_count": 17,
   "metadata": {
    "scrolled": true
   },
   "outputs": [
    {
     "data": {
      "text/html": [
       "<div>\n",
       "<style scoped>\n",
       "    .dataframe tbody tr th:only-of-type {\n",
       "        vertical-align: middle;\n",
       "    }\n",
       "\n",
       "    .dataframe tbody tr th {\n",
       "        vertical-align: top;\n",
       "    }\n",
       "\n",
       "    .dataframe thead th {\n",
       "        text-align: right;\n",
       "    }\n",
       "</style>\n",
       "<table border=\"1\" class=\"dataframe\">\n",
       "  <thead>\n",
       "    <tr style=\"text-align: right;\">\n",
       "      <th></th>\n",
       "      <th></th>\n",
       "      <th></th>\n",
       "      <th>position_again</th>\n",
       "      <th>bf_odds</th>\n",
       "      <th>condition</th>\n",
       "      <th>barrier</th>\n",
       "      <th>sex</th>\n",
       "      <th>jockey_sex</th>\n",
       "      <th>days_since_last_run</th>\n",
       "      <th>overall_starts</th>\n",
       "      <th>track_starts</th>\n",
       "      <th>distance_starts</th>\n",
       "      <th>...</th>\n",
       "      <th>overall_win_percent_z</th>\n",
       "      <th>overall_place_percent_z</th>\n",
       "      <th>distance_win_percent_z</th>\n",
       "      <th>distance_place_percent_z</th>\n",
       "      <th>condition_win_percent_z</th>\n",
       "      <th>condition_place_percent_z</th>\n",
       "      <th>overall_starts_z</th>\n",
       "      <th>distance_starts_z</th>\n",
       "      <th>condition_starts_z</th>\n",
       "      <th>track_starts_z</th>\n",
       "    </tr>\n",
       "    <tr>\n",
       "      <th>date</th>\n",
       "      <th>venue_name</th>\n",
       "      <th>market_name</th>\n",
       "      <th></th>\n",
       "      <th></th>\n",
       "      <th></th>\n",
       "      <th></th>\n",
       "      <th></th>\n",
       "      <th></th>\n",
       "      <th></th>\n",
       "      <th></th>\n",
       "      <th></th>\n",
       "      <th></th>\n",
       "      <th></th>\n",
       "      <th></th>\n",
       "      <th></th>\n",
       "      <th></th>\n",
       "      <th></th>\n",
       "      <th></th>\n",
       "      <th></th>\n",
       "      <th></th>\n",
       "      <th></th>\n",
       "      <th></th>\n",
       "      <th></th>\n",
       "    </tr>\n",
       "  </thead>\n",
       "  <tbody>\n",
       "    <tr>\n",
       "      <th rowspan=\"5\" valign=\"top\">2016-06-27</th>\n",
       "      <th rowspan=\"5\" valign=\"top\">Echuca</th>\n",
       "      <th>R10 1400m Hcap</th>\n",
       "      <td>1.00</td>\n",
       "      <td>18.50</td>\n",
       "      <td>HEAVY</td>\n",
       "      <td>12.00</td>\n",
       "      <td>Mare</td>\n",
       "      <td>Male</td>\n",
       "      <td>16.00</td>\n",
       "      <td>26.00</td>\n",
       "      <td>10.00</td>\n",
       "      <td>12.00</td>\n",
       "      <td>...</td>\n",
       "      <td>-0.09</td>\n",
       "      <td>-0.24</td>\n",
       "      <td>0.19</td>\n",
       "      <td>0.50</td>\n",
       "      <td>nan</td>\n",
       "      <td>nan</td>\n",
       "      <td>0.23</td>\n",
       "      <td>0.22</td>\n",
       "      <td>0.98</td>\n",
       "      <td>1.70</td>\n",
       "    </tr>\n",
       "    <tr>\n",
       "      <th>R10 1400m Hcap</th>\n",
       "      <td>2.00</td>\n",
       "      <td>16.50</td>\n",
       "      <td>HEAVY</td>\n",
       "      <td>8.00</td>\n",
       "      <td>Gelding</td>\n",
       "      <td>Male</td>\n",
       "      <td>18.00</td>\n",
       "      <td>12.00</td>\n",
       "      <td>1.00</td>\n",
       "      <td>9.00</td>\n",
       "      <td>...</td>\n",
       "      <td>0.06</td>\n",
       "      <td>-0.12</td>\n",
       "      <td>0.09</td>\n",
       "      <td>0.28</td>\n",
       "      <td>nan</td>\n",
       "      <td>nan</td>\n",
       "      <td>-0.79</td>\n",
       "      <td>-0.15</td>\n",
       "      <td>0.00</td>\n",
       "      <td>-0.61</td>\n",
       "    </tr>\n",
       "    <tr>\n",
       "      <th>R10 1400m Hcap</th>\n",
       "      <td>3.00</td>\n",
       "      <td>11.50</td>\n",
       "      <td>HEAVY</td>\n",
       "      <td>1.00</td>\n",
       "      <td>Gelding</td>\n",
       "      <td>Male</td>\n",
       "      <td>13.00</td>\n",
       "      <td>20.00</td>\n",
       "      <td>7.00</td>\n",
       "      <td>10.00</td>\n",
       "      <td>...</td>\n",
       "      <td>-0.72</td>\n",
       "      <td>1.19</td>\n",
       "      <td>0.01</td>\n",
       "      <td>0.89</td>\n",
       "      <td>nan</td>\n",
       "      <td>nan</td>\n",
       "      <td>-0.21</td>\n",
       "      <td>-0.03</td>\n",
       "      <td>-0.49</td>\n",
       "      <td>0.93</td>\n",
       "    </tr>\n",
       "    <tr>\n",
       "      <th>R10 1400m Hcap</th>\n",
       "      <td>nan</td>\n",
       "      <td>19.00</td>\n",
       "      <td>HEAVY</td>\n",
       "      <td>5.00</td>\n",
       "      <td>Gelding</td>\n",
       "      <td>Male</td>\n",
       "      <td>16.00</td>\n",
       "      <td>31.00</td>\n",
       "      <td>2.00</td>\n",
       "      <td>16.00</td>\n",
       "      <td>...</td>\n",
       "      <td>-0.76</td>\n",
       "      <td>-0.17</td>\n",
       "      <td>-0.04</td>\n",
       "      <td>0.01</td>\n",
       "      <td>nan</td>\n",
       "      <td>nan</td>\n",
       "      <td>0.60</td>\n",
       "      <td>0.72</td>\n",
       "      <td>-0.49</td>\n",
       "      <td>-0.36</td>\n",
       "    </tr>\n",
       "    <tr>\n",
       "      <th>R10 1400m Hcap</th>\n",
       "      <td>nan</td>\n",
       "      <td>7.60</td>\n",
       "      <td>HEAVY</td>\n",
       "      <td>7.00</td>\n",
       "      <td>Mare</td>\n",
       "      <td>Male</td>\n",
       "      <td>13.00</td>\n",
       "      <td>6.00</td>\n",
       "      <td>0.00</td>\n",
       "      <td>3.00</td>\n",
       "      <td>...</td>\n",
       "      <td>2.00</td>\n",
       "      <td>1.52</td>\n",
       "      <td>0.50</td>\n",
       "      <td>1.15</td>\n",
       "      <td>nan</td>\n",
       "      <td>nan</td>\n",
       "      <td>-1.23</td>\n",
       "      <td>-0.90</td>\n",
       "      <td>-0.98</td>\n",
       "      <td>-0.87</td>\n",
       "    </tr>\n",
       "  </tbody>\n",
       "</table>\n",
       "<p>5 rows × 52 columns</p>\n",
       "</div>"
      ],
      "text/plain": [
       "                                      position_again  bf_odds condition  \\\n",
       "date       venue_name market_name                                         \n",
       "2016-06-27 Echuca     R10 1400m Hcap            1.00    18.50     HEAVY   \n",
       "                      R10 1400m Hcap            2.00    16.50     HEAVY   \n",
       "                      R10 1400m Hcap            3.00    11.50     HEAVY   \n",
       "                      R10 1400m Hcap             nan    19.00     HEAVY   \n",
       "                      R10 1400m Hcap             nan     7.60     HEAVY   \n",
       "\n",
       "                                      barrier      sex jockey_sex  \\\n",
       "date       venue_name market_name                                   \n",
       "2016-06-27 Echuca     R10 1400m Hcap    12.00     Mare       Male   \n",
       "                      R10 1400m Hcap     8.00  Gelding       Male   \n",
       "                      R10 1400m Hcap     1.00  Gelding       Male   \n",
       "                      R10 1400m Hcap     5.00  Gelding       Male   \n",
       "                      R10 1400m Hcap     7.00     Mare       Male   \n",
       "\n",
       "                                      days_since_last_run  overall_starts  \\\n",
       "date       venue_name market_name                                           \n",
       "2016-06-27 Echuca     R10 1400m Hcap                16.00           26.00   \n",
       "                      R10 1400m Hcap                18.00           12.00   \n",
       "                      R10 1400m Hcap                13.00           20.00   \n",
       "                      R10 1400m Hcap                16.00           31.00   \n",
       "                      R10 1400m Hcap                13.00            6.00   \n",
       "\n",
       "                                      track_starts  distance_starts  ...  \\\n",
       "date       venue_name market_name                                    ...   \n",
       "2016-06-27 Echuca     R10 1400m Hcap         10.00            12.00  ...   \n",
       "                      R10 1400m Hcap          1.00             9.00  ...   \n",
       "                      R10 1400m Hcap          7.00            10.00  ...   \n",
       "                      R10 1400m Hcap          2.00            16.00  ...   \n",
       "                      R10 1400m Hcap          0.00             3.00  ...   \n",
       "\n",
       "                                      overall_win_percent_z  \\\n",
       "date       venue_name market_name                             \n",
       "2016-06-27 Echuca     R10 1400m Hcap                  -0.09   \n",
       "                      R10 1400m Hcap                   0.06   \n",
       "                      R10 1400m Hcap                  -0.72   \n",
       "                      R10 1400m Hcap                  -0.76   \n",
       "                      R10 1400m Hcap                   2.00   \n",
       "\n",
       "                                      overall_place_percent_z  \\\n",
       "date       venue_name market_name                               \n",
       "2016-06-27 Echuca     R10 1400m Hcap                    -0.24   \n",
       "                      R10 1400m Hcap                    -0.12   \n",
       "                      R10 1400m Hcap                     1.19   \n",
       "                      R10 1400m Hcap                    -0.17   \n",
       "                      R10 1400m Hcap                     1.52   \n",
       "\n",
       "                                      distance_win_percent_z  \\\n",
       "date       venue_name market_name                              \n",
       "2016-06-27 Echuca     R10 1400m Hcap                    0.19   \n",
       "                      R10 1400m Hcap                    0.09   \n",
       "                      R10 1400m Hcap                    0.01   \n",
       "                      R10 1400m Hcap                   -0.04   \n",
       "                      R10 1400m Hcap                    0.50   \n",
       "\n",
       "                                      distance_place_percent_z  \\\n",
       "date       venue_name market_name                                \n",
       "2016-06-27 Echuca     R10 1400m Hcap                      0.50   \n",
       "                      R10 1400m Hcap                      0.28   \n",
       "                      R10 1400m Hcap                      0.89   \n",
       "                      R10 1400m Hcap                      0.01   \n",
       "                      R10 1400m Hcap                      1.15   \n",
       "\n",
       "                                      condition_win_percent_z  \\\n",
       "date       venue_name market_name                               \n",
       "2016-06-27 Echuca     R10 1400m Hcap                      nan   \n",
       "                      R10 1400m Hcap                      nan   \n",
       "                      R10 1400m Hcap                      nan   \n",
       "                      R10 1400m Hcap                      nan   \n",
       "                      R10 1400m Hcap                      nan   \n",
       "\n",
       "                                      condition_place_percent_z  \\\n",
       "date       venue_name market_name                                 \n",
       "2016-06-27 Echuca     R10 1400m Hcap                        nan   \n",
       "                      R10 1400m Hcap                        nan   \n",
       "                      R10 1400m Hcap                        nan   \n",
       "                      R10 1400m Hcap                        nan   \n",
       "                      R10 1400m Hcap                        nan   \n",
       "\n",
       "                                      overall_starts_z  distance_starts_z  \\\n",
       "date       venue_name market_name                                           \n",
       "2016-06-27 Echuca     R10 1400m Hcap              0.23               0.22   \n",
       "                      R10 1400m Hcap             -0.79              -0.15   \n",
       "                      R10 1400m Hcap             -0.21              -0.03   \n",
       "                      R10 1400m Hcap              0.60               0.72   \n",
       "                      R10 1400m Hcap             -1.23              -0.90   \n",
       "\n",
       "                                     condition_starts_z track_starts_z  \n",
       "date       venue_name market_name                                       \n",
       "2016-06-27 Echuca     R10 1400m Hcap               0.98           1.70  \n",
       "                      R10 1400m Hcap               0.00          -0.61  \n",
       "                      R10 1400m Hcap              -0.49           0.93  \n",
       "                      R10 1400m Hcap              -0.49          -0.36  \n",
       "                      R10 1400m Hcap              -0.98          -0.87  \n",
       "\n",
       "[5 rows x 52 columns]"
      ]
     },
     "execution_count": 17,
     "metadata": {},
     "output_type": "execute_result"
    }
   ],
   "source": [
    "#Replaces infinity (zero division) with NaN\n",
    "df_cleaned.replace([np.inf, -np.inf], np.nan, inplace=True)\n",
    "\n",
    "df_grouped = df_cleaned.groupby(['date','venue_name','market_name'])\n",
    "\n",
    "df_cleaned.head()"
   ]
  },
  {
   "cell_type": "markdown",
   "metadata": {},
   "source": [
    "## Cleaned Dataframe Details:"
   ]
  },
  {
   "cell_type": "code",
   "execution_count": 18,
   "metadata": {},
   "outputs": [
    {
     "data": {
      "text/plain": [
       "(205247, 52)"
      ]
     },
     "execution_count": 18,
     "metadata": {},
     "output_type": "execute_result"
    }
   ],
   "source": [
    "df_cleaned.shape"
   ]
  },
  {
   "cell_type": "code",
   "execution_count": 19,
   "metadata": {},
   "outputs": [
    {
     "data": {
      "text/plain": [
       "21589"
      ]
     },
     "execution_count": 19,
     "metadata": {},
     "output_type": "execute_result"
    }
   ],
   "source": [
    "len(df_grouped) #Number of remaining races"
   ]
  },
  {
   "cell_type": "markdown",
   "metadata": {},
   "source": [
    "# Testing and graphing the significance of certain features:"
   ]
  },
  {
   "cell_type": "markdown",
   "metadata": {},
   "source": [
    "## For horse gender:"
   ]
  },
  {
   "cell_type": "code",
   "execution_count": 20,
   "metadata": {},
   "outputs": [],
   "source": [
    "#Removes races where only one horse gender is represented\n",
    "sex_pop_cleaned = column_cleaner(df_cleaned, df_grouped, 'sex')\n",
    "\n",
    "sex_pop_cleaned_win = cleaned_win_df(sex_pop_cleaned)"
   ]
  },
  {
   "cell_type": "code",
   "execution_count": 21,
   "metadata": {},
   "outputs": [
    {
     "data": {
      "text/plain": [
       "Gelding   0.57\n",
       "Mare      0.27\n",
       "Filly     0.13\n",
       "Colt      0.03\n",
       "Horse     0.01\n",
       "Name: sex, dtype: float64"
      ]
     },
     "execution_count": 21,
     "metadata": {},
     "output_type": "execute_result"
    }
   ],
   "source": [
    "#General percentage of horse genders for races where multiple genders are represented  \n",
    "sex_pop_cleaned.sex.value_counts(dropna=False,normalize=True).sort_values(ascending=False)\\\n",
    "    .drop('Unknown')"
   ]
  },
  {
   "cell_type": "code",
   "execution_count": 22,
   "metadata": {},
   "outputs": [
    {
     "data": {
      "text/plain": [
       "Gelding   0.57\n",
       "Mare      0.24\n",
       "Filly     0.14\n",
       "Colt      0.04\n",
       "Horse     0.01\n",
       "Name: sex, dtype: float64"
      ]
     },
     "execution_count": 22,
     "metadata": {},
     "output_type": "execute_result"
    }
   ],
   "source": [
    "sex_pop_cleaned_win.sex.value_counts(dropna=False,normalize=True).sort_values(ascending=False)\\\n",
    "    .drop('Unknown')"
   ]
  },
  {
   "cell_type": "code",
   "execution_count": 23,
   "metadata": {},
   "outputs": [
    {
     "data": {
      "text/plain": [
       "Gelding    0.00\n",
       "Mare      -0.11\n",
       "Filly      0.10\n",
       "Colt       0.49\n",
       "Horse      0.16\n",
       "Name: sex, dtype: float64"
      ]
     },
     "execution_count": 23,
     "metadata": {},
     "output_type": "execute_result"
    }
   ],
   "source": [
    "horse_sex_pop = sex_pop_cleaned.sex.value_counts(dropna=False,normalize=True)\\\n",
    "    .sort_values(ascending=False).drop('Unknown')\n",
    "\n",
    "horse_sex_win = sex_pop_cleaned_win.sex.value_counts(dropna=False,normalize=True)\\\n",
    "    .sort_values(ascending=False).drop('Unknown')\n",
    "\n",
    "horse_sex_percent_difference = (horse_sex_win - horse_sex_pop)/horse_sex_pop\n",
    "\n",
    "horse_sex_percent_difference"
   ]
  },
  {
   "cell_type": "code",
   "execution_count": 24,
   "metadata": {
    "scrolled": true
   },
   "outputs": [
    {
     "data": {
      "image/png": "[encoded data removed]",
      "text/plain": [
       "<Figure size 432x288 with 1 Axes>"
      ]
     },
     "metadata": {
      "needs_background": "light"
     },
     "output_type": "display_data"
    }
   ],
   "source": [
    "index1 = ['Gelding', 'Mare', 'Filly','Colt', 'Horse']\n",
    "\n",
    "df1 = pd.DataFrame({'Total Proportion': horse_sex_pop,'Win Proportion': horse_sex_win ,\n",
    "                    'Percent Difference': horse_sex_percent_difference}, index=index1)\n",
    "\n",
    "ax = df1.plot.bar(rot=0,title='The Significance of Horse Gender')"
   ]
  },
  {
   "cell_type": "markdown",
   "metadata": {},
   "source": [
    "### Using the Pearson's chi-squared, I find horse gender is significant:"
   ]
  },
  {
   "cell_type": "code",
   "execution_count": 25,
   "metadata": {},
   "outputs": [
    {
     "data": {
      "text/plain": [
       "(196.24429401115708, 2.4113691661853285e-41)"
      ]
     },
     "execution_count": 25,
     "metadata": {},
     "output_type": "execute_result"
    }
   ],
   "source": [
    "observed1 = sex_pop_cleaned_win.sex.value_counts().sort_values(ascending=False)\\\n",
    "    .drop('Unknown').values\n",
    "\n",
    "expected_percentages1 = horse_sex_pop.values\n",
    "expected1 = [x*observed1.sum() for x in expected_percentages1]\n",
    "\n",
    "test_stat1, p_value1 = chisquare(observed1, expected1)\n",
    "\n",
    "test_stat1, p_value1"
   ]
  },
  {
   "cell_type": "markdown",
   "metadata": {},
   "source": [
    "## For horse age_z (z-scores):"
   ]
  },
  {
   "cell_type": "code",
   "execution_count": 26,
   "metadata": {},
   "outputs": [],
   "source": [
    "#Removing races where there is only one age\n",
    "age_pop_cleaned = column_cleaner(df_cleaned, df_grouped, 'age_z')\n",
    "\n",
    "age_pop_cleaned_win = cleaned_win_df(age_pop_cleaned)"
   ]
  },
  {
   "cell_type": "code",
   "execution_count": 27,
   "metadata": {},
   "outputs": [
    {
     "data": {
      "text/plain": [
       "count   173889.00\n",
       "mean         0.00\n",
       "std          0.95\n",
       "min         -3.33\n",
       "25%         -0.71\n",
       "50%         -0.17\n",
       "75%          0.63\n",
       "max          3.88\n",
       "Name: age_z, dtype: float64"
      ]
     },
     "execution_count": 27,
     "metadata": {},
     "output_type": "execute_result"
    }
   ],
   "source": [
    "age_pop_cleaned.age_z.describe()"
   ]
  },
  {
   "cell_type": "code",
   "execution_count": 28,
   "metadata": {},
   "outputs": [
    {
     "data": {
      "text/plain": [
       "count   17428.00\n",
       "mean       -0.24\n",
       "std         0.88\n",
       "min        -3.33\n",
       "25%        -0.86\n",
       "50%        -0.41\n",
       "75%         0.30\n",
       "max         3.61\n",
       "Name: age_z, dtype: float64"
      ]
     },
     "execution_count": 28,
     "metadata": {},
     "output_type": "execute_result"
    }
   ],
   "source": [
    "age_pop_cleaned_win.age_z.describe()"
   ]
  },
  {
   "cell_type": "code",
   "execution_count": 29,
   "metadata": {},
   "outputs": [
    {
     "data": {
      "image/png": "[encoded data removed]",
      "text/plain": [
       "<Figure size 432x288 with 1 Axes>"
      ]
     },
     "metadata": {
      "needs_background": "light"
     },
     "output_type": "display_data"
    }
   ],
   "source": [
    "data2a = age_pop_cleaned.age_z.dropna().values\n",
    "data2b = age_pop_cleaned_win.age_z.dropna().values\n",
    "\n",
    "plt.title(\"Winner and Race Distributions of Age Z-scores\", fontsize=15)\n",
    "\n",
    "plt.hist(data2a, density=True, bins=24, range=(-3,3), label='Race Average', \n",
    "         color='b', alpha=.5, edgecolor='k')\n",
    "\n",
    "plt.hist(data2b, density=True, bins=24, range=(-3,3), label='Winner Average',\n",
    "         color='r', alpha=.5, edgecolor='k')\n",
    "\n",
    "plt.legend(loc='upper right')\n",
    "plt.xlabel('Age Z-scores')\n",
    "plt.ylabel('Probability');"
   ]
  },
  {
   "cell_type": "markdown",
   "metadata": {},
   "source": [
    "### Using a 2-sample T-test, I find that Age Z-scores is significant:"
   ]
  },
  {
   "cell_type": "code",
   "execution_count": 30,
   "metadata": {},
   "outputs": [
    {
     "data": {
      "text/plain": [
       "(31.555501940416974, 5.495528873695373e-218)"
      ]
     },
     "execution_count": 30,
     "metadata": {},
     "output_type": "execute_result"
    }
   ],
   "source": [
    "test_stat2, p_value2 = ttest_ind(data2a, data2b)\n",
    "\n",
    "test_stat2, p_value2"
   ]
  },
  {
   "cell_type": "markdown",
   "metadata": {},
   "source": [
    "### Does condition affect the win distribution of age? Specifically, do older horses perform worse in bad conditions?"
   ]
  },
  {
   "cell_type": "code",
   "execution_count": 31,
   "metadata": {},
   "outputs": [],
   "source": [
    "condit_age_pop = age_pop_cleaned[age_pop_cleaned.condition.values == 'HEAVY']"
   ]
  },
  {
   "cell_type": "code",
   "execution_count": 32,
   "metadata": {},
   "outputs": [],
   "source": [
    "condit_age_pop_win = cleaned_win_df(condit_age_pop)"
   ]
  },
  {
   "cell_type": "code",
   "execution_count": 33,
   "metadata": {},
   "outputs": [
    {
     "data": {
      "image/png": "[encoded data removed]",
      "text/plain": [
       "<Figure size 432x288 with 1 Axes>"
      ]
     },
     "metadata": {
      "needs_background": "light"
     },
     "output_type": "display_data"
    }
   ],
   "source": [
    "data2c = condit_age_pop.age_z.dropna().values\n",
    "data2d = condit_age_pop_win.age_z.dropna().values\n",
    "\n",
    "plt.title(\"Winner and Race Distributions of Age Z-scores \\n (Condition Specific)\", fontsize=15)\n",
    "\n",
    "plt.hist(data2c, density=True, bins=24, range=(-3,3), label='Race Average', \n",
    "         color='b', alpha=.5, edgecolor='k')\n",
    "\n",
    "plt.hist(data2d, density=True, bins=24, range=(-3,3), label='Winner Average',\n",
    "         color='r', alpha=.5, edgecolor='k')\n",
    "\n",
    "plt.legend(loc='upper right')\n",
    "plt.xlabel('Age Z-scores')\n",
    "plt.ylabel('Probability');"
   ]
  },
  {
   "cell_type": "markdown",
   "metadata": {},
   "source": [
    "### Condition depended T-test for Age Z-scores: "
   ]
  },
  {
   "cell_type": "code",
   "execution_count": 34,
   "metadata": {},
   "outputs": [
    {
     "data": {
      "text/plain": [
       "(6.335284227796313, 2.4194653311198434e-10)"
      ]
     },
     "execution_count": 34,
     "metadata": {},
     "output_type": "execute_result"
    }
   ],
   "source": [
    "test_stat2, p_value2 = ttest_ind(data2c, data2d)\n",
    "\n",
    "test_stat2, p_value2"
   ]
  },
  {
   "cell_type": "markdown",
   "metadata": {},
   "source": [
    "### It appears as though bad track conditions actually level out the age discrepancies, maybe because they have more experience with those bad conditions."
   ]
  },
  {
   "cell_type": "markdown",
   "metadata": {},
   "source": [
    "## For horse handicap weight_z (z-scores):"
   ]
  },
  {
   "cell_type": "code",
   "execution_count": 35,
   "metadata": {},
   "outputs": [],
   "source": [
    "#Removing races where there is only one age\n",
    "weight_pop_cleaned = column_cleaner(df_cleaned, df_grouped, 'weight_z')\n",
    "\n",
    "weight_pop_cleaned_win = cleaned_win_df(weight_pop_cleaned)"
   ]
  },
  {
   "cell_type": "code",
   "execution_count": 36,
   "metadata": {},
   "outputs": [
    {
     "data": {
      "text/plain": [
       "count   188773.00\n",
       "mean        -0.00\n",
       "std          0.95\n",
       "min         -3.88\n",
       "25%         -0.75\n",
       "50%         -0.06\n",
       "75%          0.74\n",
       "max          3.95\n",
       "Name: weight_z, dtype: float64"
      ]
     },
     "execution_count": 36,
     "metadata": {},
     "output_type": "execute_result"
    }
   ],
   "source": [
    "weight_pop_cleaned.weight_z.describe()"
   ]
  },
  {
   "cell_type": "code",
   "execution_count": 37,
   "metadata": {},
   "outputs": [
    {
     "data": {
      "text/plain": [
       "count   19069.00\n",
       "mean        0.21\n",
       "std         0.95\n",
       "min        -3.88\n",
       "25%        -0.57\n",
       "50%         0.27\n",
       "75%         0.90\n",
       "max         3.53\n",
       "Name: weight_z, dtype: float64"
      ]
     },
     "execution_count": 37,
     "metadata": {},
     "output_type": "execute_result"
    }
   ],
   "source": [
    "weight_pop_cleaned_win.weight_z.describe()"
   ]
  },
  {
   "cell_type": "code",
   "execution_count": 38,
   "metadata": {
    "scrolled": true
   },
   "outputs": [
    {
     "data": {
      "image/png": "[encoded data removed]",
      "text/plain": [
       "<Figure size 432x288 with 1 Axes>"
      ]
     },
     "metadata": {
      "needs_background": "light"
     },
     "output_type": "display_data"
    }
   ],
   "source": [
    "data3a = weight_pop_cleaned.weight_z.dropna().values\n",
    "data3b = weight_pop_cleaned_win.weight_z.dropna().values\n",
    "\n",
    "plt.title(\"Winner and Race Distributions of Weight Z-scores\", fontsize=15)\n",
    "\n",
    "plt.hist(data3a, density=True, bins=24, range=(-3,3), label='Race Average', \n",
    "         color='b', alpha=.5, edgecolor='k')\n",
    "\n",
    "plt.hist(data3b, density=True, bins=24, range=(-3,3), label='Winner Average',\n",
    "         color='r', alpha=.5, edgecolor='k')\n",
    "\n",
    "plt.legend(loc='upper right')\n",
    "plt.xlabel('Weight Z-scores')\n",
    "plt.ylabel('Probability');"
   ]
  },
  {
   "cell_type": "markdown",
   "metadata": {},
   "source": [
    "### Using a 2-sample T-test, again I find that Weight Z-scores is significant:"
   ]
  },
  {
   "cell_type": "code",
   "execution_count": 39,
   "metadata": {},
   "outputs": [
    {
     "data": {
      "text/plain": [
       "(-28.822130207835215, 2.5976728545751035e-182)"
      ]
     },
     "execution_count": 39,
     "metadata": {},
     "output_type": "execute_result"
    }
   ],
   "source": [
    "test_stat3, p_value3 = ttest_ind(data3a, data3b)\n",
    "\n",
    "test_stat3, p_value3"
   ]
  },
  {
   "cell_type": "markdown",
   "metadata": {},
   "source": [
    "## For prize money, using prize_money_per_start_z (z-scores):"
   ]
  },
  {
   "cell_type": "code",
   "execution_count": 40,
   "metadata": {},
   "outputs": [],
   "source": [
    "money_pop_cleaned = column_cleaner(df_cleaned, df_grouped, 'prize_money_per_start_z')\n",
    "\n",
    "money_pop_cleaned_win = cleaned_win_df(weight_pop_cleaned)"
   ]
  },
  {
   "cell_type": "code",
   "execution_count": 41,
   "metadata": {},
   "outputs": [
    {
     "data": {
      "text/plain": [
       "count   150865.00\n",
       "mean         0.00\n",
       "std          0.95\n",
       "min         -2.82\n",
       "25%         -0.66\n",
       "50%         -0.24\n",
       "75%          0.49\n",
       "max          3.84\n",
       "Name: prize_money_per_start_z, dtype: float64"
      ]
     },
     "execution_count": 41,
     "metadata": {},
     "output_type": "execute_result"
    }
   ],
   "source": [
    "money_pop_cleaned.prize_money_per_start_z.describe()"
   ]
  },
  {
   "cell_type": "code",
   "execution_count": 42,
   "metadata": {},
   "outputs": [
    {
     "data": {
      "text/plain": [
       "count   15197.00\n",
       "mean        0.62\n",
       "std         1.04\n",
       "min        -2.13\n",
       "25%        -0.22\n",
       "50%         0.46\n",
       "75%         1.40\n",
       "max         3.83\n",
       "Name: prize_money_per_start_z, dtype: float64"
      ]
     },
     "execution_count": 42,
     "metadata": {},
     "output_type": "execute_result"
    }
   ],
   "source": [
    "#Winner prize money \n",
    "money_pop_cleaned_win.prize_money_per_start_z.describe()"
   ]
  },
  {
   "cell_type": "code",
   "execution_count": 43,
   "metadata": {},
   "outputs": [
    {
     "data": {
      "image/png": "[encoded data removed]",
      "text/plain": [
       "<Figure size 432x288 with 1 Axes>"
      ]
     },
     "metadata": {
      "needs_background": "light"
     },
     "output_type": "display_data"
    }
   ],
   "source": [
    "data4a = money_pop_cleaned.prize_money_per_start_z.dropna().values\n",
    "data4b = money_pop_cleaned_win.prize_money_per_start_z.dropna().values\n",
    "\n",
    "plt.title(\"Winner and Race Distributions of Prize Money per Start Z-scores\",\n",
    "          fontsize=15)\n",
    "\n",
    "plt.hist(data4a, density=True, bins=24, range=(-3,3), label='Race Average',\n",
    "         color='b', alpha=.6, edgecolor='k')\n",
    "\n",
    "plt.hist(data4b, density=True, bins=24, range=(-3,3), label='Winner Average',\n",
    "         color='r', alpha=.5, edgecolor='k')\n",
    "\n",
    "plt.legend(loc='upper right')\n",
    "plt.xlabel('Prize Money per Start Z-scores')\n",
    "plt.ylabel('Probability');"
   ]
  },
  {
   "cell_type": "markdown",
   "metadata": {},
   "source": [
    "### Using a 2-sample T-test, I find that Prize Money per Start Z-scores is significant:\n"
   ]
  },
  {
   "cell_type": "code",
   "execution_count": 44,
   "metadata": {},
   "outputs": [
    {
     "data": {
      "text/plain": [
       "(-76.41990201705845, 0.0)"
      ]
     },
     "execution_count": 44,
     "metadata": {},
     "output_type": "execute_result"
    }
   ],
   "source": [
    "test_stat4, p_value4 = ttest_ind(data4a, data4b)\n",
    "\n",
    "test_stat4, p_value4"
   ]
  },
  {
   "cell_type": "markdown",
   "metadata": {},
   "source": [
    "## For overall wins:"
   ]
  },
  {
   "cell_type": "code",
   "execution_count": 45,
   "metadata": {},
   "outputs": [],
   "source": [
    "overall_win_pop_cleaned = column_cleaner(df_cleaned, df_grouped, 'overall_win_percent_z')\n",
    "\n",
    "overall_win_pop_cleaned_win = cleaned_win_df(overall_win_pop_cleaned)"
   ]
  },
  {
   "cell_type": "code",
   "execution_count": 46,
   "metadata": {},
   "outputs": [
    {
     "data": {
      "text/plain": [
       "count   129668.00\n",
       "mean         0.00\n",
       "std          0.95\n",
       "min         -2.66\n",
       "25%         -0.66\n",
       "50%         -0.21\n",
       "75%          0.53\n",
       "max          3.75\n",
       "Name: overall_win_percent_z, dtype: float64"
      ]
     },
     "execution_count": 46,
     "metadata": {},
     "output_type": "execute_result"
    }
   ],
   "source": [
    "overall_win_pop_cleaned.overall_win_percent_z.describe()"
   ]
  },
  {
   "cell_type": "code",
   "execution_count": 47,
   "metadata": {},
   "outputs": [
    {
     "data": {
      "text/plain": [
       "count   13167.00\n",
       "mean        0.31\n",
       "std         1.02\n",
       "min        -2.65\n",
       "25%        -0.46\n",
       "50%         0.13\n",
       "75%         1.01\n",
       "max         3.59\n",
       "Name: overall_win_percent_z, dtype: float64"
      ]
     },
     "execution_count": 47,
     "metadata": {},
     "output_type": "execute_result"
    }
   ],
   "source": [
    "overall_win_pop_cleaned_win.overall_win_percent_z.describe()"
   ]
  },
  {
   "cell_type": "code",
   "execution_count": 48,
   "metadata": {},
   "outputs": [
    {
     "data": {
      "image/png": "[encoded data removed]",
      "text/plain": [
       "<Figure size 432x288 with 1 Axes>"
      ]
     },
     "metadata": {
      "needs_background": "light"
     },
     "output_type": "display_data"
    }
   ],
   "source": [
    "data5a = overall_win_pop_cleaned.overall_win_percent_z.dropna().values\n",
    "data5b = overall_win_pop_cleaned_win.overall_win_percent_z.dropna().values\n",
    "\n",
    "plt.title(\"Winner and Race Distributions of Overall Win Percent Z-scores\",\n",
    "          fontsize=15)\n",
    "\n",
    "plt.hist(data5a, density=True, bins=24, range=(-3,3), label='Race Average',\n",
    "         color='b', alpha=.6, edgecolor='k')\n",
    "\n",
    "plt.hist(data5b, density=True, bins=24, range=(-3,3), label='Winner Average',\n",
    "         color='r', alpha=.5, edgecolor='k')\n",
    "\n",
    "plt.legend(loc='upper right')\n",
    "plt.xlabel('Overall Win Percent Z-scores')\n",
    "plt.ylabel('Probability');"
   ]
  },
  {
   "cell_type": "markdown",
   "metadata": {},
   "source": [
    "### Using a 2-sample T-test, I find that Overall Win Percent Z-scores is significant:"
   ]
  },
  {
   "cell_type": "code",
   "execution_count": 49,
   "metadata": {},
   "outputs": [
    {
     "data": {
      "text/plain": [
       "(-35.60594650187907, 1.8659451269816977e-276)"
      ]
     },
     "execution_count": 49,
     "metadata": {},
     "output_type": "execute_result"
    }
   ],
   "source": [
    "test_stat5, p_value5 = ttest_ind(data5a, data5b)\n",
    "\n",
    "test_stat5, p_value5"
   ]
  },
  {
   "cell_type": "markdown",
   "metadata": {},
   "source": [
    "### There is high variance in the 100% column (aka beginner's luck). How many races before the 100% column is properly represented? That is, how many races is considered statistically significant?\n",
    "\n",
    "### It seems that a minimum of 5 races for all horses in the race gives the percent difference bar graph an exponential appearance."
   ]
  },
  {
   "cell_type": "code",
   "execution_count": 50,
   "metadata": {},
   "outputs": [],
   "source": [
    "overall_win_pop_grouped = overall_win_pop_cleaned.groupby(['date','venue_name',\n",
    "                                                           'market_name'])\n",
    "\n",
    "overall_starts_indices = overall_win_pop_grouped.overall_starts.agg('min')\\\n",
    "    .where(lambda x:x >= 5).dropna().index\n",
    "\n",
    "overall_starts_cleaned = overall_win_pop_cleaned.loc[overall_starts_indices].drop_duplicates()\n",
    "\n",
    "overall_starts_cleaned_win = cleaned_win_df(overall_starts_cleaned)"
   ]
  },
  {
   "cell_type": "code",
   "execution_count": 51,
   "metadata": {},
   "outputs": [
    {
     "data": {
      "text/plain": [
       "count   85608.00\n",
       "mean        0.00\n",
       "std         0.95\n",
       "min        -2.66\n",
       "25%        -0.69\n",
       "50%        -0.15\n",
       "75%         0.59\n",
       "max         3.40\n",
       "Name: overall_win_percent_z, dtype: float64"
      ]
     },
     "execution_count": 51,
     "metadata": {},
     "output_type": "execute_result"
    }
   ],
   "source": [
    "overall_starts_cleaned.overall_win_percent_z.describe()"
   ]
  },
  {
   "cell_type": "code",
   "execution_count": 52,
   "metadata": {},
   "outputs": [
    {
     "data": {
      "text/plain": [
       "count   8806.00\n",
       "mean       0.30\n",
       "std        1.00\n",
       "min       -2.65\n",
       "25%       -0.46\n",
       "50%        0.18\n",
       "75%        1.01\n",
       "max        3.40\n",
       "Name: overall_win_percent_z, dtype: float64"
      ]
     },
     "execution_count": 52,
     "metadata": {},
     "output_type": "execute_result"
    }
   ],
   "source": [
    "overall_starts_cleaned_win.overall_win_percent_z.describe()"
   ]
  },
  {
   "cell_type": "code",
   "execution_count": 53,
   "metadata": {},
   "outputs": [
    {
     "data": {
      "image/png": "[encoded data removed]",
      "text/plain": [
       "<Figure size 432x288 with 1 Axes>"
      ]
     },
     "metadata": {
      "needs_background": "light"
     },
     "output_type": "display_data"
    }
   ],
   "source": [
    "data6a = overall_starts_cleaned.overall_win_percent_z.dropna().values\n",
    "data6b = overall_starts_cleaned_win.overall_win_percent_z.dropna().values\n",
    "\n",
    "plt.title(\"Winner and Race Distributions of Overall Win Percent Z-scores \\n (with horses over 5 total races)\",\n",
    "          fontsize=15)\n",
    "\n",
    "plt.hist(data6a, density=True, bins=24, range=(-3,3), label='Race Average',\n",
    "         color='b', alpha=.6, edgecolor='k')\n",
    "\n",
    "plt.hist(data6b, density=True, bins=24, range=(-3,3), label='Winner Average',\n",
    "         color='r', alpha=.5, edgecolor='k')\n",
    "\n",
    "plt.legend(loc='upper right')\n",
    "plt.xlabel('Overall Win Percent Z-scores \\n (with horses over 5 total races)')\n",
    "plt.ylabel('Probability');"
   ]
  },
  {
   "cell_type": "markdown",
   "metadata": {},
   "source": [
    "### Using a 2-sample T-test, I find that Overall Win Percent Z-scores (with horses over 5 total races) is significant:"
   ]
  },
  {
   "cell_type": "code",
   "execution_count": 54,
   "metadata": {},
   "outputs": [
    {
     "data": {
      "text/plain": [
       "(-28.057312959704664, 1.6702355295015772e-172)"
      ]
     },
     "execution_count": 54,
     "metadata": {},
     "output_type": "execute_result"
    }
   ],
   "source": [
    "test_stat6, p_value6 = ttest_ind(data6a, data6b)\n",
    "\n",
    "test_stat6, p_value6"
   ]
  },
  {
   "cell_type": "markdown",
   "metadata": {},
   "source": [
    "## For Barrier:"
   ]
  },
  {
   "cell_type": "code",
   "execution_count": 55,
   "metadata": {},
   "outputs": [],
   "source": [
    "barrier_pop_cleaned = column_cleaner(df_cleaned, df_grouped, 'barrier')\n",
    "\n",
    "barrier_grouped = barrier_pop_cleaned.groupby(['date','venue_name','market_name'])\n",
    "\n",
    "barrier_indices = barrier_grouped.barrier.value_counts().where(lambda x:x == 1)\\\n",
    "    .dropna().index.droplevel('barrier')\n",
    "\n",
    "barrier_pop_cleaned = barrier_pop_cleaned.loc[barrier_indices]\n",
    "\n",
    "barrier_pop_cleaned_win = cleaned_win_df(barrier_pop_cleaned)"
   ]
  },
  {
   "cell_type": "code",
   "execution_count": 56,
   "metadata": {},
   "outputs": [
    {
     "data": {
      "text/plain": [
       "1.00     0.22\n",
       "2.00     0.03\n",
       "3.00     0.05\n",
       "4.00     0.09\n",
       "5.00     0.12\n",
       "6.00     0.12\n",
       "7.00    -0.02\n",
       "8.00    -0.10\n",
       "9.00    -0.11\n",
       "10.00   -0.16\n",
       "11.00   -0.19\n",
       "12.00   -0.19\n",
       "13.00   -0.35\n",
       "14.00   -0.36\n",
       "15.00   -0.13\n",
       "16.00   -0.39\n",
       "17.00   -0.15\n",
       "Name: barrier, dtype: float64"
      ]
     },
     "execution_count": 56,
     "metadata": {},
     "output_type": "execute_result"
    }
   ],
   "source": [
    "barrier_pop = barrier_pop_cleaned.barrier.value_counts(normalize=True).sort_index()\\\n",
    "    .drop([18.00,19.00,20.00])\n",
    "\n",
    "barrier_win = barrier_pop_cleaned_win.barrier.value_counts(normalize=True).sort_index()\\\n",
    "    .drop(18.00)\n",
    "\n",
    "barrier_percent_difference = (barrier_win - barrier_pop)/barrier_pop\n",
    "\n",
    "barrier_percent_difference"
   ]
  },
  {
   "cell_type": "code",
   "execution_count": 57,
   "metadata": {},
   "outputs": [
    {
     "data": {
      "image/png": "[encoded data removed]",
      "text/plain": [
       "<Figure size 432x288 with 1 Axes>"
      ]
     },
     "metadata": {
      "needs_background": "light"
     },
     "output_type": "display_data"
    }
   ],
   "source": [
    "index7 = barrier_percent_difference.index\n",
    "\n",
    "df7 = pd.DataFrame({'Total Proportion': barrier_pop,'Win Proportion': barrier_win,\n",
    "                    'Percent Difference': barrier_percent_difference}, index=index7)\n",
    "\n",
    "ax = df7.plot.bar(rot=0, title='The Significance of Barrier')"
   ]
  },
  {
   "cell_type": "markdown",
   "metadata": {},
   "source": [
    "### Why is barrier 1 so overrepresented? Is there a problem with the data? There doesn't appear to be.\n",
    "\n",
    "### Using the Pearson's chi-squared test, I find that barrier is significant:"
   ]
  },
  {
   "cell_type": "code",
   "execution_count": 58,
   "metadata": {},
   "outputs": [
    {
     "data": {
      "text/plain": [
       "(3749.5577711230185, 0.0)"
      ]
     },
     "execution_count": 58,
     "metadata": {},
     "output_type": "execute_result"
    }
   ],
   "source": [
    "observed7 = barrier_pop_cleaned_win.barrier.value_counts().sort_index().drop(18.00).values\n",
    "expected_percentages7 = barrier_pop.values\n",
    "expected7 = [x*observed7.sum() for x in expected_percentages7]\n",
    "\n",
    "test_stat7, p_value7 = chisquare(observed7, expected7)\n",
    "\n",
    "test_stat7, p_value7"
   ]
  },
  {
   "cell_type": "markdown",
   "metadata": {},
   "source": [
    "### Does the length of a race negate or alter the effect of starting barrier?"
   ]
  },
  {
   "cell_type": "code",
   "execution_count": 59,
   "metadata": {},
   "outputs": [],
   "source": [
    "barr_dist_indices = barrier_pop_cleaned.distance.where(lambda x:x>=1800).dropna().index\n",
    "\n",
    "barr_dist_cleaned = barrier_pop_cleaned.loc[barr_dist_indices]\n",
    "\n",
    "barr_dist_cleaned_win = cleaned_win_df(barr_dist_cleaned)"
   ]
  },
  {
   "cell_type": "code",
   "execution_count": 60,
   "metadata": {},
   "outputs": [
    {
     "data": {
      "text/plain": [
       "1.00     0.29\n",
       "2.00    -0.04\n",
       "3.00     0.15\n",
       "4.00     0.09\n",
       "5.00     0.05\n",
       "6.00     0.11\n",
       "7.00     0.09\n",
       "8.00     0.03\n",
       "9.00    -0.04\n",
       "10.00   -0.15\n",
       "11.00   -0.17\n",
       "12.00   -0.29\n",
       "13.00   -0.32\n",
       "14.00   -0.34\n",
       "15.00   -0.47\n",
       "16.00   -0.78\n",
       "17.00     nan\n",
       "Name: barrier, dtype: float64"
      ]
     },
     "execution_count": 60,
     "metadata": {},
     "output_type": "execute_result"
    }
   ],
   "source": [
    "barr_dist_pop = barr_dist_cleaned.barrier.value_counts(normalize=True).sort_index()\\\n",
    "    .drop(18.00)\n",
    "\n",
    "barr_dist_win = barr_dist_cleaned_win.barrier.value_counts(normalize=True).sort_index()\\\n",
    "    .drop(18.00)\n",
    "\n",
    "barr_dist_percent_difference = (barr_dist_win - barr_dist_pop)/barr_dist_pop\n",
    "\n",
    "barr_dist_percent_difference"
   ]
  },
  {
   "cell_type": "code",
   "execution_count": 61,
   "metadata": {},
   "outputs": [
    {
     "data": {
      "image/png": "[encoded data removed]",
      "text/plain": [
       "<Figure size 432x288 with 1 Axes>"
      ]
     },
     "metadata": {
      "needs_background": "light"
     },
     "output_type": "display_data"
    }
   ],
   "source": [
    "index7a = barr_dist_percent_difference.index\n",
    "\n",
    "df7a = pd.DataFrame({'Total Proportion': barr_dist_pop,'Win Proportion': barr_dist_win,\n",
    "                    'Percent Difference': barr_dist_percent_difference}, index=index7a)\n",
    "\n",
    "ax = df7a.plot.bar(rot=0, title='The Significance of Barrier for Races Longer than 1800m')"
   ]
  },
  {
   "cell_type": "markdown",
   "metadata": {},
   "source": [
    "### It appears that there may be an even bigger distinction with barrier 1 with longer race distances. However, the other barriers seem to even out."
   ]
  },
  {
   "cell_type": "markdown",
   "metadata": {},
   "source": [
    "## For jockey gender: "
   ]
  },
  {
   "cell_type": "markdown",
   "metadata": {},
   "source": [
    "#### Overall percentage of men and women in races where both are represented:"
   ]
  },
  {
   "cell_type": "code",
   "execution_count": 62,
   "metadata": {},
   "outputs": [],
   "source": [
    "#Drops races where there is only one jockey gender, meaning that the other gender can't win\n",
    "jockey_sex_cleaned = column_cleaner(df_cleaned, df_grouped, 'jockey_sex')\n",
    "\n",
    "jockey_sex_cleaned_win = cleaned_win_df(jockey_sex_cleaned)"
   ]
  },
  {
   "cell_type": "markdown",
   "metadata": {},
   "source": [
    "#### Finding the total a different way:"
   ]
  },
  {
   "cell_type": "code",
   "execution_count": 63,
   "metadata": {},
   "outputs": [
    {
     "data": {
      "text/plain": [
       "Male     0.75\n",
       "Female   0.25\n",
       "Name: jockey_sex, dtype: float64"
      ]
     },
     "execution_count": 63,
     "metadata": {},
     "output_type": "execute_result"
    }
   ],
   "source": [
    "jockey_sex_cleaned.jockey_sex.value_counts(normalize=True)\n",
    "#This amount is the sum of all 'male' and 'female' jockeys added together and THEN 'normalized'"
   ]
  },
  {
   "cell_type": "markdown",
   "metadata": {},
   "source": [
    "#### Win percentage of those races:"
   ]
  },
  {
   "cell_type": "code",
   "execution_count": 64,
   "metadata": {},
   "outputs": [
    {
     "data": {
      "text/plain": [
       "Male     0.79\n",
       "Female   0.21\n",
       "Name: jockey_sex, dtype: float64"
      ]
     },
     "execution_count": 64,
     "metadata": {},
     "output_type": "execute_result"
    }
   ],
   "source": [
    "#Isolates wins in races with both jockey genders represented\n",
    "jockey_sex_cleaned_win.jockey_sex.value_counts(normalize=True, dropna=False)"
   ]
  },
  {
   "cell_type": "code",
   "execution_count": 65,
   "metadata": {},
   "outputs": [],
   "source": [
    "#Finding the percent difference between win and total\n",
    "jockey_sex_pop = jockey_sex_cleaned.jockey_sex.value_counts(normalize=True,\n",
    "                                                            dropna=False).values\n",
    "\n",
    "jockey_sex_win = jockey_sex_cleaned_win.jockey_sex.value_counts(normalize=True,\n",
    "                                                                dropna=False).values\n",
    "\n",
    "jockey_sex_percent_difference = (jockey_sex_win - jockey_sex_pop)/jockey_sex_pop"
   ]
  },
  {
   "cell_type": "code",
   "execution_count": 66,
   "metadata": {},
   "outputs": [
    {
     "data": {
      "image/png": "[encoded data removed]",
      "text/plain": [
       "<Figure size 432x288 with 1 Axes>"
      ]
     },
     "metadata": {
      "needs_background": "light"
     },
     "output_type": "display_data"
    }
   ],
   "source": [
    "index8 = ['Men','Women']\n",
    "\n",
    "df8 = pd.DataFrame({'Total Proportion': jockey_sex_pop,'Win Proportion': jockey_sex_win ,\n",
    "                    'Percent Difference': jockey_sex_percent_difference}, index=index8)\n",
    "\n",
    "ax = df8.plot.bar(rot=0, title='The Significance of Jockey Gender')"
   ]
  },
  {
   "cell_type": "markdown",
   "metadata": {},
   "source": [
    "### Using a 2-proportion z-test, I find that jockey gender is significant with a p-value of 2.3E-30\n",
    "#### (There is currently a bug with the statsmodels library concering compatibility with scipy, so I used a scientific calculator)"
   ]
  },
  {
   "cell_type": "markdown",
   "metadata": {},
   "source": [
    "## How far back does form (previous finishes) become irrelevant?\n",
    "\n",
    "### The distribution after 1 start:"
   ]
  },
  {
   "cell_type": "code",
   "execution_count": 67,
   "metadata": {},
   "outputs": [],
   "source": [
    "last_start_pop_cleaned = column_cleaner(df_cleaned, df_grouped, 'last_start1')\n",
    "\n",
    "last_start_pop_cleaned_win = cleaned_win_df(last_start_pop_cleaned)"
   ]
  },
  {
   "cell_type": "code",
   "execution_count": 68,
   "metadata": {},
   "outputs": [
    {
     "data": {
      "text/plain": [
       "1          0.47\n",
       "2          0.54\n",
       "3          0.25\n",
       "4          0.09\n",
       "5         -0.07\n",
       "6         -0.17\n",
       "7         -0.23\n",
       "8         -0.34\n",
       "9         -0.44\n",
       "scratch   -0.12\n",
       "ten+      -0.47\n",
       "Name: last_start1, dtype: float64"
      ]
     },
     "execution_count": 68,
     "metadata": {},
     "output_type": "execute_result"
    }
   ],
   "source": [
    "#Finding the percent difference between win and total\n",
    "last_start_pop = last_start_pop_cleaned.last_start1.value_counts(normalize=True,\n",
    "                                                                 dropna=False)\n",
    "\n",
    "last_start_win = last_start_pop_cleaned_win.last_start1.value_counts(normalize=True,\n",
    "                                                                     dropna=False)\n",
    "\n",
    "last_start_percent_difference = (last_start_win - last_start_pop)/last_start_pop\n",
    "\n",
    "last_start_percent_difference"
   ]
  },
  {
   "cell_type": "code",
   "execution_count": 69,
   "metadata": {},
   "outputs": [
    {
     "data": {
      "image/png": "[encoded data removed]",
      "text/plain": [
       "<Figure size 432x288 with 1 Axes>"
      ]
     },
     "metadata": {
      "needs_background": "light"
     },
     "output_type": "display_data"
    }
   ],
   "source": [
    "index9 = ['1','2','3','4','5','6','7','8','9','ten+','scratch','fell','none']\n",
    "\n",
    "df9 = pd.DataFrame({'Total Proportion': last_start_pop,'Win Proportion': last_start_win,\n",
    "                    'Percent Difference': last_start_percent_difference}, index=index9)\n",
    "\n",
    "ax = df9.plot.bar(title='The Significance of Previous Result')"
   ]
  },
  {
   "cell_type": "markdown",
   "metadata": {},
   "source": [
    "### After 5 starts:"
   ]
  },
  {
   "cell_type": "code",
   "execution_count": 70,
   "metadata": {},
   "outputs": [],
   "source": [
    "last_start_pop_cleaned = column_cleaner(df_cleaned, df_grouped, 'last_start5')\n",
    "\n",
    "last_start_pop_cleaned_win = cleaned_win_df(last_start_pop_cleaned)"
   ]
  },
  {
   "cell_type": "code",
   "execution_count": 71,
   "metadata": {},
   "outputs": [],
   "source": [
    "#Finding the percent difference between win and total\n",
    "last_start_pop = last_start_pop_cleaned.last_start5.value_counts(normalize=True,\n",
    "                                                                 dropna=False)\n",
    "\n",
    "last_start_win = last_start_pop_cleaned_win.last_start5.value_counts(normalize=True,\n",
    "                                                                     dropna=False)\n",
    "\n",
    "last_start_percent_difference = (last_start_win - last_start_pop)/last_start_pop"
   ]
  },
  {
   "cell_type": "code",
   "execution_count": 72,
   "metadata": {},
   "outputs": [
    {
     "data": {
      "image/png": "[encoded data removed]",
      "text/plain": [
       "<Figure size 432x288 with 1 Axes>"
      ]
     },
     "metadata": {
      "needs_background": "light"
     },
     "output_type": "display_data"
    }
   ],
   "source": [
    "index10 = ['1','2','3','4','5','6','7','8','9','ten+','scratch','fell','none']\n",
    "\n",
    "df10 = pd.DataFrame({'Total Proportion': last_start_pop,'Win Proportion': last_start_win,\n",
    "                    'Percent Difference': last_start_percent_difference}, index=index10)\n",
    "\n",
    "ax = df10.plot.bar(title='The Significance of 5 Results Ago')"
   ]
  },
  {
   "cell_type": "markdown",
   "metadata": {},
   "source": [
    "### After 10 starts:"
   ]
  },
  {
   "cell_type": "code",
   "execution_count": 73,
   "metadata": {},
   "outputs": [],
   "source": [
    "last_start_pop_cleaned = column_cleaner(df_cleaned, df_grouped, 'last_start10')\n",
    "\n",
    "last_start_pop_cleaned_win = cleaned_win_df(last_start_pop_cleaned)"
   ]
  },
  {
   "cell_type": "code",
   "execution_count": 74,
   "metadata": {},
   "outputs": [],
   "source": [
    "#Finding the percent difference between win and total\n",
    "last_start_pop = last_start_pop_cleaned.last_start10.value_counts(normalize=True,\n",
    "                                                                 dropna=False)\n",
    "\n",
    "last_start_win = last_start_pop_cleaned_win.last_start10.value_counts(normalize=True,\n",
    "                                                                     dropna=False)\n",
    "\n",
    "last_start_percent_difference = (last_start_win - last_start_pop)/last_start_pop"
   ]
  },
  {
   "cell_type": "code",
   "execution_count": 75,
   "metadata": {},
   "outputs": [
    {
     "data": {
      "image/png": "[encoded data removed]",
      "text/plain": [
       "<Figure size 432x288 with 1 Axes>"
      ]
     },
     "metadata": {
      "needs_background": "light"
     },
     "output_type": "display_data"
    }
   ],
   "source": [
    "index11 = ['1','2','3','4','5','6','7','8','9','ten+','scratch','fell','none']\n",
    "\n",
    "df11 = pd.DataFrame({'Total Proportion': last_start_pop,'Win Proportion': last_start_win,\n",
    "                    'Percent Difference': last_start_percent_difference}, index=index11)\n",
    "\n",
    "ax = df11.plot.bar(title='The Significance of 10 Results Ago')"
   ]
  },
  {
   "cell_type": "markdown",
   "metadata": {},
   "source": [
    "### After 13 starts:"
   ]
  },
  {
   "cell_type": "code",
   "execution_count": 76,
   "metadata": {},
   "outputs": [],
   "source": [
    "last_start_pop_cleaned = column_cleaner(df_cleaned, df_grouped, 'last_start13')\n",
    "\n",
    "last_start_pop_cleaned_win = cleaned_win_df(last_start_pop_cleaned)"
   ]
  },
  {
   "cell_type": "code",
   "execution_count": 77,
   "metadata": {},
   "outputs": [
    {
     "data": {
      "text/plain": [
       "1          0.01\n",
       "2         -0.01\n",
       "3         -0.03\n",
       "4         -0.10\n",
       "5         -0.13\n",
       "6         -0.11\n",
       "7         -0.21\n",
       "8         -0.15\n",
       "9         -0.20\n",
       "fell       0.14\n",
       "none       0.22\n",
       "scratch   -0.05\n",
       "ten+      -0.23\n",
       "Name: last_start13, dtype: float64"
      ]
     },
     "execution_count": 77,
     "metadata": {},
     "output_type": "execute_result"
    }
   ],
   "source": [
    "#Finding the percent difference between win and total\n",
    "last_start_pop = last_start_pop_cleaned.last_start13.value_counts(normalize=True,\n",
    "                                                                 dropna=False)\n",
    "\n",
    "last_start_win = last_start_pop_cleaned_win.last_start13.value_counts(normalize=True,\n",
    "                                                                     dropna=False)\n",
    "\n",
    "last_start_percent_difference = (last_start_win - last_start_pop)/last_start_pop\n",
    "\n",
    "last_start_percent_difference"
   ]
  },
  {
   "cell_type": "code",
   "execution_count": 78,
   "metadata": {},
   "outputs": [
    {
     "data": {
      "image/png": "[encoded data removed]",
      "text/plain": [
       "<Figure size 432x288 with 1 Axes>"
      ]
     },
     "metadata": {
      "needs_background": "light"
     },
     "output_type": "display_data"
    }
   ],
   "source": [
    "index11 = ['1','2','3','4','5','6','7','8','9','ten+','scratch','fell','none']\n",
    "\n",
    "df11 = pd.DataFrame({'Total Proportion': last_start_pop,'Win Proportion': last_start_win,\n",
    "                    'Percent Difference': last_start_percent_difference}, index=index11)\n",
    "\n",
    "ax = df11.plot.bar(title='The Significance of 13 Results Ago')"
   ]
  },
  {
   "cell_type": "markdown",
   "metadata": {},
   "source": [
    "# How often would you win and what would be your expected return if you always bet on the favorite?"
   ]
  },
  {
   "cell_type": "code",
   "execution_count": 79,
   "metadata": {},
   "outputs": [],
   "source": [
    "odds_cleaned = column_cleaner(df_cleaned, df_grouped, 'bf_odds')"
   ]
  },
  {
   "cell_type": "code",
   "execution_count": 80,
   "metadata": {},
   "outputs": [
    {
     "data": {
      "text/html": [
       "<div>\n",
       "<style scoped>\n",
       "    .dataframe tbody tr th:only-of-type {\n",
       "        vertical-align: middle;\n",
       "    }\n",
       "\n",
       "    .dataframe tbody tr th {\n",
       "        vertical-align: top;\n",
       "    }\n",
       "\n",
       "    .dataframe thead th {\n",
       "        text-align: right;\n",
       "    }\n",
       "</style>\n",
       "<table border=\"1\" class=\"dataframe\">\n",
       "  <thead>\n",
       "    <tr style=\"text-align: right;\">\n",
       "      <th></th>\n",
       "      <th></th>\n",
       "      <th></th>\n",
       "      <th></th>\n",
       "      <th>position_again</th>\n",
       "      <th>bf_odds</th>\n",
       "      <th>condition</th>\n",
       "      <th>barrier</th>\n",
       "      <th>sex</th>\n",
       "      <th>jockey_sex</th>\n",
       "      <th>days_since_last_run</th>\n",
       "      <th>overall_starts</th>\n",
       "      <th>track_starts</th>\n",
       "      <th>distance_starts</th>\n",
       "      <th>...</th>\n",
       "      <th>overall_win_percent_z</th>\n",
       "      <th>overall_place_percent_z</th>\n",
       "      <th>distance_win_percent_z</th>\n",
       "      <th>distance_place_percent_z</th>\n",
       "      <th>condition_win_percent_z</th>\n",
       "      <th>condition_place_percent_z</th>\n",
       "      <th>overall_starts_z</th>\n",
       "      <th>distance_starts_z</th>\n",
       "      <th>condition_starts_z</th>\n",
       "      <th>track_starts_z</th>\n",
       "    </tr>\n",
       "    <tr>\n",
       "      <th>date</th>\n",
       "      <th>venue_name</th>\n",
       "      <th>market_name</th>\n",
       "      <th>uniq_idx</th>\n",
       "      <th></th>\n",
       "      <th></th>\n",
       "      <th></th>\n",
       "      <th></th>\n",
       "      <th></th>\n",
       "      <th></th>\n",
       "      <th></th>\n",
       "      <th></th>\n",
       "      <th></th>\n",
       "      <th></th>\n",
       "      <th></th>\n",
       "      <th></th>\n",
       "      <th></th>\n",
       "      <th></th>\n",
       "      <th></th>\n",
       "      <th></th>\n",
       "      <th></th>\n",
       "      <th></th>\n",
       "      <th></th>\n",
       "      <th></th>\n",
       "      <th></th>\n",
       "    </tr>\n",
       "  </thead>\n",
       "  <tbody>\n",
       "    <tr>\n",
       "      <th rowspan=\"5\" valign=\"top\">2016-06-27</th>\n",
       "      <th rowspan=\"5\" valign=\"top\">Echuca</th>\n",
       "      <th rowspan=\"5\" valign=\"top\">R10 1400m Hcap</th>\n",
       "      <th>0</th>\n",
       "      <td>1.00</td>\n",
       "      <td>18.50</td>\n",
       "      <td>HEAVY</td>\n",
       "      <td>12.00</td>\n",
       "      <td>Mare</td>\n",
       "      <td>Male</td>\n",
       "      <td>16.00</td>\n",
       "      <td>26.00</td>\n",
       "      <td>10.00</td>\n",
       "      <td>12.00</td>\n",
       "      <td>...</td>\n",
       "      <td>-0.09</td>\n",
       "      <td>-0.24</td>\n",
       "      <td>0.19</td>\n",
       "      <td>0.50</td>\n",
       "      <td>nan</td>\n",
       "      <td>nan</td>\n",
       "      <td>0.23</td>\n",
       "      <td>0.22</td>\n",
       "      <td>0.98</td>\n",
       "      <td>1.70</td>\n",
       "    </tr>\n",
       "    <tr>\n",
       "      <th>1</th>\n",
       "      <td>2.00</td>\n",
       "      <td>16.50</td>\n",
       "      <td>HEAVY</td>\n",
       "      <td>8.00</td>\n",
       "      <td>Gelding</td>\n",
       "      <td>Male</td>\n",
       "      <td>18.00</td>\n",
       "      <td>12.00</td>\n",
       "      <td>1.00</td>\n",
       "      <td>9.00</td>\n",
       "      <td>...</td>\n",
       "      <td>0.06</td>\n",
       "      <td>-0.12</td>\n",
       "      <td>0.09</td>\n",
       "      <td>0.28</td>\n",
       "      <td>nan</td>\n",
       "      <td>nan</td>\n",
       "      <td>-0.79</td>\n",
       "      <td>-0.15</td>\n",
       "      <td>0.00</td>\n",
       "      <td>-0.61</td>\n",
       "    </tr>\n",
       "    <tr>\n",
       "      <th>2</th>\n",
       "      <td>3.00</td>\n",
       "      <td>11.50</td>\n",
       "      <td>HEAVY</td>\n",
       "      <td>1.00</td>\n",
       "      <td>Gelding</td>\n",
       "      <td>Male</td>\n",
       "      <td>13.00</td>\n",
       "      <td>20.00</td>\n",
       "      <td>7.00</td>\n",
       "      <td>10.00</td>\n",
       "      <td>...</td>\n",
       "      <td>-0.72</td>\n",
       "      <td>1.19</td>\n",
       "      <td>0.01</td>\n",
       "      <td>0.89</td>\n",
       "      <td>nan</td>\n",
       "      <td>nan</td>\n",
       "      <td>-0.21</td>\n",
       "      <td>-0.03</td>\n",
       "      <td>-0.49</td>\n",
       "      <td>0.93</td>\n",
       "    </tr>\n",
       "    <tr>\n",
       "      <th>3</th>\n",
       "      <td>nan</td>\n",
       "      <td>19.00</td>\n",
       "      <td>HEAVY</td>\n",
       "      <td>5.00</td>\n",
       "      <td>Gelding</td>\n",
       "      <td>Male</td>\n",
       "      <td>16.00</td>\n",
       "      <td>31.00</td>\n",
       "      <td>2.00</td>\n",
       "      <td>16.00</td>\n",
       "      <td>...</td>\n",
       "      <td>-0.76</td>\n",
       "      <td>-0.17</td>\n",
       "      <td>-0.04</td>\n",
       "      <td>0.01</td>\n",
       "      <td>nan</td>\n",
       "      <td>nan</td>\n",
       "      <td>0.60</td>\n",
       "      <td>0.72</td>\n",
       "      <td>-0.49</td>\n",
       "      <td>-0.36</td>\n",
       "    </tr>\n",
       "    <tr>\n",
       "      <th>4</th>\n",
       "      <td>nan</td>\n",
       "      <td>7.60</td>\n",
       "      <td>HEAVY</td>\n",
       "      <td>7.00</td>\n",
       "      <td>Mare</td>\n",
       "      <td>Male</td>\n",
       "      <td>13.00</td>\n",
       "      <td>6.00</td>\n",
       "      <td>0.00</td>\n",
       "      <td>3.00</td>\n",
       "      <td>...</td>\n",
       "      <td>2.00</td>\n",
       "      <td>1.52</td>\n",
       "      <td>0.50</td>\n",
       "      <td>1.15</td>\n",
       "      <td>nan</td>\n",
       "      <td>nan</td>\n",
       "      <td>-1.23</td>\n",
       "      <td>-0.90</td>\n",
       "      <td>-0.98</td>\n",
       "      <td>-0.87</td>\n",
       "    </tr>\n",
       "  </tbody>\n",
       "</table>\n",
       "<p>5 rows × 52 columns</p>\n",
       "</div>"
      ],
      "text/plain": [
       "                                               position_again  bf_odds  \\\n",
       "date       venue_name market_name    uniq_idx                            \n",
       "2016-06-27 Echuca     R10 1400m Hcap 0                   1.00    18.50   \n",
       "                                     1                   2.00    16.50   \n",
       "                                     2                   3.00    11.50   \n",
       "                                     3                    nan    19.00   \n",
       "                                     4                    nan     7.60   \n",
       "\n",
       "                                              condition  barrier      sex  \\\n",
       "date       venue_name market_name    uniq_idx                               \n",
       "2016-06-27 Echuca     R10 1400m Hcap 0            HEAVY    12.00     Mare   \n",
       "                                     1            HEAVY     8.00  Gelding   \n",
       "                                     2            HEAVY     1.00  Gelding   \n",
       "                                     3            HEAVY     5.00  Gelding   \n",
       "                                     4            HEAVY     7.00     Mare   \n",
       "\n",
       "                                              jockey_sex  days_since_last_run  \\\n",
       "date       venue_name market_name    uniq_idx                                   \n",
       "2016-06-27 Echuca     R10 1400m Hcap 0              Male                16.00   \n",
       "                                     1              Male                18.00   \n",
       "                                     2              Male                13.00   \n",
       "                                     3              Male                16.00   \n",
       "                                     4              Male                13.00   \n",
       "\n",
       "                                               overall_starts  track_starts  \\\n",
       "date       venue_name market_name    uniq_idx                                 \n",
       "2016-06-27 Echuca     R10 1400m Hcap 0                  26.00         10.00   \n",
       "                                     1                  12.00          1.00   \n",
       "                                     2                  20.00          7.00   \n",
       "                                     3                  31.00          2.00   \n",
       "                                     4                   6.00          0.00   \n",
       "\n",
       "                                               distance_starts  ...  \\\n",
       "date       venue_name market_name    uniq_idx                   ...   \n",
       "2016-06-27 Echuca     R10 1400m Hcap 0                   12.00  ...   \n",
       "                                     1                    9.00  ...   \n",
       "                                     2                   10.00  ...   \n",
       "                                     3                   16.00  ...   \n",
       "                                     4                    3.00  ...   \n",
       "\n",
       "                                               overall_win_percent_z  \\\n",
       "date       venue_name market_name    uniq_idx                          \n",
       "2016-06-27 Echuca     R10 1400m Hcap 0                         -0.09   \n",
       "                                     1                          0.06   \n",
       "                                     2                         -0.72   \n",
       "                                     3                         -0.76   \n",
       "                                     4                          2.00   \n",
       "\n",
       "                                               overall_place_percent_z  \\\n",
       "date       venue_name market_name    uniq_idx                            \n",
       "2016-06-27 Echuca     R10 1400m Hcap 0                           -0.24   \n",
       "                                     1                           -0.12   \n",
       "                                     2                            1.19   \n",
       "                                     3                           -0.17   \n",
       "                                     4                            1.52   \n",
       "\n",
       "                                               distance_win_percent_z  \\\n",
       "date       venue_name market_name    uniq_idx                           \n",
       "2016-06-27 Echuca     R10 1400m Hcap 0                           0.19   \n",
       "                                     1                           0.09   \n",
       "                                     2                           0.01   \n",
       "                                     3                          -0.04   \n",
       "                                     4                           0.50   \n",
       "\n",
       "                                               distance_place_percent_z  \\\n",
       "date       venue_name market_name    uniq_idx                             \n",
       "2016-06-27 Echuca     R10 1400m Hcap 0                             0.50   \n",
       "                                     1                             0.28   \n",
       "                                     2                             0.89   \n",
       "                                     3                             0.01   \n",
       "                                     4                             1.15   \n",
       "\n",
       "                                               condition_win_percent_z  \\\n",
       "date       venue_name market_name    uniq_idx                            \n",
       "2016-06-27 Echuca     R10 1400m Hcap 0                             nan   \n",
       "                                     1                             nan   \n",
       "                                     2                             nan   \n",
       "                                     3                             nan   \n",
       "                                     4                             nan   \n",
       "\n",
       "                                               condition_place_percent_z  \\\n",
       "date       venue_name market_name    uniq_idx                              \n",
       "2016-06-27 Echuca     R10 1400m Hcap 0                               nan   \n",
       "                                     1                               nan   \n",
       "                                     2                               nan   \n",
       "                                     3                               nan   \n",
       "                                     4                               nan   \n",
       "\n",
       "                                               overall_starts_z  \\\n",
       "date       venue_name market_name    uniq_idx                     \n",
       "2016-06-27 Echuca     R10 1400m Hcap 0                     0.23   \n",
       "                                     1                    -0.79   \n",
       "                                     2                    -0.21   \n",
       "                                     3                     0.60   \n",
       "                                     4                    -1.23   \n",
       "\n",
       "                                               distance_starts_z  \\\n",
       "date       venue_name market_name    uniq_idx                      \n",
       "2016-06-27 Echuca     R10 1400m Hcap 0                      0.22   \n",
       "                                     1                     -0.15   \n",
       "                                     2                     -0.03   \n",
       "                                     3                      0.72   \n",
       "                                     4                     -0.90   \n",
       "\n",
       "                                              condition_starts_z  \\\n",
       "date       venue_name market_name    uniq_idx                      \n",
       "2016-06-27 Echuca     R10 1400m Hcap 0                      0.98   \n",
       "                                     1                      0.00   \n",
       "                                     2                     -0.49   \n",
       "                                     3                     -0.49   \n",
       "                                     4                     -0.98   \n",
       "\n",
       "                                              track_starts_z  \n",
       "date       venue_name market_name    uniq_idx                 \n",
       "2016-06-27 Echuca     R10 1400m Hcap 0                  1.70  \n",
       "                                     1                 -0.61  \n",
       "                                     2                  0.93  \n",
       "                                     3                 -0.36  \n",
       "                                     4                 -0.87  \n",
       "\n",
       "[5 rows x 52 columns]"
      ]
     },
     "execution_count": 80,
     "metadata": {},
     "output_type": "execute_result"
    }
   ],
   "source": [
    "#creates dataframe with a unique index\n",
    "odds_cleaned['uniq_idx'] = range(len(odds_cleaned))\n",
    "odds_cleaned_uniq_idx = odds_cleaned.set_index('uniq_idx',append=True)\n",
    "uniq_idx_grouped = odds_cleaned_uniq_idx.groupby(['date','venue_name',\n",
    "                                                  'market_name'])\n",
    "\n",
    "odds_cleaned_uniq_idx.head()"
   ]
  },
  {
   "cell_type": "code",
   "execution_count": 81,
   "metadata": {},
   "outputs": [],
   "source": [
    "average = uniq_idx_grouped.bf_odds.agg('min').mean()"
   ]
  },
  {
   "cell_type": "code",
   "execution_count": 82,
   "metadata": {},
   "outputs": [
    {
     "name": "stdout",
     "output_type": "stream",
     "text": [
      "21587\n",
      "7410\n"
     ]
    }
   ],
   "source": [
    "bf_min_indices = uniq_idx_grouped.bf_odds.idxmin\n",
    "    \n",
    "min_odds_cleaned = odds_cleaned_uniq_idx.loc[bf_min_indices].drop_duplicates()\n",
    "\n",
    "min_odds_win = cleaned_win_df(min_odds_cleaned)\n",
    "\n",
    "odds_pop = len(min_odds_cleaned)\n",
    "odds_win = len(min_odds_win)\n",
    "\n",
    "print(len(min_odds_cleaned))\n",
    "print(len(min_odds_win))"
   ]
  },
  {
   "cell_type": "markdown",
   "metadata": {},
   "source": [
    "### How often the favorite wins:"
   ]
  },
  {
   "cell_type": "code",
   "execution_count": 83,
   "metadata": {},
   "outputs": [
    {
     "data": {
      "text/plain": [
       "0.3432621485153101"
      ]
     },
     "execution_count": 83,
     "metadata": {},
     "output_type": "execute_result"
    }
   ],
   "source": [
    "odds_win/odds_pop"
   ]
  },
  {
   "cell_type": "markdown",
   "metadata": {},
   "source": [
    "### The expected return if betting 1 dollar on favorite every race:"
   ]
  },
  {
   "cell_type": "code",
   "execution_count": 84,
   "metadata": {},
   "outputs": [
    {
     "data": {
      "text/plain": [
       "0.4850895692342706"
      ]
     },
     "execution_count": 84,
     "metadata": {},
     "output_type": "execute_result"
    }
   ],
   "source": [
    "-1*(1-odds_win/odds_pop) + average*odds_win/odds_pop"
   ]
  },
  {
   "cell_type": "markdown",
   "metadata": {},
   "source": [
    "# Beginning the Machine Learning Process:"
   ]
  },
  {
   "cell_type": "code",
   "execution_count": 85,
   "metadata": {},
   "outputs": [],
   "source": [
    "df_cleaned.drop(['condition_place_percent_z','condition_win_percent_z',\n",
    "                 'distance_place_percent_z','distance_win_percent_z'],\n",
    "                axis=1,inplace=True)"
   ]
  },
  {
   "cell_type": "code",
   "execution_count": 86,
   "metadata": {},
   "outputs": [],
   "source": [
    "df_cleaned_test = df_cleaned.copy()\n",
    "\n",
    "df_cleaned_test.reset_index(drop=True,inplace=True)"
   ]
  },
  {
   "cell_type": "code",
   "execution_count": 87,
   "metadata": {},
   "outputs": [],
   "source": [
    "#Modifying categorical groups\n",
    "df_cleaned_test.position_again = df_cleaned_test.position_again.replace([2,3,np.nan],\n",
    "                                                                        [0,0,0])\n",
    "\n",
    "categorical_list = ['sex','jockey_sex','condition','barrier']\n",
    "for i in range(20):\n",
    "    categorical_list.append('last_start'+str(i+1)) \n",
    "\n",
    "df_cleaned_test = pd.get_dummies(df_cleaned_test,columns=categorical_list,drop_first=True,dummy_na=1)\n",
    "\n",
    "nan_list1 = ['days_since_last_run_z','overall_starts','prize_money_per_start_z',\n",
    "             'overall_starts_z','overall_win_percent_z','overall_place_percent_z',\n",
    "             'condition_starts_z','distance_starts_z',\"track_starts_z\",\"track_starts\",\n",
    "             \"distance_starts\",\"condition_starts\",'weight_z','age_z','days_since_last_run',\n",
    "             'overall_win_percent','overall_place_percent','distance_win_percent',\n",
    "             'distance_place_percent','condition_win_percent','condition_place_percent']                            \n",
    "\n",
    "for column1 in nan_list1:\n",
    "    df_cleaned_test[str(column1)].fillna(-99, inplace=True)\n",
    "\n",
    "df_cleaned_test = df_cleaned_test.convert_objects(convert_numeric=True)"
   ]
  },
  {
   "cell_type": "code",
   "execution_count": 88,
   "metadata": {},
   "outputs": [
    {
     "data": {
      "text/html": [
       "<div>\n",
       "<style scoped>\n",
       "    .dataframe tbody tr th:only-of-type {\n",
       "        vertical-align: middle;\n",
       "    }\n",
       "\n",
       "    .dataframe tbody tr th {\n",
       "        vertical-align: top;\n",
       "    }\n",
       "\n",
       "    .dataframe thead th {\n",
       "        text-align: right;\n",
       "    }\n",
       "</style>\n",
       "<table border=\"1\" class=\"dataframe\">\n",
       "  <thead>\n",
       "    <tr style=\"text-align: right;\">\n",
       "      <th></th>\n",
       "      <th>position_again</th>\n",
       "      <th>bf_odds</th>\n",
       "      <th>days_since_last_run</th>\n",
       "      <th>overall_starts</th>\n",
       "      <th>track_starts</th>\n",
       "      <th>distance_starts</th>\n",
       "      <th>distance</th>\n",
       "      <th>overall_win_percent</th>\n",
       "      <th>overall_place_percent</th>\n",
       "      <th>distance_win_percent</th>\n",
       "      <th>...</th>\n",
       "      <th>last_start20_5</th>\n",
       "      <th>last_start20_6</th>\n",
       "      <th>last_start20_7</th>\n",
       "      <th>last_start20_8</th>\n",
       "      <th>last_start20_9</th>\n",
       "      <th>last_start20_fell</th>\n",
       "      <th>last_start20_none</th>\n",
       "      <th>last_start20_scratch</th>\n",
       "      <th>last_start20_ten+</th>\n",
       "      <th>last_start20_nan</th>\n",
       "    </tr>\n",
       "  </thead>\n",
       "  <tbody>\n",
       "    <tr>\n",
       "      <th>0</th>\n",
       "      <td>1.00</td>\n",
       "      <td>18.50</td>\n",
       "      <td>16.00</td>\n",
       "      <td>26.00</td>\n",
       "      <td>10.00</td>\n",
       "      <td>12.00</td>\n",
       "      <td>1400</td>\n",
       "      <td>0.15</td>\n",
       "      <td>0.15</td>\n",
       "      <td>0.25</td>\n",
       "      <td>...</td>\n",
       "      <td>0</td>\n",
       "      <td>0</td>\n",
       "      <td>0</td>\n",
       "      <td>0</td>\n",
       "      <td>0</td>\n",
       "      <td>0</td>\n",
       "      <td>0</td>\n",
       "      <td>0</td>\n",
       "      <td>0</td>\n",
       "      <td>0</td>\n",
       "    </tr>\n",
       "    <tr>\n",
       "      <th>1</th>\n",
       "      <td>0.00</td>\n",
       "      <td>16.50</td>\n",
       "      <td>18.00</td>\n",
       "      <td>12.00</td>\n",
       "      <td>1.00</td>\n",
       "      <td>9.00</td>\n",
       "      <td>1400</td>\n",
       "      <td>0.17</td>\n",
       "      <td>0.17</td>\n",
       "      <td>0.22</td>\n",
       "      <td>...</td>\n",
       "      <td>0</td>\n",
       "      <td>0</td>\n",
       "      <td>0</td>\n",
       "      <td>0</td>\n",
       "      <td>0</td>\n",
       "      <td>0</td>\n",
       "      <td>1</td>\n",
       "      <td>0</td>\n",
       "      <td>0</td>\n",
       "      <td>0</td>\n",
       "    </tr>\n",
       "    <tr>\n",
       "      <th>2</th>\n",
       "      <td>0.00</td>\n",
       "      <td>11.50</td>\n",
       "      <td>13.00</td>\n",
       "      <td>20.00</td>\n",
       "      <td>7.00</td>\n",
       "      <td>10.00</td>\n",
       "      <td>1400</td>\n",
       "      <td>0.10</td>\n",
       "      <td>0.30</td>\n",
       "      <td>0.20</td>\n",
       "      <td>...</td>\n",
       "      <td>0</td>\n",
       "      <td>0</td>\n",
       "      <td>0</td>\n",
       "      <td>0</td>\n",
       "      <td>0</td>\n",
       "      <td>0</td>\n",
       "      <td>0</td>\n",
       "      <td>0</td>\n",
       "      <td>0</td>\n",
       "      <td>0</td>\n",
       "    </tr>\n",
       "    <tr>\n",
       "      <th>3</th>\n",
       "      <td>0.00</td>\n",
       "      <td>19.00</td>\n",
       "      <td>16.00</td>\n",
       "      <td>31.00</td>\n",
       "      <td>2.00</td>\n",
       "      <td>16.00</td>\n",
       "      <td>1400</td>\n",
       "      <td>0.10</td>\n",
       "      <td>0.16</td>\n",
       "      <td>0.19</td>\n",
       "      <td>...</td>\n",
       "      <td>1</td>\n",
       "      <td>0</td>\n",
       "      <td>0</td>\n",
       "      <td>0</td>\n",
       "      <td>0</td>\n",
       "      <td>0</td>\n",
       "      <td>0</td>\n",
       "      <td>0</td>\n",
       "      <td>0</td>\n",
       "      <td>0</td>\n",
       "    </tr>\n",
       "    <tr>\n",
       "      <th>4</th>\n",
       "      <td>0.00</td>\n",
       "      <td>7.60</td>\n",
       "      <td>13.00</td>\n",
       "      <td>6.00</td>\n",
       "      <td>0.00</td>\n",
       "      <td>3.00</td>\n",
       "      <td>1400</td>\n",
       "      <td>0.33</td>\n",
       "      <td>0.33</td>\n",
       "      <td>0.33</td>\n",
       "      <td>...</td>\n",
       "      <td>0</td>\n",
       "      <td>0</td>\n",
       "      <td>0</td>\n",
       "      <td>0</td>\n",
       "      <td>0</td>\n",
       "      <td>0</td>\n",
       "      <td>1</td>\n",
       "      <td>0</td>\n",
       "      <td>0</td>\n",
       "      <td>0</td>\n",
       "    </tr>\n",
       "  </tbody>\n",
       "</table>\n",
       "<p>5 rows × 313 columns</p>\n",
       "</div>"
      ],
      "text/plain": [
       "   position_again  bf_odds  days_since_last_run  overall_starts  track_starts  \\\n",
       "0            1.00    18.50                16.00           26.00         10.00   \n",
       "1            0.00    16.50                18.00           12.00          1.00   \n",
       "2            0.00    11.50                13.00           20.00          7.00   \n",
       "3            0.00    19.00                16.00           31.00          2.00   \n",
       "4            0.00     7.60                13.00            6.00          0.00   \n",
       "\n",
       "   distance_starts  distance  overall_win_percent  overall_place_percent  \\\n",
       "0            12.00      1400                 0.15                   0.15   \n",
       "1             9.00      1400                 0.17                   0.17   \n",
       "2            10.00      1400                 0.10                   0.30   \n",
       "3            16.00      1400                 0.10                   0.16   \n",
       "4             3.00      1400                 0.33                   0.33   \n",
       "\n",
       "   distance_win_percent  ...  last_start20_5  last_start20_6  last_start20_7  \\\n",
       "0                  0.25  ...               0               0               0   \n",
       "1                  0.22  ...               0               0               0   \n",
       "2                  0.20  ...               0               0               0   \n",
       "3                  0.19  ...               1               0               0   \n",
       "4                  0.33  ...               0               0               0   \n",
       "\n",
       "   last_start20_8  last_start20_9  last_start20_fell  last_start20_none  \\\n",
       "0               0               0                  0                  0   \n",
       "1               0               0                  0                  1   \n",
       "2               0               0                  0                  0   \n",
       "3               0               0                  0                  0   \n",
       "4               0               0                  0                  1   \n",
       "\n",
       "   last_start20_scratch  last_start20_ten+  last_start20_nan  \n",
       "0                     0                  0                 0  \n",
       "1                     0                  0                 0  \n",
       "2                     0                  0                 0  \n",
       "3                     0                  0                 0  \n",
       "4                     0                  0                 0  \n",
       "\n",
       "[5 rows x 313 columns]"
      ]
     },
     "execution_count": 88,
     "metadata": {},
     "output_type": "execute_result"
    }
   ],
   "source": [
    "df_cleaned_test.head()"
   ]
  },
  {
   "cell_type": "code",
   "execution_count": 89,
   "metadata": {},
   "outputs": [
    {
     "data": {
      "text/plain": [
       "position_again             0\n",
       "bf_odds                    0\n",
       "days_since_last_run        0\n",
       "overall_starts             0\n",
       "track_starts               0\n",
       "distance_starts            0\n",
       "distance                   0\n",
       "overall_win_percent        0\n",
       "overall_place_percent      0\n",
       "distance_win_percent       0\n",
       "distance_place_percent     0\n",
       "condition_win_percent      0\n",
       "condition_starts           0\n",
       "condition_place_percent    0\n",
       "weight_z                   0\n",
       "prize_money_per_start_z    0\n",
       "age_z                      0\n",
       "days_since_last_run_z      0\n",
       "overall_win_percent_z      0\n",
       "overall_place_percent_z    0\n",
       "overall_starts_z           0\n",
       "distance_starts_z          0\n",
       "condition_starts_z         0\n",
       "track_starts_z             0\n",
       "sex_Filly                  0\n",
       "sex_Gelding                0\n",
       "sex_Horse                  0\n",
       "sex_Mare                   0\n",
       "sex_Unknown                0\n",
       "sex_nan                    0\n",
       "                          ..\n",
       "last_start18_none          0\n",
       "last_start18_scratch       0\n",
       "last_start18_ten+          0\n",
       "last_start18_nan           0\n",
       "last_start19_2             0\n",
       "last_start19_3             0\n",
       "last_start19_4             0\n",
       "last_start19_5             0\n",
       "last_start19_6             0\n",
       "last_start19_7             0\n",
       "last_start19_8             0\n",
       "last_start19_9             0\n",
       "last_start19_fell          0\n",
       "last_start19_none          0\n",
       "last_start19_scratch       0\n",
       "last_start19_ten+          0\n",
       "last_start19_nan           0\n",
       "last_start20_2             0\n",
       "last_start20_3             0\n",
       "last_start20_4             0\n",
       "last_start20_5             0\n",
       "last_start20_6             0\n",
       "last_start20_7             0\n",
       "last_start20_8             0\n",
       "last_start20_9             0\n",
       "last_start20_fell          0\n",
       "last_start20_none          0\n",
       "last_start20_scratch       0\n",
       "last_start20_ten+          0\n",
       "last_start20_nan           0\n",
       "Length: 313, dtype: int64"
      ]
     },
     "execution_count": 89,
     "metadata": {},
     "output_type": "execute_result"
    }
   ],
   "source": [
    "df_cleaned_test.isnull().sum()"
   ]
  },
  {
   "cell_type": "markdown",
   "metadata": {},
   "source": [
    "## Shuffling and splitting the grouped data:"
   ]
  },
  {
   "cell_type": "code",
   "execution_count": 90,
   "metadata": {},
   "outputs": [],
   "source": [
    "X = df_cleaned_test.drop(['position_again','bf_odds'],axis=1)\n",
    "y = df_cleaned_test['position_again']"
   ]
  },
  {
   "cell_type": "code",
   "execution_count": 91,
   "metadata": {},
   "outputs": [],
   "source": [
    "#classifiers\n",
    "from sklearn.ensemble import RandomForestClassifier,AdaBoostClassifier,\\\n",
    "    GradientBoostingClassifier\n",
    "\n",
    "from sklearn.neural_network import MLPClassifier\n",
    "\n",
    "from sklearn.linear_model import LogisticRegression\n",
    "\n",
    "from sklearn.naive_bayes import GaussianNB\n",
    "\n",
    "from sklearn.discriminant_analysis import QuadraticDiscriminantAnalysis\n",
    "\n",
    "from sklearn.tree import DecisionTreeClassifier\n",
    "\n",
    "import xgboost as xgb\n",
    "\n",
    "#for function below\n",
    "from sklearn.model_selection import KFold\n",
    "from time import time\n",
    "from sklearn.metrics import make_scorer,confusion_matrix,accuracy_score,\\\n",
    "    precision_score,recall_score,f1_score,roc_auc_score,matthews_corrcoef"
   ]
  },
  {
   "cell_type": "code",
   "execution_count": 92,
   "metadata": {},
   "outputs": [],
   "source": [
    "clf_A = GaussianNB()\n",
    "\n",
    "clf_B = LogisticRegression(random_state=0)\n",
    "\n",
    "clf_C = QuadraticDiscriminantAnalysis()\n",
    "\n",
    "clf_D = RandomForestClassifier(random_state=0,max_depth=100)\n",
    "\n",
    "clf_E = MLPClassifier(random_state=0)\n",
    "\n",
    "clf_F = DecisionTreeClassifier(random_state=0,max_depth=5)\n",
    "\n",
    "clf_H = GradientBoostingClassifier(random_state=0)\n",
    "\n",
    "clf_I = AdaBoostClassifier(random_state=0)\n",
    "\n",
    "clf_J = xgb.XGBClassifier(random_state=0)"
   ]
  },
  {
   "cell_type": "code",
   "execution_count": 104,
   "metadata": {},
   "outputs": [],
   "source": [
    "def metrics_function(target,pred):\n",
    "    return accuracy_score(target, pred),precision_score(target, pred),\\\n",
    "        recall_score(target, pred),f1_score(target, pred),\\\n",
    "        roc_auc_score(target, pred),matthews_corrcoef(target, pred)\n",
    "\n",
    "def FOLD_TEST(clf,X_all,y_all,folds_num,row_factor):\n",
    "    start=time()\n",
    "    \n",
    "    KFLD=KFold(n_splits=folds_num,random_state=0,shuffle=True)\n",
    "    print ('{}:'.format(clf.__class__.__name__),'\\n')\n",
    "    \n",
    "    acc_list_train=[]\n",
    "    acc_list_test=[]\n",
    "    prc_list_train=[]\n",
    "    prc_list_test=[]\n",
    "    rcal_list_train=[]\n",
    "    rcal_list_test=[]\n",
    "    f1_list_train=[]\n",
    "    f1_list_test=[]\n",
    "    matt_list_train=[]\n",
    "    matt_list_test=[]\n",
    "    AUC_list_train=[]\n",
    "    AUC_list_test=[]\n",
    "    \n",
    "    samp_size=X_all.shape[0]//row_factor\n",
    "    \n",
    "    true_values = []\n",
    "    predict_values =[]\n",
    "    \n",
    "    for fold,(train_index,target_index) in enumerate(KFLD.split(X_all[:samp_size],\n",
    "                                                                y_all[:samp_size])):\n",
    "        X_train=X_all.iloc[train_index].values\n",
    "        y_train=y_all.iloc[train_index].values\n",
    "\n",
    "        X_test=X_all.iloc[target_index].values\n",
    "        y_test=y_all.iloc[target_index].values\n",
    "\n",
    "        clf.fit(X_train,y_train)\n",
    "        y_pred1=clf.predict(X_train)\n",
    "        y_pred2=clf.predict(X_test)\n",
    "\n",
    "        train_acc,train_prc,train_rcal,train_f1,train_auc,train_matt=metrics_function(y_train,y_pred1)\n",
    "        \n",
    "        test_acc,test_prc,test_rcal,test_f1,test_auc,test_matt=metrics_function(y_test,y_pred2)\n",
    "        \n",
    "        acc_list_train.append(train_acc)\n",
    "        acc_list_test.append(test_acc)\n",
    "        prc_list_train.append(train_prc)\n",
    "        prc_list_test.append(test_prc)\n",
    "        rcal_list_train.append(train_rcal)\n",
    "        rcal_list_test.append(test_rcal)\n",
    "        \n",
    "        f1_list_train.append(train_f1)\n",
    "        f1_list_test.append(test_f1)\n",
    "        matt_list_train.append(train_matt)\n",
    "        matt_list_test.append(test_matt)\n",
    "        AUC_list_train.append(train_auc)\n",
    "        AUC_list_test.append(test_auc)\n",
    "        \n",
    "        true_values = true_values + list(zip(target_index,y_test))\n",
    "        predict_values = predict_values + list(zip(target_index,y_pred2))\n",
    "        \n",
    "    print(\"Averages:\"'\\n')\n",
    "    \n",
    "    print(\"Train acc: {}, Test acc: {}\".format(np.mean(acc_list_train),\n",
    "                                               np.mean(acc_list_test)))\n",
    "    print(\"Train prc: {}, Test prc: {}\".format(np.mean(prc_list_train),\n",
    "                                               np.mean(prc_list_test)))\n",
    "    print(\"Train recall: {}, Test recall: {}\".format(np.mean(rcal_list_train),\n",
    "                                                     np.mean(rcal_list_test)),'\\n')\n",
    "    \n",
    "    print(\"Train f1: {}, Test f1: {}\".format(np.mean(f1_list_train),\n",
    "                                             np.mean(f1_list_test)))\n",
    "    print(\"Train MattCC: {}, Test MattCC: {}\".format(np.mean(matt_list_train),\n",
    "                                                     np.mean(matt_list_test)))\n",
    "    print(\"Train AUC: {}, Test AUC: {}\".format(np.mean(AUC_list_train),\n",
    "                                               np.mean(AUC_list_test)),'\\n'*2)\n",
    "        \n",
    "    print(\"Sample Size: {}, Folds Num: {}, Time: {}\".format(samp_size,folds_num,\n",
    "                                                            time()-start),'\\n'*2)\n",
    "    \n",
    "    total_picks = []\n",
    "    correct_idx = []\n",
    "\n",
    "    for ((a,b),(c,d)) in list(zip(true_values,predict_values)):\n",
    "        if (b==1)&(d==1):\n",
    "            correct_idx.append(a)\n",
    "        if d==1:\n",
    "            total_picks.append(c)\n",
    "\n",
    "    win_odds_list=[]\n",
    "\n",
    "    for a in correct_idx:\n",
    "        win_odds_list.append(df_cleaned.bf_odds.iloc[a])\n",
    "\n",
    "    average_win=np.mean(win_odds_list)\n",
    "    \n",
    "    print(\"Total Picks:\",len(total_picks))\n",
    "    print(\"Total Return:\",average_win*len(correct_idx)-len(total_picks))\n",
    "    print(\"Average Expected Return:\",(average_win*len(correct_idx)-len(total_picks))/len(total_picks))"
   ]
  },
  {
   "cell_type": "markdown",
   "metadata": {},
   "source": [
    "## The meaningful values here are Test prc (precision), Total Return, and Average Expected Return."
   ]
  },
  {
   "cell_type": "code",
   "execution_count": 105,
   "metadata": {},
   "outputs": [
    {
     "name": "stdout",
     "output_type": "stream",
     "text": [
      "GaussianNB: \n",
      "\n",
      "Averages:\n",
      "\n",
      "Train acc: 0.5457134425546034, Test acc: 0.5451799135488211\n",
      "Train prc: 0.13150839898154812, Test prc: 0.13063599116133157\n",
      "Train recall: 0.5880455075982784, Test recall: 0.5836039127836893 \n",
      "\n",
      "Train f1: 0.21494305357126775, Test f1: 0.21347782989580938\n",
      "Train MattCC: 0.07931013574433975, Test MattCC: 0.07653038170529822\n",
      "Train AUC: 0.5643769660316671, Test AUC: 0.5621170309703627 \n",
      "\n",
      "\n",
      "Sample Size: 102623, Folds Num: 5, Time: 11.04071855545044 \n",
      "\n",
      "\n",
      "Total Picks: 48490\n",
      "Total Return: 1518.25\n",
      "Average Expected Return: 0.031310579500928026\n"
     ]
    }
   ],
   "source": [
    "FOLD_TEST(clf_A, X, y, 5, 2)"
   ]
  },
  {
   "cell_type": "code",
   "execution_count": 106,
   "metadata": {},
   "outputs": [
    {
     "name": "stdout",
     "output_type": "stream",
     "text": [
      "LogisticRegression: \n",
      "\n",
      "Averages:\n",
      "\n",
      "Train acc: 0.8940734543601445, Test acc: 0.8940588531747153\n",
      "Train prc: 0.2817923651966205, Test prc: 0.32787114845938375\n",
      "Train recall: 0.0011059454058818352, Test recall: 0.0010185072663793497 \n",
      "\n",
      "Train f1: 0.0022027495234576986, Test f1: 0.0020271215488421685\n",
      "Train MattCC: 0.011671845958841204, Test MattCC: 0.011639482028196532\n",
      "Train AUC: 0.5003922402571528, Test AUC: 0.5003458087859467 \n",
      "\n",
      "\n",
      "Sample Size: 102623, Folds Num: 5, Time: 82.21839451789856 \n",
      "\n",
      "\n",
      "Total Picks: 41\n",
      "Total Return: -8.579999999999998\n",
      "Average Expected Return: -0.2092682926829268\n"
     ]
    }
   ],
   "source": [
    "FOLD_TEST(clf_B, X, y, 5, 2)"
   ]
  },
  {
   "cell_type": "code",
   "execution_count": 107,
   "metadata": {},
   "outputs": [
    {
     "name": "stdout",
     "output_type": "stream",
     "text": [
      "QuadraticDiscriminantAnalysis: \n",
      "\n",
      "Averages:\n",
      "\n",
      "Train acc: 0.14603699991855182, Test acc: 0.1431548327842203\n",
      "Train prc: 0.10901477598493067, Test prc: 0.10785023292597647\n",
      "Train recall: 0.9858764355054292, Test recall: 0.9762485829196601 \n",
      "\n",
      "Train f1: 0.19631204592508775, Test f1: 0.19423169895409473\n",
      "Train MattCC: 0.04769612182367485, Test MattCC: 0.028476894444261103\n",
      "Train AUC: 0.5162959166201717, Test AUC: 0.510439654059353 \n",
      "\n",
      "\n",
      "Sample Size: 102623, Folds Num: 5, Time: 23.506645917892456 \n",
      "\n",
      "\n",
      "Total Picks: 98269\n",
      "Total Return: -3960.909999999989\n",
      "Average Expected Return: -0.04030681089662039\n"
     ]
    }
   ],
   "source": [
    "FOLD_TEST(clf_C, X, y, 5, 2)"
   ]
  },
  {
   "cell_type": "code",
   "execution_count": 108,
   "metadata": {},
   "outputs": [
    {
     "name": "stdout",
     "output_type": "stream",
     "text": [
      "RandomForestClassifier: \n",
      "\n",
      "Averages:\n",
      "\n",
      "Train acc: 0.9664938673324821, Test acc: 0.8931526184490111\n",
      "Train prc: 0.9998316186050971, Test prc: 0.3013830996589617\n",
      "Train recall: 0.6832982569585204, Test recall: 0.007814640839778595 \n",
      "\n",
      "Train f1: 0.8117940943447675, Test f1: 0.015233864626492118\n",
      "Train MattCC: 0.8114777366546857, Test MattCC: 0.03334066449746689\n",
      "Train AUC: 0.8416423181411214, Test AUC: 0.5028340557784283 \n",
      "\n",
      "\n",
      "Sample Size: 102623, Folds Num: 5, Time: 18.70305562019348 \n",
      "\n",
      "\n",
      "Total Picks: 282\n",
      "Total Return: 182.67000000000002\n",
      "Average Expected Return: 0.6477659574468085\n"
     ]
    }
   ],
   "source": [
    "FOLD_TEST(clf_D, X, y, 5, 2)"
   ]
  },
  {
   "cell_type": "code",
   "execution_count": 109,
   "metadata": {},
   "outputs": [
    {
     "name": "stdout",
     "output_type": "stream",
     "text": [
      "MLPClassifier: \n",
      "\n",
      "Averages:\n",
      "\n",
      "Train acc: 0.8937908659417898, Test acc: 0.8929090273328442\n",
      "Train prc: 0.43604999934191335, Test prc: 0.36649650961078584\n",
      "Train recall: 0.025969094759914123, Test recall: 0.01990246874730036 \n",
      "\n",
      "Train f1: 0.04777181621038032, Test f1: 0.03685437723018882\n",
      "Train MattCC: 0.08089619008675801, Test MattCC: 0.06078998243346858\n",
      "Train AUC: 0.5111977155342345, Test AUC: 0.5080214288159117 \n",
      "\n",
      "\n",
      "Sample Size: 102623, Folds Num: 5, Time: 1228.8492548465729 \n",
      "\n",
      "\n",
      "Total Picks: 571\n",
      "Total Return: 444.03\n",
      "Average Expected Return: 0.7776357267950963\n"
     ]
    }
   ],
   "source": [
    "FOLD_TEST(clf_E, X, y, 5, 2)"
   ]
  },
  {
   "cell_type": "code",
   "execution_count": 110,
   "metadata": {},
   "outputs": [
    {
     "name": "stdout",
     "output_type": "stream",
     "text": [
      "DecisionTreeClassifier: \n",
      "\n",
      "Averages:\n",
      "\n",
      "Train acc: 0.8945947800660703, Test acc: 0.8938249801604776\n",
      "Train prc: 0.5944089792047611, Test prc: 0.3959138755980861\n",
      "Train recall: 0.013670798877066856, Test recall: 0.00945312500179456 \n",
      "\n",
      "Train f1: 0.026498263758877233, Test f1: 0.018329455098543893\n",
      "Train MattCC: 0.07402497447155351, Test MattCC: 0.04569914818254836\n",
      "Train AUC: 0.5062238860439464, Test AUC: 0.5039307825258634 \n",
      "\n",
      "\n",
      "Sample Size: 102623, Folds Num: 5, Time: 9.456005811691284 \n",
      "\n",
      "\n",
      "Total Picks: 249\n",
      "Total Return: 301.5799999999999\n",
      "Average Expected Return: 1.211164658634538\n"
     ]
    }
   ],
   "source": [
    "FOLD_TEST(clf_F, X, y, 5, 2)"
   ]
  },
  {
   "cell_type": "code",
   "execution_count": 111,
   "metadata": {},
   "outputs": [
    {
     "name": "stdout",
     "output_type": "stream",
     "text": [
      "GradientBoostingClassifier: \n",
      "\n",
      "Averages:\n",
      "\n",
      "Train acc: 0.8947774873495202, Test acc: 0.8941855289111039\n",
      "Train prc: 0.7432727788708263, Test prc: 0.4828973819541842\n",
      "Train recall: 0.007903462635747798, Test recall: 0.005071075794237375 \n",
      "\n",
      "Train f1: 0.01563281116435198, Test f1: 0.010028398997723436\n",
      "Train MattCC: 0.069099651718208, Test MattCC: 0.040367327279107384\n",
      "Train AUC: 0.5037828433733492, Test AUC: 0.5022030974172218 \n",
      "\n",
      "\n",
      "Sample Size: 102623, Folds Num: 5, Time: 312.30359721183777 \n",
      "\n",
      "\n",
      "Total Picks: 116\n",
      "Total Return: 99.68999999999997\n",
      "Average Expected Return: 0.8593965517241376\n"
     ]
    }
   ],
   "source": [
    "FOLD_TEST(clf_H, X, y, 5, 2)"
   ]
  },
  {
   "cell_type": "code",
   "execution_count": 112,
   "metadata": {},
   "outputs": [
    {
     "name": "stdout",
     "output_type": "stream",
     "text": [
      "AdaBoostClassifier: \n",
      "\n",
      "Averages:\n",
      "\n",
      "Train acc: 0.8942391091794286, Test acc: 0.8942050149659909\n",
      "Train prc: 0.49496293187387963, Test prc: 0.49836388112250185\n",
      "Train recall: 0.00624308001841264, Test recall: 0.006266529129557288 \n",
      "\n",
      "Train f1: 0.012321584677251689, Test f1: 0.012368093568563606\n",
      "Train MattCC: 0.04593427326930412, Test MattCC: 0.04604600022034312\n",
      "Train AUC: 0.5027496899810617, Test AUC: 0.5027410469790238 \n",
      "\n",
      "\n",
      "Sample Size: 102623, Folds Num: 5, Time: 85.56184482574463 \n",
      "\n",
      "\n",
      "Total Picks: 140\n",
      "Total Return: 103.75999999999999\n",
      "Average Expected Return: 0.7411428571428571\n"
     ]
    }
   ],
   "source": [
    "FOLD_TEST(clf_I, X, y, 5, 2)"
   ]
  },
  {
   "cell_type": "code",
   "execution_count": 113,
   "metadata": {},
   "outputs": [
    {
     "name": "stdout",
     "output_type": "stream",
     "text": [
      "XGBClassifier: \n",
      "\n",
      "Averages:\n",
      "\n",
      "Train acc: 0.8943974556598983, Test acc: 0.8942537403107998\n",
      "Train prc: 0.7095798319327731, Test prc: 0.6031746031746031\n",
      "Train recall: 0.0025815237238731433, Test recall: 0.0019374623096020515 \n",
      "\n",
      "Train f1: 0.0051420198082228075, Test f1: 0.003859495656625922\n",
      "Train MattCC: 0.037753417644498785, Test MattCC: 0.02830600750189951\n",
      "Train AUC: 0.5012240254633138, Test AUC: 0.5008597612019153 \n",
      "\n",
      "\n",
      "Sample Size: 102623, Folds Num: 5, Time: 222.85585355758667 \n",
      "\n",
      "\n",
      "Total Picks: 41\n",
      "Total Return: 37.78\n",
      "Average Expected Return: 0.9214634146341464\n"
     ]
    }
   ],
   "source": [
    "FOLD_TEST(clf_J, X, y, 5, 2)"
   ]
  }
 ],
 "metadata": {
  "kernelspec": {
   "display_name": "Python 3",
   "language": "python",
   "name": "python3"
  },
  "language_info": {
   "codemirror_mode": {
    "name": "ipython",
    "version": 3
   },
   "file_extension": ".py",
   "mimetype": "text/x-python",
   "name": "python",
   "nbconvert_exporter": "python",
   "pygments_lexer": "ipython3",
   "version": "3.7.3"
  }
 },
 "nbformat": 4,
 "nbformat_minor": 2
}
