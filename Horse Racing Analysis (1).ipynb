{
 "cells": [
  {
   "cell_type": "markdown",
   "metadata": {},
   "source": [
    "# <center> Process of cleaning and analyzing horse racing data from Kaggle dataset \"Horses for Courses\"</center>"
   ]
  },
  {
   "cell_type": "code",
   "execution_count": 1,
   "metadata": {},
   "outputs": [],
   "source": [
    "import pandas as pd\n",
    "import numpy as np\n",
    "import matplotlib.pyplot as plt\n",
    "from scipy.stats import chisquare, ttest_ind\n",
    "\n",
    "%matplotlib inline\n",
    "\n",
    "#Supresses scientific notation\n",
    "pd.set_option('display.float_format', lambda x: '%.2f' % x)"
   ]
  },
  {
   "cell_type": "code",
   "execution_count": 2,
   "metadata": {},
   "outputs": [
    {
     "data": {
      "text/html": [
       "<div>\n",
       "<style scoped>\n",
       "    .dataframe tbody tr th:only-of-type {\n",
       "        vertical-align: middle;\n",
       "    }\n",
       "\n",
       "    .dataframe tbody tr th {\n",
       "        vertical-align: top;\n",
       "    }\n",
       "\n",
       "    .dataframe thead th {\n",
       "        text-align: right;\n",
       "    }\n",
       "</style>\n",
       "<table border=\"1\" class=\"dataframe\">\n",
       "  <thead>\n",
       "    <tr style=\"text-align: right;\">\n",
       "      <th></th>\n",
       "      <th>position_again</th>\n",
       "      <th>bf_odds</th>\n",
       "      <th>venue_name</th>\n",
       "      <th>date</th>\n",
       "      <th>market_name</th>\n",
       "      <th>condition</th>\n",
       "      <th>barrier</th>\n",
       "      <th>handicap_weight</th>\n",
       "      <th>last_five_starts</th>\n",
       "      <th>prize_money</th>\n",
       "      <th>...</th>\n",
       "      <th>slow_places</th>\n",
       "      <th>soft_starts</th>\n",
       "      <th>soft_wins</th>\n",
       "      <th>soft_places</th>\n",
       "      <th>heavy_starts</th>\n",
       "      <th>heavy_wins</th>\n",
       "      <th>heavy_places</th>\n",
       "      <th>distance_starts</th>\n",
       "      <th>distance_wins</th>\n",
       "      <th>distance_places</th>\n",
       "    </tr>\n",
       "  </thead>\n",
       "  <tbody>\n",
       "    <tr>\n",
       "      <th>0</th>\n",
       "      <td>1.00</td>\n",
       "      <td>2.88</td>\n",
       "      <td>Echuca</td>\n",
       "      <td>2016-06-27</td>\n",
       "      <td>R3 1200m Mdn</td>\n",
       "      <td>HVY9</td>\n",
       "      <td>3.00</td>\n",
       "      <td>58.50</td>\n",
       "      <td>f3</td>\n",
       "      <td>2160.00</td>\n",
       "      <td>...</td>\n",
       "      <td>1.00</td>\n",
       "      <td>1.00</td>\n",
       "      <td>0.00</td>\n",
       "      <td>1.00</td>\n",
       "      <td>0.00</td>\n",
       "      <td>0.00</td>\n",
       "      <td>0.00</td>\n",
       "      <td>1.00</td>\n",
       "      <td>0.00</td>\n",
       "      <td>1.00</td>\n",
       "    </tr>\n",
       "    <tr>\n",
       "      <th>1</th>\n",
       "      <td>2.00</td>\n",
       "      <td>15.00</td>\n",
       "      <td>Echuca</td>\n",
       "      <td>2016-06-27</td>\n",
       "      <td>R3 1200m Mdn</td>\n",
       "      <td>HVY9</td>\n",
       "      <td>10.00</td>\n",
       "      <td>58.50</td>\n",
       "      <td>x80x2</td>\n",
       "      <td>21175.00</td>\n",
       "      <td>...</td>\n",
       "      <td>1.00</td>\n",
       "      <td>2.00</td>\n",
       "      <td>0.00</td>\n",
       "      <td>1.00</td>\n",
       "      <td>1.00</td>\n",
       "      <td>0.00</td>\n",
       "      <td>0.00</td>\n",
       "      <td>1.00</td>\n",
       "      <td>0.00</td>\n",
       "      <td>1.00</td>\n",
       "    </tr>\n",
       "    <tr>\n",
       "      <th>2</th>\n",
       "      <td>3.00</td>\n",
       "      <td>95.00</td>\n",
       "      <td>Echuca</td>\n",
       "      <td>2016-06-27</td>\n",
       "      <td>R3 1200m Mdn</td>\n",
       "      <td>HVY9</td>\n",
       "      <td>6.00</td>\n",
       "      <td>56.50</td>\n",
       "      <td>79x00</td>\n",
       "      <td>28855.00</td>\n",
       "      <td>...</td>\n",
       "      <td>0.00</td>\n",
       "      <td>5.00</td>\n",
       "      <td>0.00</td>\n",
       "      <td>0.00</td>\n",
       "      <td>3.00</td>\n",
       "      <td>0.00</td>\n",
       "      <td>0.00</td>\n",
       "      <td>4.00</td>\n",
       "      <td>0.00</td>\n",
       "      <td>0.00</td>\n",
       "    </tr>\n",
       "    <tr>\n",
       "      <th>3</th>\n",
       "      <td>nan</td>\n",
       "      <td>20.00</td>\n",
       "      <td>Echuca</td>\n",
       "      <td>2016-06-27</td>\n",
       "      <td>R3 1200m Mdn</td>\n",
       "      <td>HVY9</td>\n",
       "      <td>2.00</td>\n",
       "      <td>56.50</td>\n",
       "      <td>f0</td>\n",
       "      <td>1475.00</td>\n",
       "      <td>...</td>\n",
       "      <td>0.00</td>\n",
       "      <td>1.00</td>\n",
       "      <td>0.00</td>\n",
       "      <td>0.00</td>\n",
       "      <td>0.00</td>\n",
       "      <td>0.00</td>\n",
       "      <td>0.00</td>\n",
       "      <td>1.00</td>\n",
       "      <td>0.00</td>\n",
       "      <td>0.00</td>\n",
       "    </tr>\n",
       "    <tr>\n",
       "      <th>4</th>\n",
       "      <td>nan</td>\n",
       "      <td>2.74</td>\n",
       "      <td>Echuca</td>\n",
       "      <td>2016-06-27</td>\n",
       "      <td>R3 1200m Mdn</td>\n",
       "      <td>HVY9</td>\n",
       "      <td>7.00</td>\n",
       "      <td>56.50</td>\n",
       "      <td>f4x</td>\n",
       "      <td>1215.00</td>\n",
       "      <td>...</td>\n",
       "      <td>0.00</td>\n",
       "      <td>0.00</td>\n",
       "      <td>0.00</td>\n",
       "      <td>0.00</td>\n",
       "      <td>0.00</td>\n",
       "      <td>0.00</td>\n",
       "      <td>0.00</td>\n",
       "      <td>1.00</td>\n",
       "      <td>0.00</td>\n",
       "      <td>0.00</td>\n",
       "    </tr>\n",
       "  </tbody>\n",
       "</table>\n",
       "<p>5 rows × 38 columns</p>\n",
       "</div>"
      ],
      "text/plain": [
       "   position_again  bf_odds venue_name        date   market_name condition  \\\n",
       "0            1.00     2.88     Echuca  2016-06-27  R3 1200m Mdn      HVY9   \n",
       "1            2.00    15.00     Echuca  2016-06-27  R3 1200m Mdn      HVY9   \n",
       "2            3.00    95.00     Echuca  2016-06-27  R3 1200m Mdn      HVY9   \n",
       "3             nan    20.00     Echuca  2016-06-27  R3 1200m Mdn      HVY9   \n",
       "4             nan     2.74     Echuca  2016-06-27  R3 1200m Mdn      HVY9   \n",
       "\n",
       "   barrier  handicap_weight last_five_starts  prize_money  ... slow_places  \\\n",
       "0     3.00            58.50               f3      2160.00  ...        1.00   \n",
       "1    10.00            58.50            x80x2     21175.00  ...        1.00   \n",
       "2     6.00            56.50            79x00     28855.00  ...        0.00   \n",
       "3     2.00            56.50               f0      1475.00  ...        0.00   \n",
       "4     7.00            56.50              f4x      1215.00  ...        0.00   \n",
       "\n",
       "   soft_starts soft_wins  soft_places  heavy_starts  heavy_wins  heavy_places  \\\n",
       "0         1.00      0.00         1.00          0.00        0.00          0.00   \n",
       "1         2.00      0.00         1.00          1.00        0.00          0.00   \n",
       "2         5.00      0.00         0.00          3.00        0.00          0.00   \n",
       "3         1.00      0.00         0.00          0.00        0.00          0.00   \n",
       "4         0.00      0.00         0.00          0.00        0.00          0.00   \n",
       "\n",
       "   distance_starts  distance_wins  distance_places  \n",
       "0             1.00           0.00             1.00  \n",
       "1             1.00           0.00             1.00  \n",
       "2             4.00           0.00             0.00  \n",
       "3             1.00           0.00             0.00  \n",
       "4             1.00           0.00             0.00  \n",
       "\n",
       "[5 rows x 38 columns]"
      ]
     },
     "execution_count": 2,
     "metadata": {},
     "output_type": "execute_result"
    }
   ],
   "source": [
    "#There are a lot of issues with the 'position_two' column, so I left it out.\n",
    "#Furthermore, the 'position_again' column is much more consistent and has all relevant win/place information  \n",
    "\n",
    "fields = [\"position_again\",\"bf_odds\",\"venue_name\",\"date\",\"market_name\",\"condition\",\"barrier\",\"handicap_weight\",\"last_five_starts\",\"prize_money\",\"sex\",\"age\",\"jockey_sex\",\"days_since_last_run\",\"overall_starts\",\"overall_wins\",\"overall_places\",\"track_starts\",\"track_wins\",\"track_places\",\"firm_starts\",\"firm_wins\",\"firm_places\",\"good_starts\",\"good_wins\",\"good_places\",\"slow_starts\",\"slow_wins\",\"slow_places\",\"soft_starts\",\"soft_wins\",\"soft_places\",\"heavy_starts\",\"heavy_wins\",\"heavy_places\",\"distance_starts\",\"distance_wins\",\"distance_places\"]\n",
    "# will use \"jockey\",\"trainer\" later\n",
    "\n",
    "df = pd.read_csv(\"horses.csv\", skipinitialspace=True, usecols=fields, low_memory=False)\n",
    "\n",
    "df.head()"
   ]
  },
  {
   "cell_type": "code",
   "execution_count": 3,
   "metadata": {
    "scrolled": false
   },
   "outputs": [],
   "source": [
    "df.date = pd.to_datetime(df.date, format='%Y'+'-'+'%m'+'-'+'%d')\n",
    "\n",
    "#removes numbers from end of 'condition' strings\n",
    "df.condition = df.condition.str.replace('\\d+', '')\n",
    "\n",
    "#renaming condition values so that they're uniform\n",
    "df.condition = df.condition.str.replace('HVY', 'HEAVY')\n",
    "df.condition = df.condition.str.replace('AWT', 'GOOD') #AWT equates to a Good surface under some weather conditions\n",
    "\n",
    "#reverses 'last_five_starts' (originally written right-to-left) so that it's easier to read in the future\n",
    "df.last_five_starts = df.last_five_starts.str[::-1]"
   ]
  },
  {
   "cell_type": "markdown",
   "metadata": {},
   "source": [
    "## Creating general and track-condition-specific 'win_percent' and 'place_percent' columns:"
   ]
  },
  {
   "cell_type": "code",
   "execution_count": 4,
   "metadata": {},
   "outputs": [],
   "source": [
    "#creates overall, track, and distance win_percent and place_percent columns and drops existing wins and places columns\n",
    "\n",
    "columns_list = [\"overall\",\"track\",\"distance\"]\n",
    "\n",
    "for x in columns_list:\n",
    "    df[x+\"_win_percent\"] = df[x+\"_wins\"]/df[x+\"_starts\"]\n",
    "    \n",
    "    df[x+\"_place_percent\"] = df[x+\"_places\"]/df[x+\"_starts\"]\n",
    "\n",
    "    # dropping various columns, though 'starts' columns will be used later\n",
    "    df.drop([x+'_wins', x+'_places'], axis=1, inplace=True)"
   ]
  },
  {
   "cell_type": "code",
   "execution_count": 5,
   "metadata": {},
   "outputs": [],
   "source": [
    "#creates a condition_starts ,condition_win_percent, and condition_place_percent column for each horse according to the condition of the track for that race\n",
    "\n",
    "df.loc[df.condition.isna(), \"condition_win_percent\"] = np.nan\n",
    "\n",
    "condition_list = [\"firm\",\"good\",\"slow\",\"soft\",\"heavy\"]\n",
    "\n",
    "for x in condition_list: \n",
    "    df.loc[df.condition.str.lower() == x, \"condition_starts\"] = df[x+\"_starts\"]\n",
    "    \n",
    "    df.loc[df.condition.str.lower() == x, \"condition_win_percent\"] = df[x+\"_wins\"]/df[x+\"_starts\"]\n",
    "    \n",
    "    df.loc[df.condition.str.lower() == x, \"condition_place_percent\"] = df[x+\"_places\"]/df[x+\"_starts\"]\n",
    "    \n",
    "    df.drop([x+'_wins', x+'_places'], axis=1, inplace=True)\n",
    "\n",
    "# Condition column is not necessary now that there are condition win and place percent columns \n",
    "df.drop('condition', axis=1, inplace=True)\n",
    "\n",
    "# Replaces infinity (zero division) with NaN\n",
    "df.replace([np.inf, -np.inf], np.nan, inplace=True)"
   ]
  },
  {
   "cell_type": "markdown",
   "metadata": {},
   "source": [
    "## Cleaning data by removing races with missing win and/or place values in 'position_again' column:"
   ]
  },
  {
   "cell_type": "code",
   "execution_count": 6,
   "metadata": {},
   "outputs": [],
   "source": [
    "#Used groupby to create indices by which to sort the re-indexed dataframes below, like df_indexed and df_cleaned\n",
    "df_grouped = df.groupby(['date','venue_name','market_name'])\n",
    "\n",
    "#Drops all groups/races in 'position_again' column where sum of values [1st, 2nd, 3rd] don't add to 3 or 6\n",
    "#i.e. 1+2 and 1+2+3\n",
    "index_list1 = df_grouped.position_again.sum(dropna=False).where(lambda x:(x == 3) | (x == 6)).dropna().index\n",
    "\n",
    "df_indexed = df.set_index(['date','venue_name','market_name'])\n",
    "\n",
    "df_cleaned = df_indexed.loc[index_list1].drop_duplicates()"
   ]
  },
  {
   "cell_type": "code",
   "execution_count": 7,
   "metadata": {},
   "outputs": [],
   "source": [
    "df_grouped = df_cleaned.groupby(['date','venue_name','market_name'])\n",
    "\n",
    "#Eliminates remaining errors in 'position_again' column by making sure that there isn't a single 3rd-place finish\n",
    "index_list2 = df_grouped.position_again.value_counts(normalize=True).where(lambda x:x != 1).dropna().index.droplevel('position_again')"
   ]
  },
  {
   "cell_type": "code",
   "execution_count": 8,
   "metadata": {},
   "outputs": [
    {
     "data": {
      "text/html": [
       "<div>\n",
       "<style scoped>\n",
       "    .dataframe tbody tr th:only-of-type {\n",
       "        vertical-align: middle;\n",
       "    }\n",
       "\n",
       "    .dataframe tbody tr th {\n",
       "        vertical-align: top;\n",
       "    }\n",
       "\n",
       "    .dataframe thead th {\n",
       "        text-align: right;\n",
       "    }\n",
       "</style>\n",
       "<table border=\"1\" class=\"dataframe\">\n",
       "  <thead>\n",
       "    <tr style=\"text-align: right;\">\n",
       "      <th></th>\n",
       "      <th></th>\n",
       "      <th></th>\n",
       "      <th>position_again</th>\n",
       "      <th>bf_odds</th>\n",
       "      <th>barrier</th>\n",
       "      <th>handicap_weight</th>\n",
       "      <th>last_five_starts</th>\n",
       "      <th>prize_money</th>\n",
       "      <th>sex</th>\n",
       "      <th>age</th>\n",
       "      <th>jockey_sex</th>\n",
       "      <th>days_since_last_run</th>\n",
       "      <th>...</th>\n",
       "      <th>distance_starts</th>\n",
       "      <th>overall_win_percent</th>\n",
       "      <th>overall_place_percent</th>\n",
       "      <th>track_win_percent</th>\n",
       "      <th>track_place_percent</th>\n",
       "      <th>distance_win_percent</th>\n",
       "      <th>distance_place_percent</th>\n",
       "      <th>condition_win_percent</th>\n",
       "      <th>condition_starts</th>\n",
       "      <th>condition_place_percent</th>\n",
       "    </tr>\n",
       "    <tr>\n",
       "      <th>date</th>\n",
       "      <th>venue_name</th>\n",
       "      <th>market_name</th>\n",
       "      <th></th>\n",
       "      <th></th>\n",
       "      <th></th>\n",
       "      <th></th>\n",
       "      <th></th>\n",
       "      <th></th>\n",
       "      <th></th>\n",
       "      <th></th>\n",
       "      <th></th>\n",
       "      <th></th>\n",
       "      <th></th>\n",
       "      <th></th>\n",
       "      <th></th>\n",
       "      <th></th>\n",
       "      <th></th>\n",
       "      <th></th>\n",
       "      <th></th>\n",
       "      <th></th>\n",
       "      <th></th>\n",
       "      <th></th>\n",
       "      <th></th>\n",
       "    </tr>\n",
       "  </thead>\n",
       "  <tbody>\n",
       "    <tr>\n",
       "      <th rowspan=\"5\" valign=\"top\">2016-06-27</th>\n",
       "      <th rowspan=\"5\" valign=\"top\">Echuca</th>\n",
       "      <th>R10 1400m Hcap</th>\n",
       "      <td>1.00</td>\n",
       "      <td>18.50</td>\n",
       "      <td>12.00</td>\n",
       "      <td>57.50</td>\n",
       "      <td>86x01</td>\n",
       "      <td>71295.00</td>\n",
       "      <td>Mare</td>\n",
       "      <td>6.00</td>\n",
       "      <td>Male</td>\n",
       "      <td>16.00</td>\n",
       "      <td>...</td>\n",
       "      <td>12.00</td>\n",
       "      <td>0.15</td>\n",
       "      <td>0.15</td>\n",
       "      <td>0.30</td>\n",
       "      <td>0.20</td>\n",
       "      <td>0.25</td>\n",
       "      <td>0.25</td>\n",
       "      <td>0.00</td>\n",
       "      <td>4.00</td>\n",
       "      <td>0.50</td>\n",
       "    </tr>\n",
       "    <tr>\n",
       "      <th>R10 1400m Hcap</th>\n",
       "      <td>2.00</td>\n",
       "      <td>16.50</td>\n",
       "      <td>8.00</td>\n",
       "      <td>59.00</td>\n",
       "      <td>6378x</td>\n",
       "      <td>34345.00</td>\n",
       "      <td>Gelding</td>\n",
       "      <td>5.00</td>\n",
       "      <td>Male</td>\n",
       "      <td>18.00</td>\n",
       "      <td>...</td>\n",
       "      <td>9.00</td>\n",
       "      <td>0.17</td>\n",
       "      <td>0.17</td>\n",
       "      <td>0.00</td>\n",
       "      <td>1.00</td>\n",
       "      <td>0.22</td>\n",
       "      <td>0.22</td>\n",
       "      <td>0.00</td>\n",
       "      <td>2.00</td>\n",
       "      <td>1.00</td>\n",
       "    </tr>\n",
       "    <tr>\n",
       "      <th>R10 1400m Hcap</th>\n",
       "      <td>3.00</td>\n",
       "      <td>11.50</td>\n",
       "      <td>1.00</td>\n",
       "      <td>58.50</td>\n",
       "      <td>430x5</td>\n",
       "      <td>55655.00</td>\n",
       "      <td>Gelding</td>\n",
       "      <td>5.00</td>\n",
       "      <td>Male</td>\n",
       "      <td>13.00</td>\n",
       "      <td>...</td>\n",
       "      <td>10.00</td>\n",
       "      <td>0.10</td>\n",
       "      <td>0.30</td>\n",
       "      <td>0.00</td>\n",
       "      <td>0.29</td>\n",
       "      <td>0.20</td>\n",
       "      <td>0.30</td>\n",
       "      <td>1.00</td>\n",
       "      <td>1.00</td>\n",
       "      <td>0.00</td>\n",
       "    </tr>\n",
       "    <tr>\n",
       "      <th>R10 1400m Hcap</th>\n",
       "      <td>nan</td>\n",
       "      <td>19.00</td>\n",
       "      <td>5.00</td>\n",
       "      <td>58.50</td>\n",
       "      <td>44460</td>\n",
       "      <td>154361.00</td>\n",
       "      <td>Gelding</td>\n",
       "      <td>6.00</td>\n",
       "      <td>Male</td>\n",
       "      <td>16.00</td>\n",
       "      <td>...</td>\n",
       "      <td>16.00</td>\n",
       "      <td>0.10</td>\n",
       "      <td>0.16</td>\n",
       "      <td>0.50</td>\n",
       "      <td>0.00</td>\n",
       "      <td>0.19</td>\n",
       "      <td>0.19</td>\n",
       "      <td>0.00</td>\n",
       "      <td>1.00</td>\n",
       "      <td>0.00</td>\n",
       "    </tr>\n",
       "    <tr>\n",
       "      <th>R10 1400m Hcap</th>\n",
       "      <td>nan</td>\n",
       "      <td>7.60</td>\n",
       "      <td>7.00</td>\n",
       "      <td>58.50</td>\n",
       "      <td>411x3</td>\n",
       "      <td>29190.00</td>\n",
       "      <td>Mare</td>\n",
       "      <td>4.00</td>\n",
       "      <td>Male</td>\n",
       "      <td>13.00</td>\n",
       "      <td>...</td>\n",
       "      <td>3.00</td>\n",
       "      <td>0.33</td>\n",
       "      <td>0.33</td>\n",
       "      <td>nan</td>\n",
       "      <td>nan</td>\n",
       "      <td>0.33</td>\n",
       "      <td>0.33</td>\n",
       "      <td>nan</td>\n",
       "      <td>0.00</td>\n",
       "      <td>nan</td>\n",
       "    </tr>\n",
       "  </tbody>\n",
       "</table>\n",
       "<p>5 rows × 27 columns</p>\n",
       "</div>"
      ],
      "text/plain": [
       "                                      position_again  bf_odds  barrier  \\\n",
       "date       venue_name market_name                                        \n",
       "2016-06-27 Echuca     R10 1400m Hcap            1.00    18.50    12.00   \n",
       "                      R10 1400m Hcap            2.00    16.50     8.00   \n",
       "                      R10 1400m Hcap            3.00    11.50     1.00   \n",
       "                      R10 1400m Hcap             nan    19.00     5.00   \n",
       "                      R10 1400m Hcap             nan     7.60     7.00   \n",
       "\n",
       "                                      handicap_weight last_five_starts  \\\n",
       "date       venue_name market_name                                        \n",
       "2016-06-27 Echuca     R10 1400m Hcap            57.50            86x01   \n",
       "                      R10 1400m Hcap            59.00            6378x   \n",
       "                      R10 1400m Hcap            58.50            430x5   \n",
       "                      R10 1400m Hcap            58.50            44460   \n",
       "                      R10 1400m Hcap            58.50            411x3   \n",
       "\n",
       "                                      prize_money      sex  age jockey_sex  \\\n",
       "date       venue_name market_name                                            \n",
       "2016-06-27 Echuca     R10 1400m Hcap     71295.00     Mare 6.00       Male   \n",
       "                      R10 1400m Hcap     34345.00  Gelding 5.00       Male   \n",
       "                      R10 1400m Hcap     55655.00  Gelding 5.00       Male   \n",
       "                      R10 1400m Hcap    154361.00  Gelding 6.00       Male   \n",
       "                      R10 1400m Hcap     29190.00     Mare 4.00       Male   \n",
       "\n",
       "                                      days_since_last_run  ...  \\\n",
       "date       venue_name market_name                          ...   \n",
       "2016-06-27 Echuca     R10 1400m Hcap                16.00  ...   \n",
       "                      R10 1400m Hcap                18.00  ...   \n",
       "                      R10 1400m Hcap                13.00  ...   \n",
       "                      R10 1400m Hcap                16.00  ...   \n",
       "                      R10 1400m Hcap                13.00  ...   \n",
       "\n",
       "                                      distance_starts  overall_win_percent  \\\n",
       "date       venue_name market_name                                            \n",
       "2016-06-27 Echuca     R10 1400m Hcap            12.00                 0.15   \n",
       "                      R10 1400m Hcap             9.00                 0.17   \n",
       "                      R10 1400m Hcap            10.00                 0.10   \n",
       "                      R10 1400m Hcap            16.00                 0.10   \n",
       "                      R10 1400m Hcap             3.00                 0.33   \n",
       "\n",
       "                                      overall_place_percent  \\\n",
       "date       venue_name market_name                             \n",
       "2016-06-27 Echuca     R10 1400m Hcap                   0.15   \n",
       "                      R10 1400m Hcap                   0.17   \n",
       "                      R10 1400m Hcap                   0.30   \n",
       "                      R10 1400m Hcap                   0.16   \n",
       "                      R10 1400m Hcap                   0.33   \n",
       "\n",
       "                                      track_win_percent  track_place_percent  \\\n",
       "date       venue_name market_name                                              \n",
       "2016-06-27 Echuca     R10 1400m Hcap               0.30                 0.20   \n",
       "                      R10 1400m Hcap               0.00                 1.00   \n",
       "                      R10 1400m Hcap               0.00                 0.29   \n",
       "                      R10 1400m Hcap               0.50                 0.00   \n",
       "                      R10 1400m Hcap                nan                  nan   \n",
       "\n",
       "                                      distance_win_percent  \\\n",
       "date       venue_name market_name                            \n",
       "2016-06-27 Echuca     R10 1400m Hcap                  0.25   \n",
       "                      R10 1400m Hcap                  0.22   \n",
       "                      R10 1400m Hcap                  0.20   \n",
       "                      R10 1400m Hcap                  0.19   \n",
       "                      R10 1400m Hcap                  0.33   \n",
       "\n",
       "                                      distance_place_percent  \\\n",
       "date       venue_name market_name                              \n",
       "2016-06-27 Echuca     R10 1400m Hcap                    0.25   \n",
       "                      R10 1400m Hcap                    0.22   \n",
       "                      R10 1400m Hcap                    0.30   \n",
       "                      R10 1400m Hcap                    0.19   \n",
       "                      R10 1400m Hcap                    0.33   \n",
       "\n",
       "                                      condition_win_percent  condition_starts  \\\n",
       "date       venue_name market_name                                               \n",
       "2016-06-27 Echuca     R10 1400m Hcap                   0.00              4.00   \n",
       "                      R10 1400m Hcap                   0.00              2.00   \n",
       "                      R10 1400m Hcap                   1.00              1.00   \n",
       "                      R10 1400m Hcap                   0.00              1.00   \n",
       "                      R10 1400m Hcap                    nan              0.00   \n",
       "\n",
       "                                      condition_place_percent  \n",
       "date       venue_name market_name                              \n",
       "2016-06-27 Echuca     R10 1400m Hcap                     0.50  \n",
       "                      R10 1400m Hcap                     1.00  \n",
       "                      R10 1400m Hcap                     0.00  \n",
       "                      R10 1400m Hcap                     0.00  \n",
       "                      R10 1400m Hcap                      nan  \n",
       "\n",
       "[5 rows x 27 columns]"
      ]
     },
     "execution_count": 8,
     "metadata": {},
     "output_type": "execute_result"
    }
   ],
   "source": [
    "df_cleaned = df_cleaned.loc[index_list2].drop_duplicates()\n",
    "\n",
    "df_grouped = df_cleaned.groupby(['date','venue_name','market_name'])\n",
    "\n",
    "df_cleaned.head()"
   ]
  },
  {
   "cell_type": "markdown",
   "metadata": {},
   "source": [
    "# Creating new features and dropping others:\n",
    "\n",
    "## Creating a weight_minus_average column:"
   ]
  },
  {
   "cell_type": "code",
   "execution_count": 9,
   "metadata": {},
   "outputs": [],
   "source": [
    "average_weight = df_grouped.handicap_weight.transform('mean')\n",
    "\n",
    "df_cleaned.insert(4,'average_weight',average_weight)\n",
    "\n",
    "df_cleaned.insert(4,'weight_minus_average', df_cleaned.handicap_weight - df_cleaned.average_weight)"
   ]
  },
  {
   "cell_type": "code",
   "execution_count": 10,
   "metadata": {},
   "outputs": [],
   "source": [
    "df_cleaned.drop('average_weight', axis=1, inplace=True)"
   ]
  },
  {
   "cell_type": "code",
   "execution_count": 11,
   "metadata": {},
   "outputs": [],
   "source": [
    "df_grouped = df_cleaned.groupby(['date','venue_name','market_name'])"
   ]
  },
  {
   "cell_type": "markdown",
   "metadata": {},
   "source": [
    "## Creating a prize_money_per_start_minus_average column:\n",
    "\n",
    "### This may be one of the best indicators, as prize money is also an indicator of the difficulty of past races. Therefore, the value (meaningfulness) of past wins is taken into consideration."
   ]
  },
  {
   "cell_type": "code",
   "execution_count": 12,
   "metadata": {},
   "outputs": [],
   "source": [
    "#creates prize_money_per_start column\n",
    "df_cleaned.insert(6,'prize_money_per_start', df_cleaned.prize_money/df_cleaned.overall_starts)\n",
    "\n",
    "#Creates average_prize_money_per_start column\n",
    "average_prize_money_per_start = df_grouped.prize_money_per_start.transform('mean')\n",
    "\n",
    "df_cleaned.insert(7,'average_prize_money_per_start', average_prize_money_per_start)\n",
    "\n",
    "#Creates prize_money_per_start_minus_average column\n",
    "df_cleaned.insert(8,'prize_money_per_start_minus_average', df_cleaned.prize_money_per_start - df_cleaned.average_prize_money_per_start)"
   ]
  },
  {
   "cell_type": "code",
   "execution_count": 13,
   "metadata": {
    "scrolled": false
   },
   "outputs": [],
   "source": [
    "#drops irrelevant columns\n",
    "df_cleaned.drop(['prize_money', 'prize_money_per_start', 'average_prize_money_per_start'], axis=1, inplace=True)"
   ]
  },
  {
   "cell_type": "code",
   "execution_count": 14,
   "metadata": {},
   "outputs": [],
   "source": [
    "df_grouped = df_cleaned.groupby(['date','venue_name','market_name'])"
   ]
  },
  {
   "cell_type": "markdown",
   "metadata": {},
   "source": [
    "### I was considering using a horse age_minus_average column, but I realized that age difference is not as good of an indicator as pure age. This is because the difference between a 2-year-old and a 4-year-old might mean little, but the difference between a 4 and 6-year-old might be a lot."
   ]
  },
  {
   "cell_type": "code",
   "execution_count": 15,
   "metadata": {},
   "outputs": [
    {
     "data": {
      "text/html": [
       "<div>\n",
       "<style scoped>\n",
       "    .dataframe tbody tr th:only-of-type {\n",
       "        vertical-align: middle;\n",
       "    }\n",
       "\n",
       "    .dataframe tbody tr th {\n",
       "        vertical-align: top;\n",
       "    }\n",
       "\n",
       "    .dataframe thead th {\n",
       "        text-align: right;\n",
       "    }\n",
       "</style>\n",
       "<table border=\"1\" class=\"dataframe\">\n",
       "  <thead>\n",
       "    <tr style=\"text-align: right;\">\n",
       "      <th></th>\n",
       "      <th></th>\n",
       "      <th></th>\n",
       "      <th>position_again</th>\n",
       "      <th>bf_odds</th>\n",
       "      <th>barrier</th>\n",
       "      <th>handicap_weight</th>\n",
       "      <th>weight_minus_average</th>\n",
       "      <th>last_five_starts</th>\n",
       "      <th>prize_money_per_start_minus_average</th>\n",
       "      <th>sex</th>\n",
       "      <th>age</th>\n",
       "      <th>jockey_sex</th>\n",
       "      <th>...</th>\n",
       "      <th>distance_starts</th>\n",
       "      <th>overall_win_percent</th>\n",
       "      <th>overall_place_percent</th>\n",
       "      <th>track_win_percent</th>\n",
       "      <th>track_place_percent</th>\n",
       "      <th>distance_win_percent</th>\n",
       "      <th>distance_place_percent</th>\n",
       "      <th>condition_win_percent</th>\n",
       "      <th>condition_starts</th>\n",
       "      <th>condition_place_percent</th>\n",
       "    </tr>\n",
       "    <tr>\n",
       "      <th>date</th>\n",
       "      <th>venue_name</th>\n",
       "      <th>market_name</th>\n",
       "      <th></th>\n",
       "      <th></th>\n",
       "      <th></th>\n",
       "      <th></th>\n",
       "      <th></th>\n",
       "      <th></th>\n",
       "      <th></th>\n",
       "      <th></th>\n",
       "      <th></th>\n",
       "      <th></th>\n",
       "      <th></th>\n",
       "      <th></th>\n",
       "      <th></th>\n",
       "      <th></th>\n",
       "      <th></th>\n",
       "      <th></th>\n",
       "      <th></th>\n",
       "      <th></th>\n",
       "      <th></th>\n",
       "      <th></th>\n",
       "      <th></th>\n",
       "    </tr>\n",
       "  </thead>\n",
       "  <tbody>\n",
       "    <tr>\n",
       "      <th rowspan=\"5\" valign=\"top\">2016-06-27</th>\n",
       "      <th rowspan=\"5\" valign=\"top\">Echuca</th>\n",
       "      <th>R10 1400m Hcap</th>\n",
       "      <td>1.00</td>\n",
       "      <td>18.50</td>\n",
       "      <td>12.00</td>\n",
       "      <td>57.50</td>\n",
       "      <td>-0.62</td>\n",
       "      <td>86x01</td>\n",
       "      <td>-1358.43</td>\n",
       "      <td>Mare</td>\n",
       "      <td>6.00</td>\n",
       "      <td>Male</td>\n",
       "      <td>...</td>\n",
       "      <td>12.00</td>\n",
       "      <td>0.15</td>\n",
       "      <td>0.15</td>\n",
       "      <td>0.30</td>\n",
       "      <td>0.20</td>\n",
       "      <td>0.25</td>\n",
       "      <td>0.25</td>\n",
       "      <td>0.00</td>\n",
       "      <td>4.00</td>\n",
       "      <td>0.50</td>\n",
       "    </tr>\n",
       "    <tr>\n",
       "      <th>R10 1400m Hcap</th>\n",
       "      <td>2.00</td>\n",
       "      <td>16.50</td>\n",
       "      <td>8.00</td>\n",
       "      <td>59.00</td>\n",
       "      <td>0.88</td>\n",
       "      <td>6378x</td>\n",
       "      <td>-1238.46</td>\n",
       "      <td>Gelding</td>\n",
       "      <td>5.00</td>\n",
       "      <td>Male</td>\n",
       "      <td>...</td>\n",
       "      <td>9.00</td>\n",
       "      <td>0.17</td>\n",
       "      <td>0.17</td>\n",
       "      <td>0.00</td>\n",
       "      <td>1.00</td>\n",
       "      <td>0.22</td>\n",
       "      <td>0.22</td>\n",
       "      <td>0.00</td>\n",
       "      <td>2.00</td>\n",
       "      <td>1.00</td>\n",
       "    </tr>\n",
       "    <tr>\n",
       "      <th>R10 1400m Hcap</th>\n",
       "      <td>3.00</td>\n",
       "      <td>11.50</td>\n",
       "      <td>1.00</td>\n",
       "      <td>58.50</td>\n",
       "      <td>0.38</td>\n",
       "      <td>430x5</td>\n",
       "      <td>-1317.80</td>\n",
       "      <td>Gelding</td>\n",
       "      <td>5.00</td>\n",
       "      <td>Male</td>\n",
       "      <td>...</td>\n",
       "      <td>10.00</td>\n",
       "      <td>0.10</td>\n",
       "      <td>0.30</td>\n",
       "      <td>0.00</td>\n",
       "      <td>0.29</td>\n",
       "      <td>0.20</td>\n",
       "      <td>0.30</td>\n",
       "      <td>1.00</td>\n",
       "      <td>1.00</td>\n",
       "      <td>0.00</td>\n",
       "    </tr>\n",
       "    <tr>\n",
       "      <th>R10 1400m Hcap</th>\n",
       "      <td>nan</td>\n",
       "      <td>19.00</td>\n",
       "      <td>5.00</td>\n",
       "      <td>58.50</td>\n",
       "      <td>0.38</td>\n",
       "      <td>44460</td>\n",
       "      <td>878.84</td>\n",
       "      <td>Gelding</td>\n",
       "      <td>6.00</td>\n",
       "      <td>Male</td>\n",
       "      <td>...</td>\n",
       "      <td>16.00</td>\n",
       "      <td>0.10</td>\n",
       "      <td>0.16</td>\n",
       "      <td>0.50</td>\n",
       "      <td>0.00</td>\n",
       "      <td>0.19</td>\n",
       "      <td>0.19</td>\n",
       "      <td>0.00</td>\n",
       "      <td>1.00</td>\n",
       "      <td>0.00</td>\n",
       "    </tr>\n",
       "    <tr>\n",
       "      <th>R10 1400m Hcap</th>\n",
       "      <td>nan</td>\n",
       "      <td>7.60</td>\n",
       "      <td>7.00</td>\n",
       "      <td>58.50</td>\n",
       "      <td>0.38</td>\n",
       "      <td>411x3</td>\n",
       "      <td>764.45</td>\n",
       "      <td>Mare</td>\n",
       "      <td>4.00</td>\n",
       "      <td>Male</td>\n",
       "      <td>...</td>\n",
       "      <td>3.00</td>\n",
       "      <td>0.33</td>\n",
       "      <td>0.33</td>\n",
       "      <td>nan</td>\n",
       "      <td>nan</td>\n",
       "      <td>0.33</td>\n",
       "      <td>0.33</td>\n",
       "      <td>nan</td>\n",
       "      <td>0.00</td>\n",
       "      <td>nan</td>\n",
       "    </tr>\n",
       "  </tbody>\n",
       "</table>\n",
       "<p>5 rows × 28 columns</p>\n",
       "</div>"
      ],
      "text/plain": [
       "                                      position_again  bf_odds  barrier  \\\n",
       "date       venue_name market_name                                        \n",
       "2016-06-27 Echuca     R10 1400m Hcap            1.00    18.50    12.00   \n",
       "                      R10 1400m Hcap            2.00    16.50     8.00   \n",
       "                      R10 1400m Hcap            3.00    11.50     1.00   \n",
       "                      R10 1400m Hcap             nan    19.00     5.00   \n",
       "                      R10 1400m Hcap             nan     7.60     7.00   \n",
       "\n",
       "                                      handicap_weight  weight_minus_average  \\\n",
       "date       venue_name market_name                                             \n",
       "2016-06-27 Echuca     R10 1400m Hcap            57.50                 -0.62   \n",
       "                      R10 1400m Hcap            59.00                  0.88   \n",
       "                      R10 1400m Hcap            58.50                  0.38   \n",
       "                      R10 1400m Hcap            58.50                  0.38   \n",
       "                      R10 1400m Hcap            58.50                  0.38   \n",
       "\n",
       "                                     last_five_starts  \\\n",
       "date       venue_name market_name                       \n",
       "2016-06-27 Echuca     R10 1400m Hcap            86x01   \n",
       "                      R10 1400m Hcap            6378x   \n",
       "                      R10 1400m Hcap            430x5   \n",
       "                      R10 1400m Hcap            44460   \n",
       "                      R10 1400m Hcap            411x3   \n",
       "\n",
       "                                      prize_money_per_start_minus_average  \\\n",
       "date       venue_name market_name                                           \n",
       "2016-06-27 Echuca     R10 1400m Hcap                             -1358.43   \n",
       "                      R10 1400m Hcap                             -1238.46   \n",
       "                      R10 1400m Hcap                             -1317.80   \n",
       "                      R10 1400m Hcap                               878.84   \n",
       "                      R10 1400m Hcap                               764.45   \n",
       "\n",
       "                                          sex  age jockey_sex  ...  \\\n",
       "date       venue_name market_name                              ...   \n",
       "2016-06-27 Echuca     R10 1400m Hcap     Mare 6.00       Male  ...   \n",
       "                      R10 1400m Hcap  Gelding 5.00       Male  ...   \n",
       "                      R10 1400m Hcap  Gelding 5.00       Male  ...   \n",
       "                      R10 1400m Hcap  Gelding 6.00       Male  ...   \n",
       "                      R10 1400m Hcap     Mare 4.00       Male  ...   \n",
       "\n",
       "                                      distance_starts  overall_win_percent  \\\n",
       "date       venue_name market_name                                            \n",
       "2016-06-27 Echuca     R10 1400m Hcap            12.00                 0.15   \n",
       "                      R10 1400m Hcap             9.00                 0.17   \n",
       "                      R10 1400m Hcap            10.00                 0.10   \n",
       "                      R10 1400m Hcap            16.00                 0.10   \n",
       "                      R10 1400m Hcap             3.00                 0.33   \n",
       "\n",
       "                                      overall_place_percent  \\\n",
       "date       venue_name market_name                             \n",
       "2016-06-27 Echuca     R10 1400m Hcap                   0.15   \n",
       "                      R10 1400m Hcap                   0.17   \n",
       "                      R10 1400m Hcap                   0.30   \n",
       "                      R10 1400m Hcap                   0.16   \n",
       "                      R10 1400m Hcap                   0.33   \n",
       "\n",
       "                                      track_win_percent  track_place_percent  \\\n",
       "date       venue_name market_name                                              \n",
       "2016-06-27 Echuca     R10 1400m Hcap               0.30                 0.20   \n",
       "                      R10 1400m Hcap               0.00                 1.00   \n",
       "                      R10 1400m Hcap               0.00                 0.29   \n",
       "                      R10 1400m Hcap               0.50                 0.00   \n",
       "                      R10 1400m Hcap                nan                  nan   \n",
       "\n",
       "                                      distance_win_percent  \\\n",
       "date       venue_name market_name                            \n",
       "2016-06-27 Echuca     R10 1400m Hcap                  0.25   \n",
       "                      R10 1400m Hcap                  0.22   \n",
       "                      R10 1400m Hcap                  0.20   \n",
       "                      R10 1400m Hcap                  0.19   \n",
       "                      R10 1400m Hcap                  0.33   \n",
       "\n",
       "                                      distance_place_percent  \\\n",
       "date       venue_name market_name                              \n",
       "2016-06-27 Echuca     R10 1400m Hcap                    0.25   \n",
       "                      R10 1400m Hcap                    0.22   \n",
       "                      R10 1400m Hcap                    0.30   \n",
       "                      R10 1400m Hcap                    0.19   \n",
       "                      R10 1400m Hcap                    0.33   \n",
       "\n",
       "                                      condition_win_percent  condition_starts  \\\n",
       "date       venue_name market_name                                               \n",
       "2016-06-27 Echuca     R10 1400m Hcap                   0.00              4.00   \n",
       "                      R10 1400m Hcap                   0.00              2.00   \n",
       "                      R10 1400m Hcap                   1.00              1.00   \n",
       "                      R10 1400m Hcap                   0.00              1.00   \n",
       "                      R10 1400m Hcap                    nan              0.00   \n",
       "\n",
       "                                      condition_place_percent  \n",
       "date       venue_name market_name                              \n",
       "2016-06-27 Echuca     R10 1400m Hcap                     0.50  \n",
       "                      R10 1400m Hcap                     1.00  \n",
       "                      R10 1400m Hcap                     0.00  \n",
       "                      R10 1400m Hcap                     0.00  \n",
       "                      R10 1400m Hcap                      nan  \n",
       "\n",
       "[5 rows x 28 columns]"
      ]
     },
     "execution_count": 15,
     "metadata": {},
     "output_type": "execute_result"
    }
   ],
   "source": [
    "# Replaces infinity (zero division) with NaN\n",
    "df_cleaned.replace([np.inf, -np.inf], np.nan, inplace=True)\n",
    "\n",
    "df_cleaned.sort_index(inplace=True)\n",
    "\n",
    "df_grouped = df_cleaned.groupby(['date','venue_name','market_name'])\n",
    "\n",
    "df_cleaned.head()"
   ]
  },
  {
   "cell_type": "markdown",
   "metadata": {},
   "source": [
    "# Testing which features are significant:\n",
    "\n",
    "### general_win_indices will be used when the feature has only distinct values:"
   ]
  },
  {
   "cell_type": "code",
   "execution_count": null,
   "metadata": {},
   "outputs": [],
   "source": [
    "general_win_indices = df_grouped.position_again.apply(lambda x: x == 1)"
   ]
  },
  {
   "cell_type": "markdown",
   "metadata": {},
   "source": [
    "## For horse gender:"
   ]
  },
  {
   "cell_type": "code",
   "execution_count": null,
   "metadata": {},
   "outputs": [],
   "source": [
    "#Removes races where only one horse gender is represented\n",
    "horse_gender_population = df_grouped.sex.value_counts(normalize=True,dropna=False).where(lambda x: x != 1).dropna()\n",
    "\n",
    "horse_gender_population_indices = horse_gender_population.index.droplevel('sex')\n",
    "\n",
    "horse_gender_population_cleaned = df_cleaned.loc[horse_gender_population_indices].drop_duplicates()"
   ]
  },
  {
   "cell_type": "code",
   "execution_count": null,
   "metadata": {},
   "outputs": [],
   "source": [
    "#General percentage of horse genders for races where multiple genders are represented  \n",
    "horse_gender_population_cleaned.sex.value_counts(dropna=False,normalize=True).sort_values(ascending=False).drop('Unknown')"
   ]
  },
  {
   "cell_type": "code",
   "execution_count": null,
   "metadata": {},
   "outputs": [],
   "source": [
    "horse_gender_win_indices = horse_gender_population_cleaned.position_again.apply(lambda x: x == 1)\n",
    "\n",
    "horse_gender_population_cleaned[horse_gender_win_indices].sex.value_counts(dropna=False,normalize=True).sort_values(ascending=False).drop('Unknown')"
   ]
  },
  {
   "cell_type": "code",
   "execution_count": null,
   "metadata": {},
   "outputs": [],
   "source": [
    "horse_sex_pop = horse_gender_population_cleaned.sex.value_counts(dropna=False,normalize=True).sort_values(ascending=False).drop('Unknown')\n",
    "\n",
    "horse_sex_win = horse_gender_population_cleaned[horse_gender_win_indices].sex.value_counts(dropna=False,normalize=True).sort_values(ascending=False).drop('Unknown')\n",
    "\n",
    "horse_sex_percent_difference = (horse_sex_win - horse_sex_pop)/horse_sex_pop"
   ]
  },
  {
   "cell_type": "code",
   "execution_count": null,
   "metadata": {},
   "outputs": [],
   "source": [
    "horse_sex_percent_difference"
   ]
  },
  {
   "cell_type": "code",
   "execution_count": null,
   "metadata": {
    "scrolled": true
   },
   "outputs": [],
   "source": [
    "index = ['Gelding', 'Mare', 'Filly','Colt', 'Horse']\n",
    "\n",
    "df1 = pd.DataFrame({'Total Proportion': horse_sex_pop,'Win Proportion': horse_sex_win , 'Percent Difference': horse_sex_percent_difference}, index=index)\n",
    "\n",
    "ax = df1.plot.bar(rot=0,title='The Significance of Horse Gender')"
   ]
  },
  {
   "cell_type": "markdown",
   "metadata": {},
   "source": [
    "### Using the Pearson's chi-squared test for both ways of finding population, I find horse gender isn't significant:"
   ]
  },
  {
   "cell_type": "code",
   "execution_count": null,
   "metadata": {},
   "outputs": [],
   "source": [
    "observed1 = horse_gender_population_cleaned.sex.value_counts().sort_values(ascending=False).drop('Unknown').values\n",
    "expected_percentages1 = horse_sex_pop.values\n",
    "expected1 = [x*observed1.sum() for x in expected_percentages1]\n",
    "\n",
    "test_stat1, p_value1 = chisquare(observed1, expected1)\n",
    "\n",
    "test_stat1, p_value1"
   ]
  },
  {
   "cell_type": "markdown",
   "metadata": {},
   "source": [
    "## For horse age:"
   ]
  },
  {
   "cell_type": "code",
   "execution_count": null,
   "metadata": {},
   "outputs": [],
   "source": [
    "#Removing races where there is only one age\n",
    "age_population = df_grouped.age.value_counts(normalize=True,dropna=False).where(lambda x: x != 1).dropna()\n",
    "\n",
    "age_population_indices = age_population.index.droplevel('age')\n",
    "\n",
    "age_population_cleaned = df_cleaned.loc[age_population_indices].drop_duplicates()"
   ]
  },
  {
   "cell_type": "code",
   "execution_count": null,
   "metadata": {},
   "outputs": [],
   "source": [
    "age_population_cleaned.age.value_counts(normalize=True,dropna=False).sort_index()"
   ]
  },
  {
   "cell_type": "code",
   "execution_count": null,
   "metadata": {},
   "outputs": [],
   "source": [
    "age_win_indices = age_population_cleaned.position_again.apply(lambda x: x == 1)\n",
    "\n",
    "age_population_cleaned[age_win_indices].age.value_counts(dropna=False,normalize=True).sort_index()"
   ]
  },
  {
   "cell_type": "code",
   "execution_count": null,
   "metadata": {},
   "outputs": [],
   "source": [
    "age_pop = age_population_cleaned.age.value_counts(dropna=False,normalize=True).sort_index()\n",
    "\n",
    "age_win = age_population_cleaned[age_win_indices].age.value_counts(dropna=False,normalize=True).sort_index()\n",
    "\n",
    "age_percent_difference = (age_win - age_pop)/age_pop"
   ]
  },
  {
   "cell_type": "code",
   "execution_count": null,
   "metadata": {},
   "outputs": [],
   "source": [
    "age_percent_difference"
   ]
  },
  {
   "cell_type": "code",
   "execution_count": null,
   "metadata": {},
   "outputs": [],
   "source": [
    "index = age_percent_difference.index\n",
    "\n",
    "df2 = pd.DataFrame({'Total Proportion': age_pop,'Win Proportion': age_win , 'Percent Difference': age_percent_difference}, index=index)\n",
    "\n",
    "ax = df2.plot.bar(rot=0, title='The Significance of Horse Age')"
   ]
  },
  {
   "cell_type": "markdown",
   "metadata": {},
   "source": [
    "### Using the Pearson's chi-squared test, I find horse age is significant:"
   ]
  },
  {
   "cell_type": "code",
   "execution_count": null,
   "metadata": {},
   "outputs": [],
   "source": [
    "observed2 = age_population_cleaned[age_win_indices].age.value_counts().sort_index().values\n",
    "expected_percentages2 = age_pop.values\n",
    "expected2 = [x*observed2.sum() for x in expected_percentages2]\n",
    "\n",
    "test_stat2, p_value2 = chisquare(observed2, expected2)\n",
    "\n",
    "test_stat2, p_value2"
   ]
  },
  {
   "cell_type": "markdown",
   "metadata": {},
   "source": [
    "## For handicap_weight:"
   ]
  },
  {
   "cell_type": "code",
   "execution_count": null,
   "metadata": {},
   "outputs": [],
   "source": [
    "#Removing races where there is only one age\n",
    "weight_population = df_grouped.handicap_weight.value_counts(normalize=True,dropna=False).where(lambda x: x != 1).dropna()\n",
    "\n",
    "weight_population_indices = weight_population.index.droplevel('handicap_weight')\n",
    "\n",
    "weight_population_cleaned = df_cleaned.loc[weight_population_indices].drop_duplicates()"
   ]
  },
  {
   "cell_type": "code",
   "execution_count": null,
   "metadata": {},
   "outputs": [],
   "source": [
    "weight_population_cleaned.handicap_weight.describe()"
   ]
  },
  {
   "cell_type": "code",
   "execution_count": null,
   "metadata": {},
   "outputs": [],
   "source": [
    "weight_win_indices = weight_population_cleaned.position_again.apply(lambda x: x == 1)\n",
    "\n",
    "weight_population_cleaned[weight_win_indices].handicap_weight.describe()"
   ]
  },
  {
   "cell_type": "code",
   "execution_count": null,
   "metadata": {
    "scrolled": true
   },
   "outputs": [],
   "source": [
    "data7a = weight_population_cleaned.handicap_weight.dropna().values\n",
    "\n",
    "data7b = weight_population_cleaned[weight_win_indices].handicap_weight.dropna().values\n",
    "\n",
    "plt.title(\"Winner and Race Distributions of Weight from Race Average\", fontsize=15)\n",
    "plt.hist(data7a, density=True, bins=13, range=(52,65), label='Race Average', color='b', alpha=.5, edgecolor='k')\n",
    "plt.hist(data7b, density=True, bins=13, range=(52,65), label='Winner Average', color='r', alpha=.5, edgecolor='k')\n",
    "plt.legend(loc='upper right')\n",
    "plt.xlabel('Weight from Average')\n",
    "plt.ylabel('Probability');"
   ]
  },
  {
   "cell_type": "markdown",
   "metadata": {},
   "source": [
    "### Using a 2-sample T-test, again I find that handicap_weight is significant:"
   ]
  },
  {
   "cell_type": "code",
   "execution_count": null,
   "metadata": {},
   "outputs": [],
   "source": [
    "test_stat7, p_value7 = ttest_ind(data7a, data7b)\n",
    "\n",
    "test_stat7, p_value7"
   ]
  },
  {
   "cell_type": "markdown",
   "metadata": {},
   "source": [
    "## For handicap_weight, using handicap weight_minus_average:"
   ]
  },
  {
   "cell_type": "code",
   "execution_count": null,
   "metadata": {},
   "outputs": [],
   "source": [
    "#I use the handicap_weight filters since the same races will be eliminated\n",
    "weight_population_cleaned.weight_minus_average.describe()"
   ]
  },
  {
   "cell_type": "code",
   "execution_count": null,
   "metadata": {},
   "outputs": [],
   "source": [
    "#average weight difference for winners\n",
    "weight_population_cleaned[weight_win_indices].weight_minus_average.describe()"
   ]
  },
  {
   "cell_type": "code",
   "execution_count": null,
   "metadata": {},
   "outputs": [],
   "source": [
    "data2a = weight_population_cleaned.weight_minus_average.dropna().values\n",
    "\n",
    "data2b = weight_population_cleaned[weight_win_indices].weight_minus_average.dropna().values\n",
    "\n",
    "plt.title(\"Winner and Race Distributions of Weight from Race Average\", fontsize=15)\n",
    "plt.hist(data2a, density=True, bins=30, range=(-7.5,7.5), label='Race Average', color='b', alpha=.5, edgecolor='k')\n",
    "plt.hist(data2b, density=True, bins=30, range=(-7.5,7.5), label='Winner Average', color='r', alpha=.5, edgecolor='k')\n",
    "plt.legend(loc='upper right')\n",
    "plt.xlabel('Weight from Average')\n",
    "plt.ylabel('Probability');"
   ]
  },
  {
   "cell_type": "markdown",
   "metadata": {},
   "source": [
    "### Using a 2-sample T-test, I find that handicap weight_minus_average is significant:"
   ]
  },
  {
   "cell_type": "code",
   "execution_count": null,
   "metadata": {},
   "outputs": [],
   "source": [
    "test_stat2, p_value2 = ttest_ind(data2a, data2b)\n",
    "\n",
    "test_stat2, p_value2"
   ]
  },
  {
   "cell_type": "markdown",
   "metadata": {},
   "source": [
    "## For prize money, using prize_money_per_start_minus_average:"
   ]
  },
  {
   "cell_type": "code",
   "execution_count": null,
   "metadata": {},
   "outputs": [],
   "source": [
    "df_cleaned.prize_money_per_start_minus_average.describe()"
   ]
  },
  {
   "cell_type": "code",
   "execution_count": null,
   "metadata": {},
   "outputs": [],
   "source": [
    "#Winner prize money \n",
    "df_cleaned[general_win_indices].prize_money_per_start_minus_average.describe()"
   ]
  },
  {
   "cell_type": "code",
   "execution_count": null,
   "metadata": {},
   "outputs": [],
   "source": [
    "data3a = df_cleaned.prize_money_per_start_minus_average.dropna().values\n",
    "data3b = df_cleaned[general_win_indices].prize_money_per_start_minus_average.dropna().values\n",
    "\n",
    "plt.title(\"Winner and Race Distributions of Prize Money per Start Minus Average\", fontsize=15)\n",
    "plt.hist(data3a, density=True, bins=40, range=(-10000,10000), label='Race Average', color='b', alpha=.6, edgecolor='k')\n",
    "plt.hist(data3b, density=True, bins=40, range=(-10000,10000), label='Winner Average', color='r', alpha=.5, edgecolor='k')\n",
    "plt.legend(loc='upper right')\n",
    "plt.xlabel('Prize Money per Start Minus Average')\n",
    "plt.ylabel('Probability');"
   ]
  },
  {
   "cell_type": "markdown",
   "metadata": {},
   "source": [
    "### Using a 2-sample T-test, I find that prize money per start is significant:\n"
   ]
  },
  {
   "cell_type": "code",
   "execution_count": null,
   "metadata": {},
   "outputs": [],
   "source": [
    "test_stat3, p_value3 = ttest_ind(data3a, data3b)\n",
    "\n",
    "test_stat3, p_value3"
   ]
  },
  {
   "cell_type": "markdown",
   "metadata": {},
   "source": [
    "## For overall wins:"
   ]
  },
  {
   "cell_type": "code",
   "execution_count": null,
   "metadata": {},
   "outputs": [],
   "source": [
    "overall_pop = df_cleaned.overall_win_percent.value_counts(normalize=True,bins=10).sort_index()\n",
    "\n",
    "overall_win = df_cleaned[general_win_indices].overall_win_percent.value_counts(normalize=True,bins=10).sort_index()\n",
    "\n",
    "overall_percent_difference = (overall_win - overall_pop)/overall_pop"
   ]
  },
  {
   "cell_type": "code",
   "execution_count": null,
   "metadata": {},
   "outputs": [],
   "source": [
    "overall_percent_difference"
   ]
  },
  {
   "cell_type": "code",
   "execution_count": null,
   "metadata": {},
   "outputs": [],
   "source": [
    "index = overall_percent_difference.index\n",
    "\n",
    "df5 = pd.DataFrame({'Total Proportion': overall_pop,'Win Proportion': overall_win , 'Percent Difference': overall_percent_difference}, index=index)\n",
    "\n",
    "ax = df5.plot.bar(title='The Significance of Horse overall')"
   ]
  },
  {
   "cell_type": "markdown",
   "metadata": {},
   "source": [
    "### There is high variance in the 100% column (aka beginner's luck). How many races before the 100% column is properly represented? That is, how many races is considered statistically significant?\n",
    "\n",
    "### 90-100% column should be roughly 3.90 or 390%"
   ]
  },
  {
   "cell_type": "markdown",
   "metadata": {},
   "source": [
    "## For Barrier:"
   ]
  },
  {
   "cell_type": "code",
   "execution_count": null,
   "metadata": {},
   "outputs": [],
   "source": [
    "barrier_pop = df_cleaned.barrier.value_counts(normalize=True).sort_index().drop([18.00,19.00,20.00])\n",
    "\n",
    "barrier_win = df_cleaned[general_win_indices].barrier.value_counts(normalize=True).sort_index().drop(18.00)\n",
    "\n",
    "barrier_percent_difference = (barrier_win - barrier_pop)/barrier_pop"
   ]
  },
  {
   "cell_type": "code",
   "execution_count": null,
   "metadata": {},
   "outputs": [],
   "source": [
    "barrier_pop"
   ]
  },
  {
   "cell_type": "code",
   "execution_count": null,
   "metadata": {},
   "outputs": [],
   "source": [
    "barrier_win"
   ]
  },
  {
   "cell_type": "code",
   "execution_count": null,
   "metadata": {},
   "outputs": [],
   "source": [
    "barrier_percent_difference"
   ]
  },
  {
   "cell_type": "code",
   "execution_count": null,
   "metadata": {},
   "outputs": [],
   "source": [
    "index = barrier_percent_difference.index\n",
    "\n",
    "df3 = pd.DataFrame({'Total Proportion': barrier_pop,'Win Proportion': barrier_win , 'Percent Difference': barrier_percent_difference}, index=index)\n",
    "\n",
    "ax = df3.plot.bar(rot=0, title='The Significance of Barrier')\n",
    "\n",
    "#why is barrier 1 overrepresented? Is there a problem with the data?"
   ]
  },
  {
   "cell_type": "markdown",
   "metadata": {},
   "source": [
    "### Using the Pearson's chi-squared test, I find that barrier is significant:"
   ]
  },
  {
   "cell_type": "code",
   "execution_count": null,
   "metadata": {},
   "outputs": [],
   "source": [
    "observed3 = df_cleaned[general_win_indices].barrier.value_counts().sort_index().drop(18.00).values\n",
    "expected_percentages3 = barrier_pop.values\n",
    "expected3 = [x*observed3.sum() for x in expected_percentages3]\n",
    "\n",
    "test_stat3, p_value3 = chisquare(observed3, expected3)\n",
    "\n",
    "test_stat3, p_value3"
   ]
  },
  {
   "cell_type": "markdown",
   "metadata": {},
   "source": [
    "## For jockey gender: "
   ]
  },
  {
   "cell_type": "markdown",
   "metadata": {},
   "source": [
    "#### Overall percentage of men and women in races where both are represented:"
   ]
  },
  {
   "cell_type": "code",
   "execution_count": null,
   "metadata": {},
   "outputs": [],
   "source": [
    "expected3#Drops races where there is only one jockey gender, meaning that the other gender can't win\n",
    "jockey_sex_population = df_grouped.jockey_sex.value_counts(normalize=True).where(lambda x: x != 1).dropna()\n",
    "\n",
    "#Finds mean percent of jockey genders in races\n",
    "#However, this method drops any race where there is a NaN value \n",
    "jockey_sex_population.mean(level=3)"
   ]
  },
  {
   "cell_type": "code",
   "execution_count": null,
   "metadata": {},
   "outputs": [],
   "source": [
    "jockey_sex_population_indices = jockey_sex_population.index\n",
    "\n",
    "jockey_sex_population_cleaned = df_cleaned.loc[jockey_sex_population_indices].drop_duplicates()"
   ]
  },
  {
   "cell_type": "markdown",
   "metadata": {},
   "source": [
    "#### Finding the total a different way:"
   ]
  },
  {
   "cell_type": "code",
   "execution_count": null,
   "metadata": {},
   "outputs": [],
   "source": [
    "jockey_sex_population_cleaned.jockey_sex.value_counts(normalize=True)\n",
    "#This amount is the sum of all 'male' and 'female' jockeys added together and THEN 'normalized'"
   ]
  },
  {
   "cell_type": "markdown",
   "metadata": {},
   "source": [
    "#### Win percentage of those races:"
   ]
  },
  {
   "cell_type": "code",
   "execution_count": null,
   "metadata": {},
   "outputs": [],
   "source": [
    "#Isolates wins in races with both jockey genders represented\n",
    "jockey_sex_win_indices = jockey_sex_population_cleaned.position_again.apply(lambda x: x == 1)\n",
    "\n",
    "jockey_sex_population_cleaned[jockey_sex_win_indices].jockey_sex.value_counts(normalize=True, dropna=False)"
   ]
  },
  {
   "cell_type": "code",
   "execution_count": null,
   "metadata": {},
   "outputs": [],
   "source": [
    "#Finding the percent difference between win and total\n",
    "jockey_sex_pop = jockey_sex_population_cleaned.jockey_sex.value_counts(normalize=True, dropna=False).values\n",
    "\n",
    "jockey_sex_win = jockey_sex_population_cleaned[jockey_sex_win_indices].jockey_sex.value_counts(normalize=True, dropna=False).values\n",
    "\n",
    "jockey_sex_percent_difference = (jockey_sex_win - jockey_sex_pop)/jockey_sex_pop"
   ]
  },
  {
   "cell_type": "code",
   "execution_count": null,
   "metadata": {},
   "outputs": [],
   "source": [
    "index = ['Men','Women']\n",
    "\n",
    "df4 = pd.DataFrame({'Total Proportion': jockey_sex_pop,'Win Proportion': jockey_sex_win , 'Percent Difference': jockey_sex_percent_difference}, index=index)\n",
    "\n",
    "ax = df4.plot.bar(rot=0, title='The Significance of Jockey Gender')"
   ]
  },
  {
   "cell_type": "markdown",
   "metadata": {},
   "source": [
    "### Using a 2-proportion z-test, I find that jockey gender is significant with a p-value of 2.3E-30\n",
    "#### (There is currently a bug with the statsmodels library concering compatibility with scipy, so I used a scientific calculator)"
   ]
  }
 ],
 "metadata": {
  "kernelspec": {
   "display_name": "Python 3",
   "language": "python",
   "name": "python3"
  },
  "language_info": {
   "codemirror_mode": {
    "name": "ipython",
    "version": 3
   },
   "file_extension": ".py",
   "mimetype": "text/x-python",
   "name": "python",
   "nbconvert_exporter": "python",
   "pygments_lexer": "ipython3",
   "version": "3.7.3"
  }
 },
 "nbformat": 4,
 "nbformat_minor": 2
}
