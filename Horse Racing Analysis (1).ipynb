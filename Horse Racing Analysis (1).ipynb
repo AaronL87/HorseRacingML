{
 "cells": [
  {
   "cell_type": "markdown",
   "metadata": {},
   "source": [
    "# Process of cleaning and analyzing horse racing data from Kaggle dataset \"Horses for Courses\""
   ]
  },
  {
   "cell_type": "code",
   "execution_count": 1,
   "metadata": {},
   "outputs": [],
   "source": [
    "import pandas as pd\n",
    "import numpy as np\n",
    "import matplotlib as plt\n",
    "\n",
    "%matplotlib inline"
   ]
  },
  {
   "cell_type": "code",
   "execution_count": 2,
   "metadata": {},
   "outputs": [
    {
     "name": "stderr",
     "output_type": "stream",
     "text": [
      "/home/rayslim51/miniconda3/lib/python3.7/site-packages/IPython/core/interactiveshell.py:3049: DtypeWarning: Columns (25,38,51,56,57,58) have mixed types. Specify dtype option on import or set low_memory=False.\n",
      "  interactivity=interactivity, compiler=compiler, result=result)\n"
     ]
    }
   ],
   "source": [
    "fields = [\"position_again\",\"position_two\",\"bf_odds\",\"venue_name\",\"date\",\"market_name\",\"condition\",\"barrier\",\"handicap_weight\",\"last_five_starts\",\"prize_money\",\"sex\",\"age\",\"jockey\",\"jockey_sex\",\"trainer\",\"days_since_last_run\",\"runs_since_spell\",\"overall_starts\",\"overall_wins\",\"overall_places\",\"track_starts\",\"track_wins\",\"track_places\",\"firm_starts\",\"firm_wins\",\"firm_places\",\"good_starts\",\"good_wins\",\"good_places\",\"dead_starts\",\"dead_wins\",\"dead_places\",\"slow_starts\",\"slow_wins\",\"slow_places\",\"soft_starts\",\"soft_wins\",\"soft_places\",\"heavy_starts\",\"heavy_wins\",\"heavy_places\",\"distance_starts\",\"distance_wins\",\"distance_places\"]\n",
    "\n",
    "df = pd.read_csv(\"horses.csv\", skipinitialspace=True, usecols=fields, low_memory=False)"
   ]
  },
  {
   "cell_type": "markdown",
   "metadata": {},
   "source": [
    "### The following reassigns variable types"
   ]
  },
  {
   "cell_type": "code",
   "execution_count": 9,
   "metadata": {
    "scrolled": false
   },
   "outputs": [
    {
     "data": {
      "text/html": [
       "<div>\n",
       "<style scoped>\n",
       "    .dataframe tbody tr th:only-of-type {\n",
       "        vertical-align: middle;\n",
       "    }\n",
       "\n",
       "    .dataframe tbody tr th {\n",
       "        vertical-align: top;\n",
       "    }\n",
       "\n",
       "    .dataframe thead th {\n",
       "        text-align: right;\n",
       "    }\n",
       "</style>\n",
       "<table border=\"1\" class=\"dataframe\">\n",
       "  <thead>\n",
       "    <tr style=\"text-align: right;\">\n",
       "      <th></th>\n",
       "      <th>position_again</th>\n",
       "      <th>all_finish</th>\n",
       "      <th>bf_odds</th>\n",
       "      <th>venue_name</th>\n",
       "      <th>date</th>\n",
       "      <th>market_name</th>\n",
       "      <th>condition</th>\n",
       "      <th>barrier</th>\n",
       "      <th>handicap_weight</th>\n",
       "      <th>last_five_starts</th>\n",
       "      <th>...</th>\n",
       "      <th>slow_places</th>\n",
       "      <th>soft_starts</th>\n",
       "      <th>soft_wins</th>\n",
       "      <th>soft_places</th>\n",
       "      <th>heavy_starts</th>\n",
       "      <th>heavy_wins</th>\n",
       "      <th>heavy_places</th>\n",
       "      <th>distance_starts</th>\n",
       "      <th>distance_wins</th>\n",
       "      <th>distance_places</th>\n",
       "    </tr>\n",
       "  </thead>\n",
       "  <tbody>\n",
       "    <tr>\n",
       "      <th>0</th>\n",
       "      <td>1.0</td>\n",
       "      <td>1.0</td>\n",
       "      <td>2.88</td>\n",
       "      <td>Echuca</td>\n",
       "      <td>2016-06-27</td>\n",
       "      <td>R3 1200m Mdn</td>\n",
       "      <td>HVY9</td>\n",
       "      <td>3.0</td>\n",
       "      <td>58.5</td>\n",
       "      <td>['f3']</td>\n",
       "      <td>...</td>\n",
       "      <td>1.0</td>\n",
       "      <td>1.0</td>\n",
       "      <td>0.0</td>\n",
       "      <td>1.0</td>\n",
       "      <td>0.0</td>\n",
       "      <td>0.0</td>\n",
       "      <td>0.0</td>\n",
       "      <td>1.0</td>\n",
       "      <td>0.0</td>\n",
       "      <td>1.0</td>\n",
       "    </tr>\n",
       "    <tr>\n",
       "      <th>1</th>\n",
       "      <td>2.0</td>\n",
       "      <td>2.0</td>\n",
       "      <td>15.00</td>\n",
       "      <td>Echuca</td>\n",
       "      <td>2016-06-27</td>\n",
       "      <td>R3 1200m Mdn</td>\n",
       "      <td>HVY9</td>\n",
       "      <td>10.0</td>\n",
       "      <td>58.5</td>\n",
       "      <td>['x80x2']</td>\n",
       "      <td>...</td>\n",
       "      <td>1.0</td>\n",
       "      <td>2.0</td>\n",
       "      <td>0.0</td>\n",
       "      <td>1.0</td>\n",
       "      <td>1.0</td>\n",
       "      <td>0.0</td>\n",
       "      <td>0.0</td>\n",
       "      <td>1.0</td>\n",
       "      <td>0.0</td>\n",
       "      <td>1.0</td>\n",
       "    </tr>\n",
       "    <tr>\n",
       "      <th>2</th>\n",
       "      <td>3.0</td>\n",
       "      <td>3.0</td>\n",
       "      <td>95.00</td>\n",
       "      <td>Echuca</td>\n",
       "      <td>2016-06-27</td>\n",
       "      <td>R3 1200m Mdn</td>\n",
       "      <td>HVY9</td>\n",
       "      <td>6.0</td>\n",
       "      <td>56.5</td>\n",
       "      <td>['79x00']</td>\n",
       "      <td>...</td>\n",
       "      <td>0.0</td>\n",
       "      <td>5.0</td>\n",
       "      <td>0.0</td>\n",
       "      <td>0.0</td>\n",
       "      <td>3.0</td>\n",
       "      <td>0.0</td>\n",
       "      <td>0.0</td>\n",
       "      <td>4.0</td>\n",
       "      <td>0.0</td>\n",
       "      <td>0.0</td>\n",
       "    </tr>\n",
       "    <tr>\n",
       "      <th>3</th>\n",
       "      <td>NaN</td>\n",
       "      <td>4.0</td>\n",
       "      <td>20.00</td>\n",
       "      <td>Echuca</td>\n",
       "      <td>2016-06-27</td>\n",
       "      <td>R3 1200m Mdn</td>\n",
       "      <td>HVY9</td>\n",
       "      <td>2.0</td>\n",
       "      <td>56.5</td>\n",
       "      <td>['f0']</td>\n",
       "      <td>...</td>\n",
       "      <td>0.0</td>\n",
       "      <td>1.0</td>\n",
       "      <td>0.0</td>\n",
       "      <td>0.0</td>\n",
       "      <td>0.0</td>\n",
       "      <td>0.0</td>\n",
       "      <td>0.0</td>\n",
       "      <td>1.0</td>\n",
       "      <td>0.0</td>\n",
       "      <td>0.0</td>\n",
       "    </tr>\n",
       "    <tr>\n",
       "      <th>4</th>\n",
       "      <td>NaN</td>\n",
       "      <td>5.0</td>\n",
       "      <td>2.74</td>\n",
       "      <td>Echuca</td>\n",
       "      <td>2016-06-27</td>\n",
       "      <td>R3 1200m Mdn</td>\n",
       "      <td>HVY9</td>\n",
       "      <td>7.0</td>\n",
       "      <td>56.5</td>\n",
       "      <td>['f4x']</td>\n",
       "      <td>...</td>\n",
       "      <td>0.0</td>\n",
       "      <td>0.0</td>\n",
       "      <td>0.0</td>\n",
       "      <td>0.0</td>\n",
       "      <td>0.0</td>\n",
       "      <td>0.0</td>\n",
       "      <td>0.0</td>\n",
       "      <td>1.0</td>\n",
       "      <td>0.0</td>\n",
       "      <td>0.0</td>\n",
       "    </tr>\n",
       "  </tbody>\n",
       "</table>\n",
       "<p>5 rows × 45 columns</p>\n",
       "</div>"
      ],
      "text/plain": [
       "   position_again  all_finish  bf_odds venue_name       date   market_name  \\\n",
       "0             1.0         1.0     2.88     Echuca 2016-06-27  R3 1200m Mdn   \n",
       "1             2.0         2.0    15.00     Echuca 2016-06-27  R3 1200m Mdn   \n",
       "2             3.0         3.0    95.00     Echuca 2016-06-27  R3 1200m Mdn   \n",
       "3             NaN         4.0    20.00     Echuca 2016-06-27  R3 1200m Mdn   \n",
       "4             NaN         5.0     2.74     Echuca 2016-06-27  R3 1200m Mdn   \n",
       "\n",
       "  condition  barrier  handicap_weight last_five_starts  ...  slow_places  \\\n",
       "0      HVY9      3.0             58.5           ['f3']  ...          1.0   \n",
       "1      HVY9     10.0             58.5        ['x80x2']  ...          1.0   \n",
       "2      HVY9      6.0             56.5        ['79x00']  ...          0.0   \n",
       "3      HVY9      2.0             56.5           ['f0']  ...          0.0   \n",
       "4      HVY9      7.0             56.5          ['f4x']  ...          0.0   \n",
       "\n",
       "  soft_starts  soft_wins soft_places heavy_starts heavy_wins  heavy_places  \\\n",
       "0         1.0        0.0         1.0          0.0        0.0           0.0   \n",
       "1         2.0        0.0         1.0          1.0        0.0           0.0   \n",
       "2         5.0        0.0         0.0          3.0        0.0           0.0   \n",
       "3         1.0        0.0         0.0          0.0        0.0           0.0   \n",
       "4         0.0        0.0         0.0          0.0        0.0           0.0   \n",
       "\n",
       "   distance_starts  distance_wins  distance_places  \n",
       "0              1.0            0.0              1.0  \n",
       "1              1.0            0.0              1.0  \n",
       "2              4.0            0.0              0.0  \n",
       "3              1.0            0.0              0.0  \n",
       "4              1.0            0.0              0.0  \n",
       "\n",
       "[5 rows x 45 columns]"
      ]
     },
     "execution_count": 9,
     "metadata": {},
     "output_type": "execute_result"
    }
   ],
   "source": [
    "df.date = pd.to_datetime(df.date, format='%Y'+'-'+'%m'+'-'+'%d')\n",
    "df.market_name = df.market_name.astype('str') \n",
    "df.venue_name = df.venue_name.astype('str')\n",
    "df.condition = df.condition.astype('str')\n",
    "df.sex = df.sex.astype('str')\n",
    "df.last_five_starts = df.last_five_starts.astype('str')\n",
    "\n",
    "df = df.rename(index=str, columns={\"position_two\":\"all_finish\"})\n",
    "\n",
    "df.head()"
   ]
  },
  {
   "cell_type": "code",
   "execution_count": null,
   "metadata": {},
   "outputs": [],
   "source": [
    "#dropping these now and will potentially add them back in later\n",
    "\n",
    "df_main = df.drop(['jockey','jockey_sex','trainer','runs_since_spell','track_starts','track_wins','track_places','firm_starts','firm_wins','firm_places','good_starts','good_wins','good_places','dead_starts','dead_wins','dead_places','slow_starts','slow_wins','slow_places','soft_starts','soft_wins','soft_places','heavy_starts','heavy_wins','heavy_places','distance_starts','distance_wins','distance_places'], axis=1)\n",
    "\n",
    "df_main.head()"
   ]
  },
  {
   "cell_type": "markdown",
   "metadata": {},
   "source": [
    "### Trying to clean data, I find:"
   ]
  },
  {
   "cell_type": "code",
   "execution_count": null,
   "metadata": {},
   "outputs": [],
   "source": [
    "df_main[(df_main[\"all_finish\"] == df_main.shift(-1)[\"all_finish\"]) & (df_main[\"all_finish\"] == 1) & (df_main[\"position_again\"] != df_main[\"all_finish\"])]\n",
    "\n",
    "#there are doubled first-place finishes (false ties) in all_finish column, which is inconsistent with position_again "
   ]
  },
  {
   "cell_type": "code",
   "execution_count": null,
   "metadata": {},
   "outputs": [],
   "source": [
    "df_main[((df_main[\"position_again\"] == df_main[\"all_finish\"]) & (df_main[\"position_again\"] == 1)) & ((df_main.shift(-1)[\"position_again\"] == df_main.shift(-1)[\"all_finish\"]) & (df_main.shift(-1)[\"position_again\"] == 2)) & (((df_main.shift(-2)[\"position_again\"] == df_main.shift(-2)[\"all_finish\"]) & (df_main.shift(-2)[\"position_again\"] == 3)) | ((df_main.shift(-2)[\"position_again\"].isna()) & (df_main.shift(-2)[\"all_finish\"] == 3)))]\n",
    "\n",
    "#filters out values where position_again and all_finish are not consistent"
   ]
  },
  {
   "cell_type": "code",
   "execution_count": null,
   "metadata": {},
   "outputs": [],
   "source": [
    "clean_indices = df_main.index[((df_main[\"position_again\"] == df_main[\"all_finish\"]) & (df_main[\"position_again\"] == 1)) & ((df_main.shift(-1)[\"position_again\"] == df_main.shift(-1)[\"all_finish\"]) & (df_main.shift(-1)[\"position_again\"] == 2)) & (((df_main.shift(-2)[\"position_again\"] == df_main.shift(-2)[\"all_finish\"]) & (df_main.shift(-2)[\"position_again\"] == 3)) | ((df_main.shift(-2)[\"position_again\"].isna()) & (df_main.shift(-2)[\"all_finish\"] == 3)))]\n",
    "\n",
    "clean_indices"
   ]
  },
  {
   "cell_type": "code",
   "execution_count": null,
   "metadata": {},
   "outputs": [],
   "source": [
    "#finds all races where there are 0 or NaN values above the first place position of the same race\n",
    "\n",
    "shift_one_indices = list(df_main.index[((df_main[\"position_again\"] == df_main[\"all_finish\"]) & (df_main[\"position_again\"] == 1)) & (df_main[\"market_name\"] == df_main.shift(1)[\"market_name\"]) & (df_main[\"venue_name\"] == df_main.shift(1)[\"venue_name\"]) & (df_main[\"date\"] == df_main.shift(1)[\"date\"])])\n",
    "shift_two_indices = list(df_main.index[((df_main[\"position_again\"] == df_main[\"all_finish\"]) & (df_main[\"position_again\"] == 1)) & (df_main[\"market_name\"] == df_main.shift(2)[\"market_name\"]) & (df_main[\"venue_name\"] == df_main.shift(2)[\"venue_name\"]) & (df_main[\"date\"] == df_main.shift(2)[\"date\"])])\n",
    "shift_three_indices = list(df_main.index[((df_main[\"position_again\"] == df_main[\"all_finish\"]) & (df_main[\"position_again\"] == 1)) & (df_main[\"market_name\"] == df_main.shift(3)[\"market_name\"]) & (df_main[\"venue_name\"] == df_main.shift(3)[\"venue_name\"]) & (df_main[\"date\"] == df_main.shift(3)[\"date\"])])\n",
    "shift_four_indices = list(df_main.index[((df_main[\"position_again\"] == df_main[\"all_finish\"]) & (df_main[\"position_again\"] == 1)) & (df_main[\"market_name\"] == df_main.shift(4)[\"market_name\"]) & (df_main[\"venue_name\"] == df_main.shift(4)[\"venue_name\"]) & (df_main[\"date\"] == df_main.shift(4)[\"date\"])])\n",
    "shift_five_indices = list(df_main.index[((df_main[\"position_again\"] == df_main[\"all_finish\"]) & (df_main[\"position_again\"] == 1)) & (df_main[\"market_name\"] == df_main.shift(5)[\"market_name\"]) & (df_main[\"venue_name\"] == df_main.shift(5)[\"venue_name\"]) & (df_main[\"date\"] == df_main.shift(5)[\"date\"])])\n",
    "shift_six_indices = list(df_main.index[((df_main[\"position_again\"] == df_main[\"all_finish\"]) & (df_main[\"position_again\"] == 1)) & (df_main[\"market_name\"] == df_main.shift(6)[\"market_name\"]) & (df_main[\"venue_name\"] == df_main.shift(6)[\"venue_name\"]) & (df_main[\"date\"] == df_main.shift(6)[\"date\"])])\n",
    "\n",
    "print(\"shift_one_indices:\",len(shift_one_indices),shift_one_indices)\n",
    "print(\"shift_two_indices:\",len(shift_two_indices),shift_two_indices)\n",
    "print(\"shift_three_indices:\",len(shift_three_indices),shift_three_indices)\n",
    "print(\"shift_four_indices:\",len(shift_four_indices),shift_four_indices)\n",
    "print(\"shift_five_indices:\",len(shift_five_indices),shift_five_indices)\n",
    "print(\"shift_six_indices:\",len(shift_six_indices),shift_six_indices)\n",
    "\n",
    "shift_all_indices = list(set(shift_one_indices+shift_two_indices+shift_three_indices,shift_four_indices+shift_five_indices))"
   ]
  },
  {
   "cell_type": "code",
   "execution_count": null,
   "metadata": {},
   "outputs": [],
   "source": [
    "# Example of shifted indices where values of race are above first place finish of that race.\n",
    "\n",
    "x=5405\n",
    "\n",
    "df_main.iloc[[x-6,x-5,x-4,x-3,x-2,x-1,x,x+1,x+2,x+3]]"
   ]
  },
  {
   "cell_type": "code",
   "execution_count": null,
   "metadata": {},
   "outputs": [],
   "source": [
    "#adds win percentage and place percentage columns and drops \"overall\" columns\n",
    "\n",
    "try:\n",
    "    df_main[\"n_win_percent\"] = df_main[\"overall_wins\"]/df_main[\"overall_starts\"]\n",
    "except ZeroDivisionError:\n",
    "    df_main[\"n_win_percent\"] = np.nan\n",
    "    \n",
    "try:\n",
    "    df_main[\"o_place_percent\"] = df_main[\"overall_places\"]/df_main[\"overall_starts\"]\n",
    "except ZeroDivisionError:\n",
    "    df_main[\"o_place_percent\"] = np.nan\n",
    "    \n",
    "df_main = df_main.drop(['position_again', 'overall_wins', 'overall_starts', 'overall_places'], axis=1)"
   ]
  },
  {
   "cell_type": "code",
   "execution_count": null,
   "metadata": {},
   "outputs": [],
   "source": [
    "#might finish and use this to fix the shift_all_indices\n",
    "\n",
    "'''\n",
    "\n",
    "checker = []\n",
    "\n",
    "for i in range(len(wrong_indices)):\n",
    "    if i == len(wrong_indices)-1:\n",
    "        break\n",
    "    else:\n",
    "        first_counter = 0\n",
    "        value = all_finish[wrong_indices[i]]\n",
    "        while value != 1:\n",
    "            first_counter += 1\n",
    "            value = all_finish[wrong_indices[i]+first_counter]\n",
    "        place = venue_name[wrong_indices[i]+first_counter]\n",
    "        race = market_name[wrong_indices[i]+first_counter]\n",
    "        find_counter = 0\n",
    "        while (place == wrong_indices[i]+first_counter) & (race == market_name[wrong_indices[i]+first_counter]):\n",
    "            find_counter -= 1\n",
    "            place = venue_name[wrong_indices[i]+find_counter]\n",
    "            race = market_name[wrong_indices[i]+find_counter]\n",
    "        place = venue_name[wrong_indices[i]+first_counter]\n",
    "        race = market_name[wrong_indices[i]+first_counter]\n",
    "        replace_count = 0\n",
    "        while (place == wrong_indices[i]+first_counter) & (race == market_name[wrong_indices[i]+first_counter]):\n",
    "            replace_count += 1\n",
    "            place = venue_name[wrong_indices[i]+replace_count]\n",
    "            race = market_name[wrong_indices[i]+replace_count]\n",
    "        for j in range((wrong_indices[i]+replace_count-1) - (wrong_indices[i]+first_counter+1)):\n",
    "            \n",
    "        ...\n",
    "                    \n",
    "'''"
   ]
  },
  {
   "cell_type": "code",
   "execution_count": null,
   "metadata": {},
   "outputs": [],
   "source": [
    "#makes a new dataframe of all good races in \"clean_values\"\n",
    "\n",
    "df_clean = pd.DataFrame()\n",
    "\n",
    "for i in clean_indices:\n",
    "    counter = 0\n",
    "    value = 0\n",
    "    while value != 1:\n",
    "        counter += 1\n",
    "        value = df_main[\"all_finish\"][int(i)+counter]\n",
    "    if (str(int(i)+counter) in clean_indices) & (str(int(i)+counter) not in shift_all_indices):\n",
    "        for j in range(counter-1):\n",
    "            df_clean = df_clean.append(df_main.iloc[int(i)+j], ignore_index = True)"
   ]
  },
  {
   "cell_type": "markdown",
   "metadata": {},
   "source": [
    "### The following splits the market_name column into three separate columns"
   ]
  },
  {
   "cell_type": "code",
   "execution_count": null,
   "metadata": {},
   "outputs": [],
   "source": [
    "df_clean.market_name.unique()"
   ]
  },
  {
   "cell_type": "code",
   "execution_count": null,
   "metadata": {},
   "outputs": [],
   "source": [
    "new = df_clean[\"market_name\"].str.split(\" \", n = 2, expand = True) "
   ]
  },
  {
   "cell_type": "code",
   "execution_count": null,
   "metadata": {},
   "outputs": [],
   "source": [
    "df_clean.insert(4, \"race_number\", new[0])\n",
    "df_clean.insert(5, \"race_length\", new[1])\n",
    "df_clean.insert(6, \"race_type\", new[2])"
   ]
  },
  {
   "cell_type": "code",
   "execution_count": null,
   "metadata": {},
   "outputs": [],
   "source": [
    "df_clean.drop(columns =[\"market_name\"], inplace = True)\n",
    "df_clean.head()"
   ]
  },
  {
   "cell_type": "code",
   "execution_count": null,
   "metadata": {},
   "outputs": [],
   "source": [
    "df_clean.race_type.unique()"
   ]
  },
  {
   "cell_type": "markdown",
   "metadata": {},
   "source": [
    "### Next, I will find the average weight of each race to create a handicap_weight_minus_average column."
   ]
  },
  {
   "cell_type": "code",
   "execution_count": null,
   "metadata": {},
   "outputs": [],
   "source": []
  }
 ],
 "metadata": {
  "kernelspec": {
   "display_name": "Python 3",
   "language": "python",
   "name": "python3"
  },
  "language_info": {
   "codemirror_mode": {
    "name": "ipython",
    "version": 3
   },
   "file_extension": ".py",
   "mimetype": "text/x-python",
   "name": "python",
   "nbconvert_exporter": "python",
   "pygments_lexer": "ipython3",
   "version": "3.7.3"
  }
 },
 "nbformat": 4,
 "nbformat_minor": 2
}
