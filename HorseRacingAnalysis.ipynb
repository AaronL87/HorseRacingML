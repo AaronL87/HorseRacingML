{
 "cells": [
  {
   "cell_type": "markdown",
   "metadata": {},
   "source": [
    "# <center> Analyzing the \"Horses for Courses\" Horse Racing Dataset from Kaggle </center>"
   ]
  },
  {
   "cell_type": "code",
   "execution_count": 1,
   "metadata": {},
   "outputs": [],
   "source": [
    "import pandas as pd\n",
    "import numpy as np\n",
    "import matplotlib.pyplot as plt\n",
    "from scipy.stats import chisquare, ttest_ind, zscore\n",
    "\n",
    "%matplotlib inline\n",
    "\n",
    "#Supresses scientific notation\n",
    "pd.set_option('display.float_format', lambda x: '%.2f' % x)\n",
    "\n",
    "import warnings\n",
    "warnings.filterwarnings('ignore')"
   ]
  },
  {
   "cell_type": "code",
   "execution_count": 2,
   "metadata": {},
   "outputs": [
    {
     "data": {
      "text/html": [
       "<div>\n",
       "<style scoped>\n",
       "    .dataframe tbody tr th:only-of-type {\n",
       "        vertical-align: middle;\n",
       "    }\n",
       "\n",
       "    .dataframe tbody tr th {\n",
       "        vertical-align: top;\n",
       "    }\n",
       "\n",
       "    .dataframe thead th {\n",
       "        text-align: right;\n",
       "    }\n",
       "</style>\n",
       "<table border=\"1\" class=\"dataframe\">\n",
       "  <thead>\n",
       "    <tr style=\"text-align: right;\">\n",
       "      <th></th>\n",
       "      <th>position_again</th>\n",
       "      <th>bf_odds</th>\n",
       "      <th>venue_name</th>\n",
       "      <th>date</th>\n",
       "      <th>market_name</th>\n",
       "      <th>condition</th>\n",
       "      <th>barrier</th>\n",
       "      <th>handicap_weight</th>\n",
       "      <th>prize_money</th>\n",
       "      <th>sex</th>\n",
       "      <th>...</th>\n",
       "      <th>slow_places</th>\n",
       "      <th>soft_starts</th>\n",
       "      <th>soft_wins</th>\n",
       "      <th>soft_places</th>\n",
       "      <th>heavy_starts</th>\n",
       "      <th>heavy_wins</th>\n",
       "      <th>heavy_places</th>\n",
       "      <th>distance_starts</th>\n",
       "      <th>distance_wins</th>\n",
       "      <th>distance_places</th>\n",
       "    </tr>\n",
       "  </thead>\n",
       "  <tbody>\n",
       "    <tr>\n",
       "      <th>0</th>\n",
       "      <td>1.00</td>\n",
       "      <td>2.88</td>\n",
       "      <td>Echuca</td>\n",
       "      <td>2016-06-27</td>\n",
       "      <td>R3 1200m Mdn</td>\n",
       "      <td>HVY9</td>\n",
       "      <td>3.00</td>\n",
       "      <td>58.50</td>\n",
       "      <td>2160.00</td>\n",
       "      <td>Gelding</td>\n",
       "      <td>...</td>\n",
       "      <td>1.00</td>\n",
       "      <td>1.00</td>\n",
       "      <td>0.00</td>\n",
       "      <td>1.00</td>\n",
       "      <td>0.00</td>\n",
       "      <td>0.00</td>\n",
       "      <td>0.00</td>\n",
       "      <td>1.00</td>\n",
       "      <td>0.00</td>\n",
       "      <td>1.00</td>\n",
       "    </tr>\n",
       "    <tr>\n",
       "      <th>1</th>\n",
       "      <td>2.00</td>\n",
       "      <td>15.00</td>\n",
       "      <td>Echuca</td>\n",
       "      <td>2016-06-27</td>\n",
       "      <td>R3 1200m Mdn</td>\n",
       "      <td>HVY9</td>\n",
       "      <td>10.00</td>\n",
       "      <td>58.50</td>\n",
       "      <td>21175.00</td>\n",
       "      <td>Gelding</td>\n",
       "      <td>...</td>\n",
       "      <td>1.00</td>\n",
       "      <td>2.00</td>\n",
       "      <td>0.00</td>\n",
       "      <td>1.00</td>\n",
       "      <td>1.00</td>\n",
       "      <td>0.00</td>\n",
       "      <td>0.00</td>\n",
       "      <td>1.00</td>\n",
       "      <td>0.00</td>\n",
       "      <td>1.00</td>\n",
       "    </tr>\n",
       "    <tr>\n",
       "      <th>2</th>\n",
       "      <td>3.00</td>\n",
       "      <td>95.00</td>\n",
       "      <td>Echuca</td>\n",
       "      <td>2016-06-27</td>\n",
       "      <td>R3 1200m Mdn</td>\n",
       "      <td>HVY9</td>\n",
       "      <td>6.00</td>\n",
       "      <td>56.50</td>\n",
       "      <td>28855.00</td>\n",
       "      <td>Mare</td>\n",
       "      <td>...</td>\n",
       "      <td>0.00</td>\n",
       "      <td>5.00</td>\n",
       "      <td>0.00</td>\n",
       "      <td>0.00</td>\n",
       "      <td>3.00</td>\n",
       "      <td>0.00</td>\n",
       "      <td>0.00</td>\n",
       "      <td>4.00</td>\n",
       "      <td>0.00</td>\n",
       "      <td>0.00</td>\n",
       "    </tr>\n",
       "    <tr>\n",
       "      <th>3</th>\n",
       "      <td>nan</td>\n",
       "      <td>20.00</td>\n",
       "      <td>Echuca</td>\n",
       "      <td>2016-06-27</td>\n",
       "      <td>R3 1200m Mdn</td>\n",
       "      <td>HVY9</td>\n",
       "      <td>2.00</td>\n",
       "      <td>56.50</td>\n",
       "      <td>1475.00</td>\n",
       "      <td>Filly</td>\n",
       "      <td>...</td>\n",
       "      <td>0.00</td>\n",
       "      <td>1.00</td>\n",
       "      <td>0.00</td>\n",
       "      <td>0.00</td>\n",
       "      <td>0.00</td>\n",
       "      <td>0.00</td>\n",
       "      <td>0.00</td>\n",
       "      <td>1.00</td>\n",
       "      <td>0.00</td>\n",
       "      <td>0.00</td>\n",
       "    </tr>\n",
       "    <tr>\n",
       "      <th>4</th>\n",
       "      <td>nan</td>\n",
       "      <td>2.74</td>\n",
       "      <td>Echuca</td>\n",
       "      <td>2016-06-27</td>\n",
       "      <td>R3 1200m Mdn</td>\n",
       "      <td>HVY9</td>\n",
       "      <td>7.00</td>\n",
       "      <td>56.50</td>\n",
       "      <td>1215.00</td>\n",
       "      <td>Filly</td>\n",
       "      <td>...</td>\n",
       "      <td>0.00</td>\n",
       "      <td>0.00</td>\n",
       "      <td>0.00</td>\n",
       "      <td>0.00</td>\n",
       "      <td>0.00</td>\n",
       "      <td>0.00</td>\n",
       "      <td>0.00</td>\n",
       "      <td>1.00</td>\n",
       "      <td>0.00</td>\n",
       "      <td>0.00</td>\n",
       "    </tr>\n",
       "  </tbody>\n",
       "</table>\n",
       "<p>5 rows × 38 columns</p>\n",
       "</div>"
      ],
      "text/plain": [
       "   position_again  bf_odds venue_name        date   market_name condition  \\\n",
       "0            1.00     2.88     Echuca  2016-06-27  R3 1200m Mdn      HVY9   \n",
       "1            2.00    15.00     Echuca  2016-06-27  R3 1200m Mdn      HVY9   \n",
       "2            3.00    95.00     Echuca  2016-06-27  R3 1200m Mdn      HVY9   \n",
       "3             nan    20.00     Echuca  2016-06-27  R3 1200m Mdn      HVY9   \n",
       "4             nan     2.74     Echuca  2016-06-27  R3 1200m Mdn      HVY9   \n",
       "\n",
       "   barrier  handicap_weight  prize_money      sex  ...  slow_places  \\\n",
       "0     3.00            58.50      2160.00  Gelding  ...         1.00   \n",
       "1    10.00            58.50     21175.00  Gelding  ...         1.00   \n",
       "2     6.00            56.50     28855.00     Mare  ...         0.00   \n",
       "3     2.00            56.50      1475.00    Filly  ...         0.00   \n",
       "4     7.00            56.50      1215.00    Filly  ...         0.00   \n",
       "\n",
       "  soft_starts soft_wins  soft_places  heavy_starts  heavy_wins  heavy_places  \\\n",
       "0        1.00      0.00         1.00          0.00        0.00          0.00   \n",
       "1        2.00      0.00         1.00          1.00        0.00          0.00   \n",
       "2        5.00      0.00         0.00          3.00        0.00          0.00   \n",
       "3        1.00      0.00         0.00          0.00        0.00          0.00   \n",
       "4        0.00      0.00         0.00          0.00        0.00          0.00   \n",
       "\n",
       "   distance_starts  distance_wins  distance_places  \n",
       "0             1.00           0.00             1.00  \n",
       "1             1.00           0.00             1.00  \n",
       "2             4.00           0.00             0.00  \n",
       "3             1.00           0.00             0.00  \n",
       "4             1.00           0.00             0.00  \n",
       "\n",
       "[5 rows x 38 columns]"
      ]
     },
     "execution_count": 2,
     "metadata": {},
     "output_type": "execute_result"
    }
   ],
   "source": [
    "fields = [\"position_again\",\"bf_odds\",\"venue_name\",\"date\",\"market_name\",\"condition\",\n",
    "          \"barrier\",\"handicap_weight\",\"last_twenty_starts\",\"prize_money\",\"sex\",\n",
    "          \"age\",\"jockey_sex\",\"days_since_last_run\",\"overall_starts\",\"overall_wins\",\n",
    "          \"overall_places\",\"track_starts\",\"track_wins\",\"track_places\",\"firm_starts\",\n",
    "          \"firm_wins\",\"firm_places\",\"good_starts\",\"good_wins\",\"good_places\",\n",
    "          \"slow_starts\",\"slow_wins\",\"slow_places\",\"soft_starts\",\"soft_wins\",\n",
    "          \"soft_places\",\"heavy_starts\",\"heavy_wins\",\"heavy_places\",\"distance_starts\",\n",
    "          \"distance_wins\",\"distance_places\"]\n",
    "\n",
    "df = pd.read_csv(\"horses.csv\", usecols=fields, skipinitialspace=True, low_memory=False)\n",
    "\n",
    "df.head()"
   ]
  },
  {
   "cell_type": "markdown",
   "metadata": {},
   "source": [
    "## I decided not to use any man-made metrics (e.g. odds, field strength, etc.) because these are relative and subject to change.\n",
    "\n",
    "## Also, jockey and trainer win percentages are not included with this dataset.\n",
    "\n",
    "## Fixing the format of some features:"
   ]
  },
  {
   "cell_type": "code",
   "execution_count": 3,
   "metadata": {
    "scrolled": false
   },
   "outputs": [],
   "source": [
    "df.date = pd.to_datetime(df.date, format='%Y'+'-'+'%m'+'-'+'%d')\n",
    "\n",
    "#removes numbers from end of \"condition\" strings\n",
    "df.condition = df.condition.str.replace('\\d+', '')\n",
    "\n",
    "#renaming \"condition\" values so that they're uniform\n",
    "df.condition = df.condition.replace(['HVY','AWT'], ['HEAVY','GOOD']) \n",
    "#AWT equates to a Good surface under some weather conditions\n",
    "\n",
    "#reverses \"last_twenty_starts\" (originally written right-to-left) \n",
    "#so that it's easier to read in the future\n",
    "df.last_twenty_starts = df.last_twenty_starts.str[::-1]"
   ]
  },
  {
   "cell_type": "markdown",
   "metadata": {},
   "source": [
    "## Useful Cleaning Functions:"
   ]
  },
  {
   "cell_type": "code",
   "execution_count": 4,
   "metadata": {},
   "outputs": [],
   "source": [
    "#Removes races where a chosen column has any null values or all values are the same\n",
    "def column_cleaner(cleaned_df, grouped_df, column_name):\n",
    "    non_null_indices = grouped_df[column_name].apply(lambda x: all(x.notnull()))\n",
    "    \n",
    "    non_null_df = cleaned_df[non_null_indices]\n",
    "    \n",
    "    non_null_grouped = non_null_df.groupby(['date','venue_name','market_name'])\n",
    "    \n",
    "    clean_indices = non_null_grouped[column_name].value_counts(normalize=True,dropna=False).\\\n",
    "        where(lambda x:x != 1).dropna().index.droplevel(column_name)\n",
    "    \n",
    "    new_cleaned_df = non_null_df.loc[clean_indices].drop_duplicates()\n",
    "    return new_cleaned_df\n",
    "\n",
    "#Separates off winners of each race\n",
    "def cleaned_win_df(cleaned_df):\n",
    "    win_indices = cleaned_df.position_again.apply(lambda x:x == 1)\n",
    "    \n",
    "    df_cleaned_win = cleaned_df[win_indices]\n",
    "    return df_cleaned_win"
   ]
  },
  {
   "cell_type": "markdown",
   "metadata": {},
   "source": [
    "## Estimating place odds because they are missing from dataset:"
   ]
  },
  {
   "cell_type": "code",
   "execution_count": 5,
   "metadata": {},
   "outputs": [],
   "source": [
    "def place_odds_estimator(win_odds):\n",
    "    place_odds = .212465*win_odds + 1.01712\n",
    "    return place_odds"
   ]
  },
  {
   "cell_type": "markdown",
   "metadata": {},
   "source": [
    "# Creating new features and dropping others in order to relate horses in each race to one another while allowing the general input of the dataset into a machine learning model:"
   ]
  },
  {
   "cell_type": "markdown",
   "metadata": {},
   "source": [
    "## Creating a distance column from market_name:"
   ]
  },
  {
   "cell_type": "code",
   "execution_count": 6,
   "metadata": {},
   "outputs": [
    {
     "data": {
      "text/plain": [
       "0    1200\n",
       "1    1200\n",
       "2    1200\n",
       "3    1200\n",
       "4    1200\n",
       "Name: distance, dtype: int64"
      ]
     },
     "execution_count": 6,
     "metadata": {},
     "output_type": "execute_result"
    }
   ],
   "source": [
    "new = df.market_name.str.split(expand=True)\n",
    "\n",
    "df['distance'] = new[1].str.rstrip('m').astype(np.int64)\n",
    "\n",
    "df.distance.head()"
   ]
  },
  {
   "cell_type": "markdown",
   "metadata": {},
   "source": [
    "## Creating general and track, distance, condition-specific 'win_percent' and 'place_percent' columns:"
   ]
  },
  {
   "cell_type": "code",
   "execution_count": 7,
   "metadata": {},
   "outputs": [],
   "source": [
    "#creates overall, track, and distance win_percent and place_percent columns\n",
    "#and drops existing wins and places columns\n",
    "\n",
    "columns_list = [\"overall\",\"track\",\"distance\"]\n",
    "\n",
    "for x in columns_list:\n",
    "    df[x+\"_win_percent\"] = df[x+\"_wins\"]/df[x+\"_starts\"]\n",
    "    \n",
    "    df[x+\"_place_percent\"] = df[x+\"_places\"]/df[x+\"_starts\"]\n",
    "\n",
    "    # dropping various columns, though 'starts' columns will be used later\n",
    "    df.drop([x+'_wins', x+'_places'], axis=1, inplace=True)"
   ]
  },
  {
   "cell_type": "code",
   "execution_count": 8,
   "metadata": {},
   "outputs": [],
   "source": [
    "#creates a condition_starts ,condition_win_percent, and condition_place_percent column\n",
    "#for each horse according to the condition of the track for that race\n",
    "\n",
    "df.loc[df.condition.isna(), \"condition_win_percent\"] = np.nan\n",
    "\n",
    "condition_list = [\"firm\",\"good\",\"slow\",\"soft\",\"heavy\"]\n",
    "\n",
    "for x in condition_list: \n",
    "    df.loc[df.condition.str.lower() == x, \"condition_starts\"] = df[x+\"_starts\"]\n",
    "    \n",
    "    df.loc[df.condition.str.lower() == x, \"condition_win_percent\"] = df[x+\"_wins\"]/df[x+\"_starts\"]\n",
    "    \n",
    "    df.loc[df.condition.str.lower() == x, \"condition_place_percent\"] = df[x+\"_places\"]/df[x+\"_starts\"]\n",
    "    \n",
    "    df.drop([x+'_starts', x+'_wins', x+'_places'], axis=1, inplace=True)\n",
    "\n",
    "# Replaces infinity (zero division) with NaN\n",
    "df.replace([np.inf, -np.inf], np.nan, inplace=True)"
   ]
  },
  {
   "cell_type": "markdown",
   "metadata": {},
   "source": [
    "## Find and drop features that are primarily NaN:"
   ]
  },
  {
   "cell_type": "code",
   "execution_count": 9,
   "metadata": {},
   "outputs": [
    {
     "data": {
      "text/plain": [
       "position_again             158461\n",
       "bf_odds                         0\n",
       "venue_name                      0\n",
       "date                            0\n",
       "market_name                     0\n",
       "condition                   22188\n",
       "barrier                     26289\n",
       "handicap_weight             26289\n",
       "prize_money                 26791\n",
       "sex                         26791\n",
       "age                         26791\n",
       "jockey_sex                  26791\n",
       "last_twenty_starts          37644\n",
       "days_since_last_run         27042\n",
       "overall_starts              27042\n",
       "track_starts                27042\n",
       "distance_starts             27042\n",
       "distance                        0\n",
       "overall_win_percent         37647\n",
       "overall_place_percent       37647\n",
       "track_win_percent          108448\n",
       "track_place_percent        108448\n",
       "distance_win_percent        55956\n",
       "distance_place_percent      55956\n",
       "condition_win_percent       57116\n",
       "condition_starts            29806\n",
       "condition_place_percent     57116\n",
       "dtype: int64"
      ]
     },
     "execution_count": 9,
     "metadata": {},
     "output_type": "execute_result"
    }
   ],
   "source": [
    "df.isnull().sum()\n",
    "#The position_again is primarily nan values because it only shows first and place\n",
    "#However, track_starts is primarily zeros, so the track_win/place_percent columns are nan"
   ]
  },
  {
   "cell_type": "code",
   "execution_count": 10,
   "metadata": {},
   "outputs": [],
   "source": [
    "df.drop(['track_win_percent','track_place_percent'],axis=1,inplace=True)"
   ]
  },
  {
   "cell_type": "code",
   "execution_count": 11,
   "metadata": {},
   "outputs": [
    {
     "data": {
      "text/plain": [
       "array([ 1.,  2.,  3., nan,  5.,  4.])"
      ]
     },
     "execution_count": 11,
     "metadata": {},
     "output_type": "execute_result"
    }
   ],
   "source": [
    "#position_again unique values\n",
    "df.position_again.unique()"
   ]
  },
  {
   "cell_type": "markdown",
   "metadata": {},
   "source": [
    "## Splits last_twenty_starts column into 20 separate columns, replaces values, then drops last_twenty_starts:"
   ]
  },
  {
   "cell_type": "code",
   "execution_count": 12,
   "metadata": {},
   "outputs": [],
   "source": [
    "new = pd.DataFrame()\n",
    "\n",
    "for i in range(20):\n",
    "    new[i] = df.last_twenty_starts.str[i:i+1]\n",
    "\n",
    "for i in range(20):\n",
    "    df['last_start'+str(i+1)] = new[i].replace(['0','','x','f'],['ten+','none','scratch','fell'])    \n",
    "\n",
    "df.drop('last_twenty_starts',axis=1,inplace=True)"
   ]
  },
  {
   "cell_type": "markdown",
   "metadata": {},
   "source": [
    "## Cleaning data by removing races with missing win and/or place values in 'position_again' column:"
   ]
  },
  {
   "cell_type": "code",
   "execution_count": 13,
   "metadata": {},
   "outputs": [],
   "source": [
    "df_grouped = df.groupby(['date','venue_name','market_name'])\n",
    "\n",
    "#Drops all races in 'position_again' column where sum of values [1st, 2nd, 3rd] don't add to 3 or 6\n",
    "#i.e. 1+2 and 1+2+3\n",
    "index_list1 = df_grouped.position_again.sum(dropna=False).where(lambda x:(x == 3) | (x == 6)).dropna().index\n",
    "\n",
    "df_indexed = df.set_index(['date','venue_name','market_name'])\n",
    "\n",
    "df_cleaned = df_indexed.loc[index_list1].drop_duplicates()\n",
    "\n",
    "df_grouped = df_cleaned.groupby(['date','venue_name','market_name'])\n",
    "\n",
    "#Eliminates remaining errors in 'position_again' column by making sure there isn't just a 3rd-place finish\n",
    "index_list2 = df_grouped.position_again.value_counts(normalize=True,dropna=False)\\\n",
    "    .where(lambda x:x != 1).dropna().index.droplevel('position_again')\n",
    "\n",
    "df_cleaned = df_cleaned.loc[index_list2].drop_duplicates()\n",
    "\n",
    "df_grouped = df_cleaned.groupby(['date','venue_name','market_name'])"
   ]
  },
  {
   "cell_type": "markdown",
   "metadata": {},
   "source": [
    "# Normalizing each group (race) using z-scores is a good and straightforward way to compare horses across races.\n",
    "\n",
    "## Here, I am creating several normalized columns in this way."
   ]
  },
  {
   "cell_type": "markdown",
   "metadata": {},
   "source": [
    "## Creating a weight_z column:"
   ]
  },
  {
   "cell_type": "code",
   "execution_count": 14,
   "metadata": {},
   "outputs": [],
   "source": [
    "df_cleaned['weight_z'] = df_grouped['handicap_weight'].transform(lambda x: zscore(x,ddof=1))\n",
    "\n",
    "df_cleaned.drop('handicap_weight',axis=1,inplace=True)\n",
    "\n",
    "df_grouped = df_cleaned.groupby(['date','venue_name','market_name'])"
   ]
  },
  {
   "cell_type": "markdown",
   "metadata": {},
   "source": [
    "## Creating a prize_money_per_start_z column:\n",
    "\n",
    "### This may be one of the best indicators, as prize money is also an indicator of the difficulty of past races. Therefore, the value (meaningfulness) of past wins is taken into consideration."
   ]
  },
  {
   "cell_type": "code",
   "execution_count": 15,
   "metadata": {},
   "outputs": [],
   "source": [
    "#creates prize_money_per_start column\n",
    "df_cleaned['prize_money_per_start'] = df_cleaned.prize_money/df_cleaned.overall_starts\n",
    "\n",
    "df_cleaned['prize_money_per_start_z'] = df_grouped['prize_money_per_start'].transform(lambda x: zscore(x,ddof=1))\n",
    "\n",
    "df_cleaned.drop(['prize_money','prize_money_per_start'],axis=1,inplace=True)\n",
    "\n",
    "df_grouped = df_cleaned.groupby(['date','venue_name','market_name'])"
   ]
  },
  {
   "cell_type": "markdown",
   "metadata": {},
   "source": [
    "## Creating a horse age_z column:"
   ]
  },
  {
   "cell_type": "code",
   "execution_count": 16,
   "metadata": {},
   "outputs": [],
   "source": [
    "df_cleaned['age_z'] = df_grouped['age'].transform(lambda x: zscore(x,ddof=1))\n",
    "\n",
    "df_cleaned.drop('age',axis=1,inplace=True)\n",
    "\n",
    "df_grouped = df_cleaned.groupby(['date','venue_name','market_name'])"
   ]
  },
  {
   "cell_type": "markdown",
   "metadata": {},
   "source": [
    "## Creating race-relative z-scores for the remaining continuous features:"
   ]
  },
  {
   "cell_type": "code",
   "execution_count": 17,
   "metadata": {},
   "outputs": [],
   "source": [
    "z_score_cols = ['days_since_last_run','overall_win_percent','overall_place_percent',\n",
    "                'distance_win_percent','distance_place_percent','condition_win_percent',\n",
    "                'condition_place_percent','overall_starts','distance_starts','condition_starts',\n",
    "                'track_starts']\n",
    "\n",
    "for col in z_score_cols:\n",
    "    df_cleaned[col+'_z'] = df_grouped[col].transform(lambda x: zscore(x,ddof=1))"
   ]
  },
  {
   "cell_type": "markdown",
   "metadata": {},
   "source": [
    "## I decided to keep the original \"overall_starts,\" \"distance_starts,\" \"condition_starts,\" and \"track_starts\" columns because they may have a meaning irrespective of other races (unnormalized)."
   ]
  },
  {
   "cell_type": "code",
   "execution_count": 18,
   "metadata": {
    "scrolled": true
   },
   "outputs": [
    {
     "data": {
      "text/html": [
       "<div>\n",
       "<style scoped>\n",
       "    .dataframe tbody tr th:only-of-type {\n",
       "        vertical-align: middle;\n",
       "    }\n",
       "\n",
       "    .dataframe tbody tr th {\n",
       "        vertical-align: top;\n",
       "    }\n",
       "\n",
       "    .dataframe thead th {\n",
       "        text-align: right;\n",
       "    }\n",
       "</style>\n",
       "<table border=\"1\" class=\"dataframe\">\n",
       "  <thead>\n",
       "    <tr style=\"text-align: right;\">\n",
       "      <th></th>\n",
       "      <th></th>\n",
       "      <th></th>\n",
       "      <th>position_again</th>\n",
       "      <th>bf_odds</th>\n",
       "      <th>condition</th>\n",
       "      <th>barrier</th>\n",
       "      <th>sex</th>\n",
       "      <th>jockey_sex</th>\n",
       "      <th>days_since_last_run</th>\n",
       "      <th>overall_starts</th>\n",
       "      <th>track_starts</th>\n",
       "      <th>distance_starts</th>\n",
       "      <th>...</th>\n",
       "      <th>overall_win_percent_z</th>\n",
       "      <th>overall_place_percent_z</th>\n",
       "      <th>distance_win_percent_z</th>\n",
       "      <th>distance_place_percent_z</th>\n",
       "      <th>condition_win_percent_z</th>\n",
       "      <th>condition_place_percent_z</th>\n",
       "      <th>overall_starts_z</th>\n",
       "      <th>distance_starts_z</th>\n",
       "      <th>condition_starts_z</th>\n",
       "      <th>track_starts_z</th>\n",
       "    </tr>\n",
       "    <tr>\n",
       "      <th>date</th>\n",
       "      <th>venue_name</th>\n",
       "      <th>market_name</th>\n",
       "      <th></th>\n",
       "      <th></th>\n",
       "      <th></th>\n",
       "      <th></th>\n",
       "      <th></th>\n",
       "      <th></th>\n",
       "      <th></th>\n",
       "      <th></th>\n",
       "      <th></th>\n",
       "      <th></th>\n",
       "      <th></th>\n",
       "      <th></th>\n",
       "      <th></th>\n",
       "      <th></th>\n",
       "      <th></th>\n",
       "      <th></th>\n",
       "      <th></th>\n",
       "      <th></th>\n",
       "      <th></th>\n",
       "      <th></th>\n",
       "      <th></th>\n",
       "    </tr>\n",
       "  </thead>\n",
       "  <tbody>\n",
       "    <tr>\n",
       "      <th rowspan=\"5\" valign=\"top\">2016-06-27</th>\n",
       "      <th rowspan=\"5\" valign=\"top\">Echuca</th>\n",
       "      <th>R10 1400m Hcap</th>\n",
       "      <td>1.00</td>\n",
       "      <td>18.50</td>\n",
       "      <td>HEAVY</td>\n",
       "      <td>12.00</td>\n",
       "      <td>Mare</td>\n",
       "      <td>Male</td>\n",
       "      <td>16.00</td>\n",
       "      <td>26.00</td>\n",
       "      <td>10.00</td>\n",
       "      <td>12.00</td>\n",
       "      <td>...</td>\n",
       "      <td>-0.09</td>\n",
       "      <td>-0.24</td>\n",
       "      <td>0.19</td>\n",
       "      <td>0.50</td>\n",
       "      <td>nan</td>\n",
       "      <td>nan</td>\n",
       "      <td>0.23</td>\n",
       "      <td>0.22</td>\n",
       "      <td>0.98</td>\n",
       "      <td>1.70</td>\n",
       "    </tr>\n",
       "    <tr>\n",
       "      <th>R10 1400m Hcap</th>\n",
       "      <td>2.00</td>\n",
       "      <td>16.50</td>\n",
       "      <td>HEAVY</td>\n",
       "      <td>8.00</td>\n",
       "      <td>Gelding</td>\n",
       "      <td>Male</td>\n",
       "      <td>18.00</td>\n",
       "      <td>12.00</td>\n",
       "      <td>1.00</td>\n",
       "      <td>9.00</td>\n",
       "      <td>...</td>\n",
       "      <td>0.06</td>\n",
       "      <td>-0.12</td>\n",
       "      <td>0.09</td>\n",
       "      <td>0.28</td>\n",
       "      <td>nan</td>\n",
       "      <td>nan</td>\n",
       "      <td>-0.79</td>\n",
       "      <td>-0.15</td>\n",
       "      <td>0.00</td>\n",
       "      <td>-0.61</td>\n",
       "    </tr>\n",
       "    <tr>\n",
       "      <th>R10 1400m Hcap</th>\n",
       "      <td>3.00</td>\n",
       "      <td>11.50</td>\n",
       "      <td>HEAVY</td>\n",
       "      <td>1.00</td>\n",
       "      <td>Gelding</td>\n",
       "      <td>Male</td>\n",
       "      <td>13.00</td>\n",
       "      <td>20.00</td>\n",
       "      <td>7.00</td>\n",
       "      <td>10.00</td>\n",
       "      <td>...</td>\n",
       "      <td>-0.72</td>\n",
       "      <td>1.19</td>\n",
       "      <td>0.01</td>\n",
       "      <td>0.89</td>\n",
       "      <td>nan</td>\n",
       "      <td>nan</td>\n",
       "      <td>-0.21</td>\n",
       "      <td>-0.03</td>\n",
       "      <td>-0.49</td>\n",
       "      <td>0.93</td>\n",
       "    </tr>\n",
       "    <tr>\n",
       "      <th>R10 1400m Hcap</th>\n",
       "      <td>nan</td>\n",
       "      <td>19.00</td>\n",
       "      <td>HEAVY</td>\n",
       "      <td>5.00</td>\n",
       "      <td>Gelding</td>\n",
       "      <td>Male</td>\n",
       "      <td>16.00</td>\n",
       "      <td>31.00</td>\n",
       "      <td>2.00</td>\n",
       "      <td>16.00</td>\n",
       "      <td>...</td>\n",
       "      <td>-0.76</td>\n",
       "      <td>-0.17</td>\n",
       "      <td>-0.04</td>\n",
       "      <td>0.01</td>\n",
       "      <td>nan</td>\n",
       "      <td>nan</td>\n",
       "      <td>0.60</td>\n",
       "      <td>0.72</td>\n",
       "      <td>-0.49</td>\n",
       "      <td>-0.36</td>\n",
       "    </tr>\n",
       "    <tr>\n",
       "      <th>R10 1400m Hcap</th>\n",
       "      <td>nan</td>\n",
       "      <td>7.60</td>\n",
       "      <td>HEAVY</td>\n",
       "      <td>7.00</td>\n",
       "      <td>Mare</td>\n",
       "      <td>Male</td>\n",
       "      <td>13.00</td>\n",
       "      <td>6.00</td>\n",
       "      <td>0.00</td>\n",
       "      <td>3.00</td>\n",
       "      <td>...</td>\n",
       "      <td>2.00</td>\n",
       "      <td>1.52</td>\n",
       "      <td>0.50</td>\n",
       "      <td>1.15</td>\n",
       "      <td>nan</td>\n",
       "      <td>nan</td>\n",
       "      <td>-1.23</td>\n",
       "      <td>-0.90</td>\n",
       "      <td>-0.98</td>\n",
       "      <td>-0.87</td>\n",
       "    </tr>\n",
       "  </tbody>\n",
       "</table>\n",
       "<p>5 rows × 52 columns</p>\n",
       "</div>"
      ],
      "text/plain": [
       "                                      position_again  bf_odds condition  \\\n",
       "date       venue_name market_name                                         \n",
       "2016-06-27 Echuca     R10 1400m Hcap            1.00    18.50     HEAVY   \n",
       "                      R10 1400m Hcap            2.00    16.50     HEAVY   \n",
       "                      R10 1400m Hcap            3.00    11.50     HEAVY   \n",
       "                      R10 1400m Hcap             nan    19.00     HEAVY   \n",
       "                      R10 1400m Hcap             nan     7.60     HEAVY   \n",
       "\n",
       "                                      barrier      sex jockey_sex  \\\n",
       "date       venue_name market_name                                   \n",
       "2016-06-27 Echuca     R10 1400m Hcap    12.00     Mare       Male   \n",
       "                      R10 1400m Hcap     8.00  Gelding       Male   \n",
       "                      R10 1400m Hcap     1.00  Gelding       Male   \n",
       "                      R10 1400m Hcap     5.00  Gelding       Male   \n",
       "                      R10 1400m Hcap     7.00     Mare       Male   \n",
       "\n",
       "                                      days_since_last_run  overall_starts  \\\n",
       "date       venue_name market_name                                           \n",
       "2016-06-27 Echuca     R10 1400m Hcap                16.00           26.00   \n",
       "                      R10 1400m Hcap                18.00           12.00   \n",
       "                      R10 1400m Hcap                13.00           20.00   \n",
       "                      R10 1400m Hcap                16.00           31.00   \n",
       "                      R10 1400m Hcap                13.00            6.00   \n",
       "\n",
       "                                      track_starts  distance_starts  ...  \\\n",
       "date       venue_name market_name                                    ...   \n",
       "2016-06-27 Echuca     R10 1400m Hcap         10.00            12.00  ...   \n",
       "                      R10 1400m Hcap          1.00             9.00  ...   \n",
       "                      R10 1400m Hcap          7.00            10.00  ...   \n",
       "                      R10 1400m Hcap          2.00            16.00  ...   \n",
       "                      R10 1400m Hcap          0.00             3.00  ...   \n",
       "\n",
       "                                      overall_win_percent_z  \\\n",
       "date       venue_name market_name                             \n",
       "2016-06-27 Echuca     R10 1400m Hcap                  -0.09   \n",
       "                      R10 1400m Hcap                   0.06   \n",
       "                      R10 1400m Hcap                  -0.72   \n",
       "                      R10 1400m Hcap                  -0.76   \n",
       "                      R10 1400m Hcap                   2.00   \n",
       "\n",
       "                                      overall_place_percent_z  \\\n",
       "date       venue_name market_name                               \n",
       "2016-06-27 Echuca     R10 1400m Hcap                    -0.24   \n",
       "                      R10 1400m Hcap                    -0.12   \n",
       "                      R10 1400m Hcap                     1.19   \n",
       "                      R10 1400m Hcap                    -0.17   \n",
       "                      R10 1400m Hcap                     1.52   \n",
       "\n",
       "                                      distance_win_percent_z  \\\n",
       "date       venue_name market_name                              \n",
       "2016-06-27 Echuca     R10 1400m Hcap                    0.19   \n",
       "                      R10 1400m Hcap                    0.09   \n",
       "                      R10 1400m Hcap                    0.01   \n",
       "                      R10 1400m Hcap                   -0.04   \n",
       "                      R10 1400m Hcap                    0.50   \n",
       "\n",
       "                                      distance_place_percent_z  \\\n",
       "date       venue_name market_name                                \n",
       "2016-06-27 Echuca     R10 1400m Hcap                      0.50   \n",
       "                      R10 1400m Hcap                      0.28   \n",
       "                      R10 1400m Hcap                      0.89   \n",
       "                      R10 1400m Hcap                      0.01   \n",
       "                      R10 1400m Hcap                      1.15   \n",
       "\n",
       "                                      condition_win_percent_z  \\\n",
       "date       venue_name market_name                               \n",
       "2016-06-27 Echuca     R10 1400m Hcap                      nan   \n",
       "                      R10 1400m Hcap                      nan   \n",
       "                      R10 1400m Hcap                      nan   \n",
       "                      R10 1400m Hcap                      nan   \n",
       "                      R10 1400m Hcap                      nan   \n",
       "\n",
       "                                      condition_place_percent_z  \\\n",
       "date       venue_name market_name                                 \n",
       "2016-06-27 Echuca     R10 1400m Hcap                        nan   \n",
       "                      R10 1400m Hcap                        nan   \n",
       "                      R10 1400m Hcap                        nan   \n",
       "                      R10 1400m Hcap                        nan   \n",
       "                      R10 1400m Hcap                        nan   \n",
       "\n",
       "                                      overall_starts_z  distance_starts_z  \\\n",
       "date       venue_name market_name                                           \n",
       "2016-06-27 Echuca     R10 1400m Hcap              0.23               0.22   \n",
       "                      R10 1400m Hcap             -0.79              -0.15   \n",
       "                      R10 1400m Hcap             -0.21              -0.03   \n",
       "                      R10 1400m Hcap              0.60               0.72   \n",
       "                      R10 1400m Hcap             -1.23              -0.90   \n",
       "\n",
       "                                     condition_starts_z track_starts_z  \n",
       "date       venue_name market_name                                       \n",
       "2016-06-27 Echuca     R10 1400m Hcap               0.98           1.70  \n",
       "                      R10 1400m Hcap               0.00          -0.61  \n",
       "                      R10 1400m Hcap              -0.49           0.93  \n",
       "                      R10 1400m Hcap              -0.49          -0.36  \n",
       "                      R10 1400m Hcap              -0.98          -0.87  \n",
       "\n",
       "[5 rows x 52 columns]"
      ]
     },
     "execution_count": 18,
     "metadata": {},
     "output_type": "execute_result"
    }
   ],
   "source": [
    "#Replaces infinity (zero division) with NaN\n",
    "df_cleaned.replace([np.inf, -np.inf], np.nan, inplace=True)\n",
    "\n",
    "df_grouped = df_cleaned.groupby(['date','venue_name','market_name'])\n",
    "\n",
    "df_cleaned.head()"
   ]
  },
  {
   "cell_type": "markdown",
   "metadata": {},
   "source": [
    "## Cleaned Dataframe Details:"
   ]
  },
  {
   "cell_type": "code",
   "execution_count": 19,
   "metadata": {},
   "outputs": [
    {
     "data": {
      "text/plain": [
       "(205247, 52)"
      ]
     },
     "execution_count": 19,
     "metadata": {},
     "output_type": "execute_result"
    }
   ],
   "source": [
    "df_cleaned.shape"
   ]
  },
  {
   "cell_type": "code",
   "execution_count": 20,
   "metadata": {},
   "outputs": [
    {
     "data": {
      "text/plain": [
       "21589"
      ]
     },
     "execution_count": 20,
     "metadata": {},
     "output_type": "execute_result"
    }
   ],
   "source": [
    "len(df_grouped) #Number of remaining races"
   ]
  },
  {
   "cell_type": "markdown",
   "metadata": {},
   "source": [
    "# Testing and graphing the significance of certain features:"
   ]
  },
  {
   "cell_type": "markdown",
   "metadata": {},
   "source": [
    "## For horse gender:"
   ]
  },
  {
   "cell_type": "code",
   "execution_count": 21,
   "metadata": {},
   "outputs": [],
   "source": [
    "#Removes races where only one horse gender is represented\n",
    "sex_pop_cleaned = column_cleaner(df_cleaned, df_grouped, 'sex')\n",
    "\n",
    "sex_pop_cleaned_win = cleaned_win_df(sex_pop_cleaned)"
   ]
  },
  {
   "cell_type": "code",
   "execution_count": 22,
   "metadata": {},
   "outputs": [
    {
     "data": {
      "text/plain": [
       "Gelding   0.57\n",
       "Mare      0.27\n",
       "Filly     0.13\n",
       "Colt      0.03\n",
       "Horse     0.01\n",
       "Name: sex, dtype: float64"
      ]
     },
     "execution_count": 22,
     "metadata": {},
     "output_type": "execute_result"
    }
   ],
   "source": [
    "#General percentage of horse genders for races where multiple genders are represented  \n",
    "sex_pop_cleaned.sex.value_counts(dropna=False,normalize=True).sort_values(ascending=False).drop('Unknown')"
   ]
  },
  {
   "cell_type": "code",
   "execution_count": 23,
   "metadata": {},
   "outputs": [
    {
     "data": {
      "text/plain": [
       "Gelding   0.57\n",
       "Mare      0.24\n",
       "Filly     0.14\n",
       "Colt      0.04\n",
       "Horse     0.01\n",
       "Name: sex, dtype: float64"
      ]
     },
     "execution_count": 23,
     "metadata": {},
     "output_type": "execute_result"
    }
   ],
   "source": [
    "sex_pop_cleaned_win.sex.value_counts(dropna=False,normalize=True).sort_values(ascending=False).drop('Unknown')"
   ]
  },
  {
   "cell_type": "code",
   "execution_count": 24,
   "metadata": {},
   "outputs": [
    {
     "data": {
      "text/plain": [
       "Gelding    0.00\n",
       "Mare      -0.11\n",
       "Filly      0.10\n",
       "Colt       0.49\n",
       "Horse      0.16\n",
       "Name: sex, dtype: float64"
      ]
     },
     "execution_count": 24,
     "metadata": {},
     "output_type": "execute_result"
    }
   ],
   "source": [
    "horse_sex_pop = sex_pop_cleaned.sex.value_counts(dropna=False,normalize=True)\\\n",
    "    .sort_values(ascending=False).drop('Unknown')\n",
    "\n",
    "horse_sex_win = sex_pop_cleaned_win.sex.value_counts(dropna=False,normalize=True)\\\n",
    "    .sort_values(ascending=False).drop('Unknown')\n",
    "\n",
    "horse_sex_percent_difference = (horse_sex_win - horse_sex_pop)/horse_sex_pop\n",
    "\n",
    "horse_sex_percent_difference"
   ]
  },
  {
   "cell_type": "code",
   "execution_count": 25,
   "metadata": {
    "scrolled": true
   },
   "outputs": [
    {
     "data": {
      "image/png": "[encoded data removed]",
      "text/plain": [
       "<Figure size 432x288 with 1 Axes>"
      ]
     },
     "metadata": {
      "needs_background": "light"
     },
     "output_type": "display_data"
    }
   ],
   "source": [
    "index1 = ['Gelding','Mare','Filly','Colt','Horse']\n",
    "\n",
    "df1 = pd.DataFrame({'Total Proportion': horse_sex_pop,'Win Proportion': horse_sex_win,\n",
    "                    'Percent Difference': horse_sex_percent_difference}, index=index1)\n",
    "\n",
    "ax = df1.plot.bar(rot=0,title='The Significance of Horse Gender')"
   ]
  },
  {
   "cell_type": "markdown",
   "metadata": {},
   "source": [
    "### Using the Pearson's chi-squared, I find horse gender is significant:"
   ]
  },
  {
   "cell_type": "code",
   "execution_count": 26,
   "metadata": {},
   "outputs": [
    {
     "data": {
      "text/plain": [
       "(196.24429401115708, 2.4113691661853285e-41)"
      ]
     },
     "execution_count": 26,
     "metadata": {},
     "output_type": "execute_result"
    }
   ],
   "source": [
    "observed1 = sex_pop_cleaned_win.sex.value_counts().sort_values(ascending=False).drop('Unknown').values\n",
    "\n",
    "expected_percentages1 = horse_sex_pop.values\n",
    "expected1 = [x*observed1.sum() for x in expected_percentages1]\n",
    "\n",
    "test_stat1, p_value1 = chisquare(observed1, expected1)\n",
    "\n",
    "test_stat1, p_value1"
   ]
  },
  {
   "cell_type": "markdown",
   "metadata": {},
   "source": [
    "## For horse age_z (z-scores):"
   ]
  },
  {
   "cell_type": "code",
   "execution_count": 27,
   "metadata": {},
   "outputs": [],
   "source": [
    "#Removing races where there is only one age\n",
    "age_pop_cleaned = column_cleaner(df_cleaned, df_grouped, 'age_z')\n",
    "\n",
    "age_pop_cleaned_win = cleaned_win_df(age_pop_cleaned)"
   ]
  },
  {
   "cell_type": "code",
   "execution_count": 28,
   "metadata": {},
   "outputs": [
    {
     "data": {
      "text/plain": [
       "count   173889.00\n",
       "mean         0.00\n",
       "std          0.95\n",
       "min         -3.33\n",
       "25%         -0.71\n",
       "50%         -0.17\n",
       "75%          0.63\n",
       "max          3.88\n",
       "Name: age_z, dtype: float64"
      ]
     },
     "execution_count": 28,
     "metadata": {},
     "output_type": "execute_result"
    }
   ],
   "source": [
    "age_pop_cleaned.age_z.describe()"
   ]
  },
  {
   "cell_type": "code",
   "execution_count": 29,
   "metadata": {},
   "outputs": [
    {
     "data": {
      "text/plain": [
       "count   17428.00\n",
       "mean       -0.24\n",
       "std         0.88\n",
       "min        -3.33\n",
       "25%        -0.86\n",
       "50%        -0.41\n",
       "75%         0.30\n",
       "max         3.61\n",
       "Name: age_z, dtype: float64"
      ]
     },
     "execution_count": 29,
     "metadata": {},
     "output_type": "execute_result"
    }
   ],
   "source": [
    "age_pop_cleaned_win.age_z.describe()"
   ]
  },
  {
   "cell_type": "code",
   "execution_count": 30,
   "metadata": {},
   "outputs": [
    {
     "data": {
      "image/png": "[encoded data removed]",
      "text/plain": [
       "<Figure size 432x288 with 1 Axes>"
      ]
     },
     "metadata": {
      "needs_background": "light"
     },
     "output_type": "display_data"
    }
   ],
   "source": [
    "data2a = age_pop_cleaned.age_z.dropna().values\n",
    "data2b = age_pop_cleaned_win.age_z.dropna().values\n",
    "\n",
    "plt.title(\"Winner and Race Distributions of Age Z-scores\", fontsize=15)\n",
    "\n",
    "plt.hist(data2a, density=True, bins=24, range=(-3,3), label='Race Average', \n",
    "         color='b', alpha=.5, edgecolor='k')\n",
    "\n",
    "plt.hist(data2b, density=True, bins=24, range=(-3,3), label='Winner Average',\n",
    "         color='r', alpha=.5, edgecolor='k')\n",
    "\n",
    "plt.legend(loc='upper right')\n",
    "plt.xlabel('Age Z-scores')\n",
    "plt.ylabel('Probability');"
   ]
  },
  {
   "cell_type": "markdown",
   "metadata": {},
   "source": [
    "### Using a 2-sample T-test, I find that Age Z-scores is significant:"
   ]
  },
  {
   "cell_type": "code",
   "execution_count": 31,
   "metadata": {},
   "outputs": [
    {
     "data": {
      "text/plain": [
       "(31.555501940416974, 5.495528873695373e-218)"
      ]
     },
     "execution_count": 31,
     "metadata": {},
     "output_type": "execute_result"
    }
   ],
   "source": [
    "test_stat2, p_value2 = ttest_ind(data2a, data2b)\n",
    "\n",
    "test_stat2, p_value2"
   ]
  },
  {
   "cell_type": "markdown",
   "metadata": {},
   "source": [
    "### Does condition affect the win distribution of age? Specifically, do older horses perform worse in bad conditions?"
   ]
  },
  {
   "cell_type": "code",
   "execution_count": 32,
   "metadata": {},
   "outputs": [],
   "source": [
    "condit_age_pop = age_pop_cleaned[age_pop_cleaned.condition == 'HEAVY']"
   ]
  },
  {
   "cell_type": "code",
   "execution_count": 33,
   "metadata": {},
   "outputs": [],
   "source": [
    "condit_age_pop_win = cleaned_win_df(condit_age_pop)"
   ]
  },
  {
   "cell_type": "code",
   "execution_count": 34,
   "metadata": {},
   "outputs": [
    {
     "data": {
      "image/png": "[encoded data removed]",
      "text/plain": [
       "<Figure size 432x288 with 1 Axes>"
      ]
     },
     "metadata": {
      "needs_background": "light"
     },
     "output_type": "display_data"
    }
   ],
   "source": [
    "data2c = condit_age_pop.age_z.dropna().values\n",
    "data2d = condit_age_pop_win.age_z.dropna().values\n",
    "\n",
    "plt.title(\"Winner and Race Distributions of Age Z-scores \\n (Condition Specific)\", fontsize=15)\n",
    "\n",
    "plt.hist(data2c, density=True, bins=24, range=(-3,3), label='Race Average', \n",
    "         color='b', alpha=.5, edgecolor='k')\n",
    "\n",
    "plt.hist(data2d, density=True, bins=24, range=(-3,3), label='Winner Average',\n",
    "         color='r', alpha=.5, edgecolor='k')\n",
    "\n",
    "plt.legend(loc='upper right')\n",
    "plt.xlabel('Age Z-scores')\n",
    "plt.ylabel('Probability');"
   ]
  },
  {
   "cell_type": "markdown",
   "metadata": {},
   "source": [
    "### Condition depended T-test for Age Z-scores: "
   ]
  },
  {
   "cell_type": "code",
   "execution_count": 35,
   "metadata": {},
   "outputs": [
    {
     "data": {
      "text/plain": [
       "(6.335284227796313, 2.4194653311198434e-10)"
      ]
     },
     "execution_count": 35,
     "metadata": {},
     "output_type": "execute_result"
    }
   ],
   "source": [
    "test_stat2, p_value2 = ttest_ind(data2c, data2d)\n",
    "\n",
    "test_stat2, p_value2"
   ]
  },
  {
   "cell_type": "markdown",
   "metadata": {},
   "source": [
    "### It appears as though bad track conditions actually level out the age discrepancies, maybe because they have more experience with those bad conditions."
   ]
  },
  {
   "cell_type": "markdown",
   "metadata": {},
   "source": [
    "## For horse handicap weight_z (z-scores):"
   ]
  },
  {
   "cell_type": "code",
   "execution_count": 36,
   "metadata": {},
   "outputs": [],
   "source": [
    "#Removing races where there is only one age\n",
    "weight_pop_cleaned = column_cleaner(df_cleaned, df_grouped, 'weight_z')\n",
    "\n",
    "weight_pop_cleaned_win = cleaned_win_df(weight_pop_cleaned)"
   ]
  },
  {
   "cell_type": "code",
   "execution_count": 37,
   "metadata": {},
   "outputs": [
    {
     "data": {
      "text/plain": [
       "count   188773.00\n",
       "mean        -0.00\n",
       "std          0.95\n",
       "min         -3.88\n",
       "25%         -0.75\n",
       "50%         -0.06\n",
       "75%          0.74\n",
       "max          3.95\n",
       "Name: weight_z, dtype: float64"
      ]
     },
     "execution_count": 37,
     "metadata": {},
     "output_type": "execute_result"
    }
   ],
   "source": [
    "weight_pop_cleaned.weight_z.describe()"
   ]
  },
  {
   "cell_type": "code",
   "execution_count": 38,
   "metadata": {},
   "outputs": [
    {
     "data": {
      "text/plain": [
       "count   19069.00\n",
       "mean        0.21\n",
       "std         0.95\n",
       "min        -3.88\n",
       "25%        -0.57\n",
       "50%         0.27\n",
       "75%         0.90\n",
       "max         3.53\n",
       "Name: weight_z, dtype: float64"
      ]
     },
     "execution_count": 38,
     "metadata": {},
     "output_type": "execute_result"
    }
   ],
   "source": [
    "weight_pop_cleaned_win.weight_z.describe()"
   ]
  },
  {
   "cell_type": "code",
   "execution_count": 39,
   "metadata": {
    "scrolled": true
   },
   "outputs": [
    {
     "data": {
      "image/png": "[encoded data removed]",
      "text/plain": [
       "<Figure size 432x288 with 1 Axes>"
      ]
     },
     "metadata": {
      "needs_background": "light"
     },
     "output_type": "display_data"
    }
   ],
   "source": [
    "data3a = weight_pop_cleaned.weight_z.dropna().values\n",
    "data3b = weight_pop_cleaned_win.weight_z.dropna().values\n",
    "\n",
    "plt.title(\"Winner and Race Distributions of Weight Z-scores\", fontsize=15)\n",
    "\n",
    "plt.hist(data3a, density=True, bins=24, range=(-3,3), label='Race Average', \n",
    "         color='b', alpha=.5, edgecolor='k')\n",
    "\n",
    "plt.hist(data3b, density=True, bins=24, range=(-3,3), label='Winner Average',\n",
    "         color='r', alpha=.5, edgecolor='k')\n",
    "\n",
    "plt.legend(loc='upper right')\n",
    "plt.xlabel('Weight Z-scores')\n",
    "plt.ylabel('Probability');"
   ]
  },
  {
   "cell_type": "markdown",
   "metadata": {},
   "source": [
    "### Using a 2-sample T-test, again I find that Weight Z-scores is significant:"
   ]
  },
  {
   "cell_type": "code",
   "execution_count": 40,
   "metadata": {},
   "outputs": [
    {
     "data": {
      "text/plain": [
       "(-28.822130207835215, 2.5976728545751035e-182)"
      ]
     },
     "execution_count": 40,
     "metadata": {},
     "output_type": "execute_result"
    }
   ],
   "source": [
    "test_stat3, p_value3 = ttest_ind(data3a, data3b)\n",
    "\n",
    "test_stat3, p_value3"
   ]
  },
  {
   "cell_type": "markdown",
   "metadata": {},
   "source": [
    "## For prize money, using prize_money_per_start_z (z-scores):"
   ]
  },
  {
   "cell_type": "code",
   "execution_count": 41,
   "metadata": {},
   "outputs": [],
   "source": [
    "money_pop_cleaned = column_cleaner(df_cleaned, df_grouped, 'prize_money_per_start_z')\n",
    "\n",
    "money_pop_cleaned_win = cleaned_win_df(weight_pop_cleaned)"
   ]
  },
  {
   "cell_type": "code",
   "execution_count": 42,
   "metadata": {},
   "outputs": [
    {
     "data": {
      "text/plain": [
       "count   150865.00\n",
       "mean         0.00\n",
       "std          0.95\n",
       "min         -2.82\n",
       "25%         -0.66\n",
       "50%         -0.24\n",
       "75%          0.49\n",
       "max          3.84\n",
       "Name: prize_money_per_start_z, dtype: float64"
      ]
     },
     "execution_count": 42,
     "metadata": {},
     "output_type": "execute_result"
    }
   ],
   "source": [
    "money_pop_cleaned.prize_money_per_start_z.describe()"
   ]
  },
  {
   "cell_type": "code",
   "execution_count": 43,
   "metadata": {},
   "outputs": [
    {
     "data": {
      "text/plain": [
       "count   15197.00\n",
       "mean        0.62\n",
       "std         1.04\n",
       "min        -2.13\n",
       "25%        -0.22\n",
       "50%         0.46\n",
       "75%         1.40\n",
       "max         3.83\n",
       "Name: prize_money_per_start_z, dtype: float64"
      ]
     },
     "execution_count": 43,
     "metadata": {},
     "output_type": "execute_result"
    }
   ],
   "source": [
    "#Winner prize money \n",
    "money_pop_cleaned_win.prize_money_per_start_z.describe()"
   ]
  },
  {
   "cell_type": "code",
   "execution_count": 44,
   "metadata": {},
   "outputs": [
    {
     "data": {
      "image/png": "[encoded data removed]",
      "text/plain": [
       "<Figure size 432x288 with 1 Axes>"
      ]
     },
     "metadata": {
      "needs_background": "light"
     },
     "output_type": "display_data"
    }
   ],
   "source": [
    "data4a = money_pop_cleaned.prize_money_per_start_z.dropna().values\n",
    "data4b = money_pop_cleaned_win.prize_money_per_start_z.dropna().values\n",
    "\n",
    "plt.title(\"Winner and Race Distributions of Prize Money per Start Z-scores\",\n",
    "          fontsize=15)\n",
    "\n",
    "plt.hist(data4a, density=True, bins=24, range=(-3,3), label='Race Average',\n",
    "         color='b', alpha=.6, edgecolor='k')\n",
    "\n",
    "plt.hist(data4b, density=True, bins=24, range=(-3,3), label='Winner Average',\n",
    "         color='r', alpha=.5, edgecolor='k')\n",
    "\n",
    "plt.legend(loc='upper right')\n",
    "plt.xlabel('Prize Money per Start Z-scores')\n",
    "plt.ylabel('Probability');"
   ]
  },
  {
   "cell_type": "markdown",
   "metadata": {},
   "source": [
    "### Using a 2-sample T-test, I find that Prize Money per Start Z-scores is significant:\n"
   ]
  },
  {
   "cell_type": "code",
   "execution_count": 45,
   "metadata": {},
   "outputs": [
    {
     "data": {
      "text/plain": [
       "(-76.41990201705845, 0.0)"
      ]
     },
     "execution_count": 45,
     "metadata": {},
     "output_type": "execute_result"
    }
   ],
   "source": [
    "test_stat4, p_value4 = ttest_ind(data4a, data4b)\n",
    "\n",
    "test_stat4, p_value4"
   ]
  },
  {
   "cell_type": "markdown",
   "metadata": {},
   "source": [
    "## For overall wins:"
   ]
  },
  {
   "cell_type": "code",
   "execution_count": 46,
   "metadata": {},
   "outputs": [],
   "source": [
    "overall_win_pop_cleaned = column_cleaner(df_cleaned, df_grouped, 'overall_win_percent_z')\n",
    "\n",
    "overall_win_pop_cleaned_win = cleaned_win_df(overall_win_pop_cleaned)"
   ]
  },
  {
   "cell_type": "code",
   "execution_count": 47,
   "metadata": {},
   "outputs": [
    {
     "data": {
      "text/plain": [
       "count   129668.00\n",
       "mean         0.00\n",
       "std          0.95\n",
       "min         -2.66\n",
       "25%         -0.66\n",
       "50%         -0.21\n",
       "75%          0.53\n",
       "max          3.75\n",
       "Name: overall_win_percent_z, dtype: float64"
      ]
     },
     "execution_count": 47,
     "metadata": {},
     "output_type": "execute_result"
    }
   ],
   "source": [
    "overall_win_pop_cleaned.overall_win_percent_z.describe()"
   ]
  },
  {
   "cell_type": "code",
   "execution_count": 48,
   "metadata": {},
   "outputs": [
    {
     "data": {
      "text/plain": [
       "count   13167.00\n",
       "mean        0.31\n",
       "std         1.02\n",
       "min        -2.65\n",
       "25%        -0.46\n",
       "50%         0.13\n",
       "75%         1.01\n",
       "max         3.59\n",
       "Name: overall_win_percent_z, dtype: float64"
      ]
     },
     "execution_count": 48,
     "metadata": {},
     "output_type": "execute_result"
    }
   ],
   "source": [
    "overall_win_pop_cleaned_win.overall_win_percent_z.describe()"
   ]
  },
  {
   "cell_type": "code",
   "execution_count": 49,
   "metadata": {},
   "outputs": [
    {
     "data": {
      "image/png": "[encoded data removed]",
      "text/plain": [
       "<Figure size 432x288 with 1 Axes>"
      ]
     },
     "metadata": {
      "needs_background": "light"
     },
     "output_type": "display_data"
    }
   ],
   "source": [
    "data5a = overall_win_pop_cleaned.overall_win_percent_z.dropna().values\n",
    "data5b = overall_win_pop_cleaned_win.overall_win_percent_z.dropna().values\n",
    "\n",
    "plt.title(\"Winner and Race Distributions of Overall Win Percent Z-scores\",\n",
    "          fontsize=15)\n",
    "\n",
    "plt.hist(data5a, density=True, bins=24, range=(-3,3), label='Race Average',\n",
    "         color='b', alpha=.6, edgecolor='k')\n",
    "\n",
    "plt.hist(data5b, density=True, bins=24, range=(-3,3), label='Winner Average',\n",
    "         color='r', alpha=.5, edgecolor='k')\n",
    "\n",
    "plt.legend(loc='upper right')\n",
    "plt.xlabel('Overall Win Percent Z-scores')\n",
    "plt.ylabel('Probability');"
   ]
  },
  {
   "cell_type": "markdown",
   "metadata": {},
   "source": [
    "### Using a 2-sample T-test, I find that Overall Win Percent Z-scores is significant:"
   ]
  },
  {
   "cell_type": "code",
   "execution_count": 50,
   "metadata": {},
   "outputs": [
    {
     "data": {
      "text/plain": [
       "(-35.60594650187907, 1.8659451269816977e-276)"
      ]
     },
     "execution_count": 50,
     "metadata": {},
     "output_type": "execute_result"
    }
   ],
   "source": [
    "test_stat5, p_value5 = ttest_ind(data5a, data5b)\n",
    "\n",
    "test_stat5, p_value5"
   ]
  },
  {
   "cell_type": "markdown",
   "metadata": {},
   "source": [
    "### There is high variance in the 100% column (aka beginner's luck). How many races before the 100% column is properly represented? That is, how many races is considered statistically significant?\n",
    "\n",
    "### It seems that a minimum of 5 races for all horses in the race gives the percent difference bar graph an exponential appearance. The other Github file has the graph showing this behavior."
   ]
  },
  {
   "cell_type": "code",
   "execution_count": 51,
   "metadata": {},
   "outputs": [],
   "source": [
    "overall_win_pop_grouped = overall_win_pop_cleaned.groupby(['date','venue_name',\n",
    "                                                           'market_name'])\n",
    "\n",
    "overall_starts_indices = overall_win_pop_grouped.overall_starts.agg('min').where(lambda x:x >= 5).dropna().index\n",
    "\n",
    "overall_starts_cleaned = overall_win_pop_cleaned.loc[overall_starts_indices].drop_duplicates()\n",
    "\n",
    "overall_starts_cleaned_win = cleaned_win_df(overall_starts_cleaned)"
   ]
  },
  {
   "cell_type": "code",
   "execution_count": 52,
   "metadata": {},
   "outputs": [
    {
     "data": {
      "text/plain": [
       "count   85608.00\n",
       "mean        0.00\n",
       "std         0.95\n",
       "min        -2.66\n",
       "25%        -0.69\n",
       "50%        -0.15\n",
       "75%         0.59\n",
       "max         3.40\n",
       "Name: overall_win_percent_z, dtype: float64"
      ]
     },
     "execution_count": 52,
     "metadata": {},
     "output_type": "execute_result"
    }
   ],
   "source": [
    "overall_starts_cleaned.overall_win_percent_z.describe()"
   ]
  },
  {
   "cell_type": "code",
   "execution_count": 53,
   "metadata": {},
   "outputs": [
    {
     "data": {
      "text/plain": [
       "count   8806.00\n",
       "mean       0.30\n",
       "std        1.00\n",
       "min       -2.65\n",
       "25%       -0.46\n",
       "50%        0.18\n",
       "75%        1.01\n",
       "max        3.40\n",
       "Name: overall_win_percent_z, dtype: float64"
      ]
     },
     "execution_count": 53,
     "metadata": {},
     "output_type": "execute_result"
    }
   ],
   "source": [
    "overall_starts_cleaned_win.overall_win_percent_z.describe()"
   ]
  },
  {
   "cell_type": "code",
   "execution_count": 54,
   "metadata": {},
   "outputs": [
    {
     "data": {
      "image/png": "[encoded data removed]",
      "text/plain": [
       "<Figure size 432x288 with 1 Axes>"
      ]
     },
     "metadata": {
      "needs_background": "light"
     },
     "output_type": "display_data"
    }
   ],
   "source": [
    "data6a = overall_starts_cleaned.overall_win_percent_z.dropna().values\n",
    "data6b = overall_starts_cleaned_win.overall_win_percent_z.dropna().values\n",
    "\n",
    "plt.title(\"Winner and Race Distributions of Overall Win Percent Z-scores\\n(horses over 5 total races)\",\n",
    "          fontsize=15)\n",
    "\n",
    "plt.hist(data6a, density=True, bins=24, range=(-3,3), label='Race Average',\n",
    "         color='b', alpha=.6, edgecolor='k')\n",
    "\n",
    "plt.hist(data6b, density=True, bins=24, range=(-3,3), label='Winner Average',\n",
    "         color='r', alpha=.5, edgecolor='k')\n",
    "\n",
    "plt.legend(loc='upper right')\n",
    "plt.xlabel('Overall Win Percent Z-scores \\n (with horses over 5 total races)')\n",
    "plt.ylabel('Probability');"
   ]
  },
  {
   "cell_type": "markdown",
   "metadata": {},
   "source": [
    "### Using a 2-sample T-test, I find that Overall Win Percent Z-scores (with horses over 5 total races) is significant:"
   ]
  },
  {
   "cell_type": "code",
   "execution_count": 55,
   "metadata": {},
   "outputs": [
    {
     "data": {
      "text/plain": [
       "(-28.057312959704664, 1.6702355295015772e-172)"
      ]
     },
     "execution_count": 55,
     "metadata": {},
     "output_type": "execute_result"
    }
   ],
   "source": [
    "test_stat6, p_value6 = ttest_ind(data6a, data6b)\n",
    "\n",
    "test_stat6, p_value6"
   ]
  },
  {
   "cell_type": "markdown",
   "metadata": {},
   "source": [
    "## For Barrier:"
   ]
  },
  {
   "cell_type": "code",
   "execution_count": 56,
   "metadata": {},
   "outputs": [],
   "source": [
    "barrier_pop_cleaned = column_cleaner(df_cleaned, df_grouped, 'barrier')\n",
    "\n",
    "barrier_grouped = barrier_pop_cleaned.groupby(['date','venue_name','market_name'])\n",
    "\n",
    "barrier_indices = barrier_grouped.barrier.value_counts().where(lambda x:x == 1).dropna().index.droplevel('barrier')\n",
    "\n",
    "barrier_pop_cleaned = barrier_pop_cleaned.loc[barrier_indices]\n",
    "\n",
    "barrier_pop_cleaned_win = cleaned_win_df(barrier_pop_cleaned)"
   ]
  },
  {
   "cell_type": "code",
   "execution_count": 57,
   "metadata": {},
   "outputs": [
    {
     "data": {
      "text/plain": [
       "1.00     0.22\n",
       "2.00     0.03\n",
       "3.00     0.05\n",
       "4.00     0.09\n",
       "5.00     0.12\n",
       "6.00     0.12\n",
       "7.00    -0.02\n",
       "8.00    -0.10\n",
       "9.00    -0.11\n",
       "10.00   -0.16\n",
       "11.00   -0.19\n",
       "12.00   -0.19\n",
       "13.00   -0.35\n",
       "14.00   -0.36\n",
       "15.00   -0.13\n",
       "16.00   -0.39\n",
       "17.00   -0.15\n",
       "Name: barrier, dtype: float64"
      ]
     },
     "execution_count": 57,
     "metadata": {},
     "output_type": "execute_result"
    }
   ],
   "source": [
    "barrier_pop = barrier_pop_cleaned.barrier.value_counts(normalize=True).sort_index().drop([18.00,19.00,20.00])\n",
    "\n",
    "barrier_win = barrier_pop_cleaned_win.barrier.value_counts(normalize=True).sort_index().drop(18.00)\n",
    "\n",
    "barrier_percent_difference = (barrier_win - barrier_pop)/barrier_pop\n",
    "\n",
    "barrier_percent_difference"
   ]
  },
  {
   "cell_type": "code",
   "execution_count": 58,
   "metadata": {},
   "outputs": [
    {
     "data": {
      "image/png": "[encoded data removed]",
      "text/plain": [
       "<Figure size 432x288 with 1 Axes>"
      ]
     },
     "metadata": {
      "needs_background": "light"
     },
     "output_type": "display_data"
    }
   ],
   "source": [
    "index7 = barrier_percent_difference.index\n",
    "\n",
    "df7 = pd.DataFrame({'Total Proportion': barrier_pop,'Win Proportion': barrier_win,\n",
    "                    'Percent Difference': barrier_percent_difference}, index=index7)\n",
    "\n",
    "ax = df7.plot.bar(rot=0, title='The Significance of Barrier')"
   ]
  },
  {
   "cell_type": "markdown",
   "metadata": {},
   "source": [
    "### Why is barrier 1 so overrepresented? Is there a problem with the data? There doesn't appear to be.\n",
    "\n",
    "### Using the Pearson's chi-squared test, I find that barrier is significant:"
   ]
  },
  {
   "cell_type": "code",
   "execution_count": 59,
   "metadata": {},
   "outputs": [
    {
     "data": {
      "text/plain": [
       "(3749.5577711230185, 0.0)"
      ]
     },
     "execution_count": 59,
     "metadata": {},
     "output_type": "execute_result"
    }
   ],
   "source": [
    "observed7 = barrier_pop_cleaned_win.barrier.value_counts().sort_index().drop(18.00).values\n",
    "expected_percentages7 = barrier_pop.values\n",
    "expected7 = [x*observed7.sum() for x in expected_percentages7]\n",
    "\n",
    "test_stat7, p_value7 = chisquare(observed7, expected7)\n",
    "\n",
    "test_stat7, p_value7"
   ]
  },
  {
   "cell_type": "markdown",
   "metadata": {},
   "source": [
    "### Does the length of a race negate or alter the effect of starting barrier?"
   ]
  },
  {
   "cell_type": "code",
   "execution_count": 60,
   "metadata": {},
   "outputs": [],
   "source": [
    "barr_dist_indices = barrier_pop_cleaned.distance.where(lambda x:x>=1800).dropna().index\n",
    "\n",
    "barr_dist_cleaned = barrier_pop_cleaned.loc[barr_dist_indices]\n",
    "\n",
    "barr_dist_cleaned_win = cleaned_win_df(barr_dist_cleaned)"
   ]
  },
  {
   "cell_type": "code",
   "execution_count": 61,
   "metadata": {},
   "outputs": [
    {
     "data": {
      "text/plain": [
       "1.00     0.29\n",
       "2.00    -0.04\n",
       "3.00     0.15\n",
       "4.00     0.09\n",
       "5.00     0.05\n",
       "6.00     0.11\n",
       "7.00     0.09\n",
       "8.00     0.03\n",
       "9.00    -0.04\n",
       "10.00   -0.15\n",
       "11.00   -0.17\n",
       "12.00   -0.29\n",
       "13.00   -0.32\n",
       "14.00   -0.34\n",
       "15.00   -0.47\n",
       "16.00   -0.78\n",
       "17.00     nan\n",
       "Name: barrier, dtype: float64"
      ]
     },
     "execution_count": 61,
     "metadata": {},
     "output_type": "execute_result"
    }
   ],
   "source": [
    "barr_dist_pop = barr_dist_cleaned.barrier.value_counts(normalize=True).sort_index().drop(18.00)\n",
    "\n",
    "barr_dist_win = barr_dist_cleaned_win.barrier.value_counts(normalize=True).sort_index().drop(18.00)\n",
    "\n",
    "barr_dist_percent_difference = (barr_dist_win - barr_dist_pop)/barr_dist_pop\n",
    "\n",
    "barr_dist_percent_difference"
   ]
  },
  {
   "cell_type": "code",
   "execution_count": 62,
   "metadata": {},
   "outputs": [
    {
     "data": {
      "image/png": "[encoded data removed]",
      "text/plain": [
       "<Figure size 432x288 with 1 Axes>"
      ]
     },
     "metadata": {
      "needs_background": "light"
     },
     "output_type": "display_data"
    }
   ],
   "source": [
    "index7a = barr_dist_percent_difference.index\n",
    "\n",
    "df7a = pd.DataFrame({'Total Proportion': barr_dist_pop,'Win Proportion': barr_dist_win,\n",
    "                    'Percent Difference': barr_dist_percent_difference}, index=index7a)\n",
    "\n",
    "ax = df7a.plot.bar(rot=0, title='The Significance of Barrier for Races Longer than 1800m')"
   ]
  },
  {
   "cell_type": "markdown",
   "metadata": {},
   "source": [
    "### It appears that there may be an even bigger distinction with barrier 1 with longer race distances. However, the other barriers seem to even out."
   ]
  },
  {
   "cell_type": "markdown",
   "metadata": {},
   "source": [
    "## For jockey gender: "
   ]
  },
  {
   "cell_type": "markdown",
   "metadata": {},
   "source": [
    "#### Overall percentage of men and women in races where both are represented:"
   ]
  },
  {
   "cell_type": "code",
   "execution_count": 63,
   "metadata": {},
   "outputs": [],
   "source": [
    "#Drops races where there is only one jockey gender, meaning that the other gender can't win\n",
    "jockey_sex_cleaned = column_cleaner(df_cleaned, df_grouped, 'jockey_sex')\n",
    "\n",
    "jockey_sex_cleaned_win = cleaned_win_df(jockey_sex_cleaned)"
   ]
  },
  {
   "cell_type": "code",
   "execution_count": 64,
   "metadata": {},
   "outputs": [
    {
     "data": {
      "text/plain": [
       "Male     0.75\n",
       "Female   0.25\n",
       "Name: jockey_sex, dtype: float64"
      ]
     },
     "execution_count": 64,
     "metadata": {},
     "output_type": "execute_result"
    }
   ],
   "source": [
    "jockey_sex_cleaned.jockey_sex.value_counts(normalize=True)\n",
    "#This amount is the sum of all 'male' and 'female' jockeys added together and THEN 'normalized'"
   ]
  },
  {
   "cell_type": "markdown",
   "metadata": {},
   "source": [
    "#### Win percentage of those races:"
   ]
  },
  {
   "cell_type": "code",
   "execution_count": 65,
   "metadata": {},
   "outputs": [
    {
     "data": {
      "text/plain": [
       "Male     0.79\n",
       "Female   0.21\n",
       "Name: jockey_sex, dtype: float64"
      ]
     },
     "execution_count": 65,
     "metadata": {},
     "output_type": "execute_result"
    }
   ],
   "source": [
    "#Isolates wins in races with both jockey genders represented\n",
    "jockey_sex_cleaned_win.jockey_sex.value_counts(normalize=True, dropna=False)"
   ]
  },
  {
   "cell_type": "code",
   "execution_count": 66,
   "metadata": {},
   "outputs": [],
   "source": [
    "#Finding the percent difference between win and total\n",
    "jockey_sex_pop = jockey_sex_cleaned.jockey_sex.value_counts(normalize=True,\n",
    "                                                            dropna=False).values\n",
    "\n",
    "jockey_sex_win = jockey_sex_cleaned_win.jockey_sex.value_counts(normalize=True,\n",
    "                                                                dropna=False).values\n",
    "\n",
    "jockey_sex_percent_difference = (jockey_sex_win - jockey_sex_pop)/jockey_sex_pop"
   ]
  },
  {
   "cell_type": "code",
   "execution_count": 67,
   "metadata": {},
   "outputs": [
    {
     "data": {
      "image/png": "[encoded data removed]",
      "text/plain": [
       "<Figure size 432x288 with 1 Axes>"
      ]
     },
     "metadata": {
      "needs_background": "light"
     },
     "output_type": "display_data"
    }
   ],
   "source": [
    "index8 = ['Men','Women']\n",
    "\n",
    "df8 = pd.DataFrame({'Total Proportion': jockey_sex_pop,'Win Proportion': jockey_sex_win ,\n",
    "                    'Percent Difference': jockey_sex_percent_difference}, index=index8)\n",
    "\n",
    "ax = df8.plot.bar(rot=0, title='The Significance of Jockey Gender')"
   ]
  },
  {
   "cell_type": "markdown",
   "metadata": {},
   "source": [
    "### Using a 2-proportion z-test, I find that jockey gender is significant with a p-value of 2.3E-30\n",
    "#### (There is currently a bug with the statsmodels library concerning compatibility with scipy, so I used a scientific calculator)"
   ]
  },
  {
   "cell_type": "markdown",
   "metadata": {},
   "source": [
    "## How far back does form (previous finishes) become irrelevant?\n",
    "\n",
    "### The distribution after 1 start:"
   ]
  },
  {
   "cell_type": "code",
   "execution_count": 68,
   "metadata": {},
   "outputs": [],
   "source": [
    "last_start_pop_cleaned = column_cleaner(df_cleaned, df_grouped, 'last_start1')\n",
    "\n",
    "last_start_pop_cleaned_win = cleaned_win_df(last_start_pop_cleaned)"
   ]
  },
  {
   "cell_type": "code",
   "execution_count": 69,
   "metadata": {},
   "outputs": [
    {
     "data": {
      "text/plain": [
       "1          0.47\n",
       "2          0.54\n",
       "3          0.25\n",
       "4          0.09\n",
       "5         -0.07\n",
       "6         -0.17\n",
       "7         -0.23\n",
       "8         -0.34\n",
       "9         -0.44\n",
       "scratch   -0.12\n",
       "ten+      -0.47\n",
       "Name: last_start1, dtype: float64"
      ]
     },
     "execution_count": 69,
     "metadata": {},
     "output_type": "execute_result"
    }
   ],
   "source": [
    "#Finding the percent difference between win and total\n",
    "last_start_pop = last_start_pop_cleaned.last_start1.value_counts(normalize=True,\n",
    "                                                                 dropna=False)\n",
    "\n",
    "last_start_win = last_start_pop_cleaned_win.last_start1.value_counts(normalize=True,\n",
    "                                                                     dropna=False)\n",
    "\n",
    "last_start_percent_difference = (last_start_win - last_start_pop)/last_start_pop\n",
    "\n",
    "last_start_percent_difference"
   ]
  },
  {
   "cell_type": "code",
   "execution_count": 70,
   "metadata": {},
   "outputs": [],
   "source": [
    "index9 = ['1','2','3','4','5','6','7','8','9','ten+','scratch','fell','none']\n",
    "\n",
    "df9 = pd.DataFrame({'Total Proportion': last_start_pop,'Win Proportion': last_start_win,\n",
    "                    'Percent Difference': last_start_percent_difference}, index=index9)"
   ]
  },
  {
   "cell_type": "markdown",
   "metadata": {},
   "source": [
    "### After 5 starts:"
   ]
  },
  {
   "cell_type": "code",
   "execution_count": 71,
   "metadata": {},
   "outputs": [],
   "source": [
    "last_start_pop_cleaned = column_cleaner(df_cleaned, df_grouped, 'last_start5')\n",
    "\n",
    "last_start_pop_cleaned_win = cleaned_win_df(last_start_pop_cleaned)"
   ]
  },
  {
   "cell_type": "code",
   "execution_count": 72,
   "metadata": {},
   "outputs": [],
   "source": [
    "#Finding the percent difference between win and total\n",
    "last_start_pop = last_start_pop_cleaned.last_start5.value_counts(normalize=True,\n",
    "                                                                 dropna=False)\n",
    "\n",
    "last_start_win = last_start_pop_cleaned_win.last_start5.value_counts(normalize=True,\n",
    "                                                                     dropna=False)\n",
    "\n",
    "last_start_percent_difference = (last_start_win - last_start_pop)/last_start_pop"
   ]
  },
  {
   "cell_type": "code",
   "execution_count": 73,
   "metadata": {},
   "outputs": [],
   "source": [
    "index10 = ['1','2','3','4','5','6','7','8','9','ten+','scratch','fell','none']\n",
    "\n",
    "df10 = pd.DataFrame({'Total Proportion': last_start_pop,'Win Proportion': last_start_win,\n",
    "                    'Percent Difference': last_start_percent_difference}, index=index10)"
   ]
  },
  {
   "cell_type": "markdown",
   "metadata": {},
   "source": [
    "### After 10 starts:"
   ]
  },
  {
   "cell_type": "code",
   "execution_count": 74,
   "metadata": {},
   "outputs": [],
   "source": [
    "last_start_pop_cleaned = column_cleaner(df_cleaned, df_grouped, 'last_start10')\n",
    "\n",
    "last_start_pop_cleaned_win = cleaned_win_df(last_start_pop_cleaned)"
   ]
  },
  {
   "cell_type": "code",
   "execution_count": 75,
   "metadata": {},
   "outputs": [],
   "source": [
    "#Finding the percent difference between win and total\n",
    "last_start_pop = last_start_pop_cleaned.last_start10.value_counts(normalize=True,\n",
    "                                                                 dropna=False)\n",
    "\n",
    "last_start_win = last_start_pop_cleaned_win.last_start10.value_counts(normalize=True,\n",
    "                                                                     dropna=False)\n",
    "\n",
    "last_start_percent_difference = (last_start_win - last_start_pop)/last_start_pop"
   ]
  },
  {
   "cell_type": "code",
   "execution_count": 76,
   "metadata": {},
   "outputs": [],
   "source": [
    "index11 = ['1','2','3','4','5','6','7','8','9','ten+','scratch','fell','none']\n",
    "\n",
    "df11 = pd.DataFrame({'Total Proportion': last_start_pop,'Win Proportion': last_start_win,\n",
    "                    'Percent Difference': last_start_percent_difference}, index=index11)"
   ]
  },
  {
   "cell_type": "markdown",
   "metadata": {},
   "source": [
    "### After 13 starts:"
   ]
  },
  {
   "cell_type": "code",
   "execution_count": 77,
   "metadata": {},
   "outputs": [],
   "source": [
    "last_start_pop_cleaned = column_cleaner(df_cleaned, df_grouped, 'last_start13')\n",
    "\n",
    "last_start_pop_cleaned_win = cleaned_win_df(last_start_pop_cleaned)"
   ]
  },
  {
   "cell_type": "code",
   "execution_count": 78,
   "metadata": {},
   "outputs": [
    {
     "data": {
      "text/plain": [
       "1          0.01\n",
       "2         -0.01\n",
       "3         -0.03\n",
       "4         -0.10\n",
       "5         -0.13\n",
       "6         -0.11\n",
       "7         -0.21\n",
       "8         -0.15\n",
       "9         -0.20\n",
       "fell       0.14\n",
       "none       0.22\n",
       "scratch   -0.05\n",
       "ten+      -0.23\n",
       "Name: last_start13, dtype: float64"
      ]
     },
     "execution_count": 78,
     "metadata": {},
     "output_type": "execute_result"
    }
   ],
   "source": [
    "#Finding the percent difference between win and total\n",
    "last_start_pop = last_start_pop_cleaned.last_start13.value_counts(normalize=True,\n",
    "                                                                 dropna=False)\n",
    "\n",
    "last_start_win = last_start_pop_cleaned_win.last_start13.value_counts(normalize=True,\n",
    "                                                                     dropna=False)\n",
    "\n",
    "last_start_percent_difference = (last_start_win - last_start_pop)/last_start_pop\n",
    "\n",
    "last_start_percent_difference"
   ]
  },
  {
   "cell_type": "code",
   "execution_count": 79,
   "metadata": {},
   "outputs": [],
   "source": [
    "index12 = ['1','2','3','4','5','6','7','8','9','ten+','scratch','fell','none']\n",
    "\n",
    "df12 = pd.DataFrame({'Total Proportion': last_start_pop,'Win Proportion': last_start_win,\n",
    "                    'Percent Difference': last_start_percent_difference}, index=index12)"
   ]
  },
  {
   "cell_type": "markdown",
   "metadata": {},
   "source": [
    "### Graphing form data:"
   ]
  },
  {
   "cell_type": "code",
   "execution_count": 80,
   "metadata": {},
   "outputs": [
    {
     "data": {
      "text/plain": [
       "Text(0.5, 1.0, 'The Significance of 13 Results Ago')"
      ]
     },
     "execution_count": 80,
     "metadata": {},
     "output_type": "execute_result"
    },
    {
     "data": {
      "image/png": "[encoded data removed]",
      "text/plain": [
       "<Figure size 1440x720 with 4 Axes>"
      ]
     },
     "metadata": {
      "needs_background": "light"
     },
     "output_type": "display_data"
    }
   ],
   "source": [
    "fig,ax1 = plt.subplots(2, 2)\n",
    "\n",
    "df9.plot.bar(ax=ax1[0,0],figsize=(20, 10)).set_title('The Significance of Previous Result')\n",
    "df10.plot.bar(ax=ax1[0,1],figsize=(20, 10)).set_title('The Significance of 5 Results Ago')\n",
    "df11.plot.bar(ax=ax1[1,0],figsize=(20, 10)).set_title('The Significance of 10 Results Ago')\n",
    "df12.plot.bar(ax=ax1[1,1],figsize=(20, 10)).set_title('The Significance of 13 Results Ago')"
   ]
  },
  {
   "cell_type": "markdown",
   "metadata": {},
   "source": [
    "# How often would you win and what would be your expected return if you always bet on the favorite?"
   ]
  },
  {
   "cell_type": "code",
   "execution_count": 81,
   "metadata": {},
   "outputs": [],
   "source": [
    "odds_cleaned = column_cleaner(df_cleaned, df_grouped, 'bf_odds')"
   ]
  },
  {
   "cell_type": "code",
   "execution_count": 82,
   "metadata": {},
   "outputs": [
    {
     "data": {
      "text/html": [
       "<div>\n",
       "<style scoped>\n",
       "    .dataframe tbody tr th:only-of-type {\n",
       "        vertical-align: middle;\n",
       "    }\n",
       "\n",
       "    .dataframe tbody tr th {\n",
       "        vertical-align: top;\n",
       "    }\n",
       "\n",
       "    .dataframe thead th {\n",
       "        text-align: right;\n",
       "    }\n",
       "</style>\n",
       "<table border=\"1\" class=\"dataframe\">\n",
       "  <thead>\n",
       "    <tr style=\"text-align: right;\">\n",
       "      <th></th>\n",
       "      <th></th>\n",
       "      <th></th>\n",
       "      <th></th>\n",
       "      <th>position_again</th>\n",
       "      <th>bf_odds</th>\n",
       "      <th>condition</th>\n",
       "      <th>barrier</th>\n",
       "      <th>sex</th>\n",
       "      <th>jockey_sex</th>\n",
       "      <th>days_since_last_run</th>\n",
       "      <th>overall_starts</th>\n",
       "      <th>track_starts</th>\n",
       "      <th>distance_starts</th>\n",
       "      <th>...</th>\n",
       "      <th>overall_win_percent_z</th>\n",
       "      <th>overall_place_percent_z</th>\n",
       "      <th>distance_win_percent_z</th>\n",
       "      <th>distance_place_percent_z</th>\n",
       "      <th>condition_win_percent_z</th>\n",
       "      <th>condition_place_percent_z</th>\n",
       "      <th>overall_starts_z</th>\n",
       "      <th>distance_starts_z</th>\n",
       "      <th>condition_starts_z</th>\n",
       "      <th>track_starts_z</th>\n",
       "    </tr>\n",
       "    <tr>\n",
       "      <th>date</th>\n",
       "      <th>venue_name</th>\n",
       "      <th>market_name</th>\n",
       "      <th>uniq_idx</th>\n",
       "      <th></th>\n",
       "      <th></th>\n",
       "      <th></th>\n",
       "      <th></th>\n",
       "      <th></th>\n",
       "      <th></th>\n",
       "      <th></th>\n",
       "      <th></th>\n",
       "      <th></th>\n",
       "      <th></th>\n",
       "      <th></th>\n",
       "      <th></th>\n",
       "      <th></th>\n",
       "      <th></th>\n",
       "      <th></th>\n",
       "      <th></th>\n",
       "      <th></th>\n",
       "      <th></th>\n",
       "      <th></th>\n",
       "      <th></th>\n",
       "      <th></th>\n",
       "    </tr>\n",
       "  </thead>\n",
       "  <tbody>\n",
       "    <tr>\n",
       "      <th rowspan=\"5\" valign=\"top\">2016-06-27</th>\n",
       "      <th rowspan=\"5\" valign=\"top\">Echuca</th>\n",
       "      <th rowspan=\"5\" valign=\"top\">R10 1400m Hcap</th>\n",
       "      <th>0</th>\n",
       "      <td>1.00</td>\n",
       "      <td>18.50</td>\n",
       "      <td>HEAVY</td>\n",
       "      <td>12.00</td>\n",
       "      <td>Mare</td>\n",
       "      <td>Male</td>\n",
       "      <td>16.00</td>\n",
       "      <td>26.00</td>\n",
       "      <td>10.00</td>\n",
       "      <td>12.00</td>\n",
       "      <td>...</td>\n",
       "      <td>-0.09</td>\n",
       "      <td>-0.24</td>\n",
       "      <td>0.19</td>\n",
       "      <td>0.50</td>\n",
       "      <td>nan</td>\n",
       "      <td>nan</td>\n",
       "      <td>0.23</td>\n",
       "      <td>0.22</td>\n",
       "      <td>0.98</td>\n",
       "      <td>1.70</td>\n",
       "    </tr>\n",
       "    <tr>\n",
       "      <th>1</th>\n",
       "      <td>2.00</td>\n",
       "      <td>16.50</td>\n",
       "      <td>HEAVY</td>\n",
       "      <td>8.00</td>\n",
       "      <td>Gelding</td>\n",
       "      <td>Male</td>\n",
       "      <td>18.00</td>\n",
       "      <td>12.00</td>\n",
       "      <td>1.00</td>\n",
       "      <td>9.00</td>\n",
       "      <td>...</td>\n",
       "      <td>0.06</td>\n",
       "      <td>-0.12</td>\n",
       "      <td>0.09</td>\n",
       "      <td>0.28</td>\n",
       "      <td>nan</td>\n",
       "      <td>nan</td>\n",
       "      <td>-0.79</td>\n",
       "      <td>-0.15</td>\n",
       "      <td>0.00</td>\n",
       "      <td>-0.61</td>\n",
       "    </tr>\n",
       "    <tr>\n",
       "      <th>2</th>\n",
       "      <td>3.00</td>\n",
       "      <td>11.50</td>\n",
       "      <td>HEAVY</td>\n",
       "      <td>1.00</td>\n",
       "      <td>Gelding</td>\n",
       "      <td>Male</td>\n",
       "      <td>13.00</td>\n",
       "      <td>20.00</td>\n",
       "      <td>7.00</td>\n",
       "      <td>10.00</td>\n",
       "      <td>...</td>\n",
       "      <td>-0.72</td>\n",
       "      <td>1.19</td>\n",
       "      <td>0.01</td>\n",
       "      <td>0.89</td>\n",
       "      <td>nan</td>\n",
       "      <td>nan</td>\n",
       "      <td>-0.21</td>\n",
       "      <td>-0.03</td>\n",
       "      <td>-0.49</td>\n",
       "      <td>0.93</td>\n",
       "    </tr>\n",
       "    <tr>\n",
       "      <th>3</th>\n",
       "      <td>nan</td>\n",
       "      <td>19.00</td>\n",
       "      <td>HEAVY</td>\n",
       "      <td>5.00</td>\n",
       "      <td>Gelding</td>\n",
       "      <td>Male</td>\n",
       "      <td>16.00</td>\n",
       "      <td>31.00</td>\n",
       "      <td>2.00</td>\n",
       "      <td>16.00</td>\n",
       "      <td>...</td>\n",
       "      <td>-0.76</td>\n",
       "      <td>-0.17</td>\n",
       "      <td>-0.04</td>\n",
       "      <td>0.01</td>\n",
       "      <td>nan</td>\n",
       "      <td>nan</td>\n",
       "      <td>0.60</td>\n",
       "      <td>0.72</td>\n",
       "      <td>-0.49</td>\n",
       "      <td>-0.36</td>\n",
       "    </tr>\n",
       "    <tr>\n",
       "      <th>4</th>\n",
       "      <td>nan</td>\n",
       "      <td>7.60</td>\n",
       "      <td>HEAVY</td>\n",
       "      <td>7.00</td>\n",
       "      <td>Mare</td>\n",
       "      <td>Male</td>\n",
       "      <td>13.00</td>\n",
       "      <td>6.00</td>\n",
       "      <td>0.00</td>\n",
       "      <td>3.00</td>\n",
       "      <td>...</td>\n",
       "      <td>2.00</td>\n",
       "      <td>1.52</td>\n",
       "      <td>0.50</td>\n",
       "      <td>1.15</td>\n",
       "      <td>nan</td>\n",
       "      <td>nan</td>\n",
       "      <td>-1.23</td>\n",
       "      <td>-0.90</td>\n",
       "      <td>-0.98</td>\n",
       "      <td>-0.87</td>\n",
       "    </tr>\n",
       "  </tbody>\n",
       "</table>\n",
       "<p>5 rows × 52 columns</p>\n",
       "</div>"
      ],
      "text/plain": [
       "                                               position_again  bf_odds  \\\n",
       "date       venue_name market_name    uniq_idx                            \n",
       "2016-06-27 Echuca     R10 1400m Hcap 0                   1.00    18.50   \n",
       "                                     1                   2.00    16.50   \n",
       "                                     2                   3.00    11.50   \n",
       "                                     3                    nan    19.00   \n",
       "                                     4                    nan     7.60   \n",
       "\n",
       "                                              condition  barrier      sex  \\\n",
       "date       venue_name market_name    uniq_idx                               \n",
       "2016-06-27 Echuca     R10 1400m Hcap 0            HEAVY    12.00     Mare   \n",
       "                                     1            HEAVY     8.00  Gelding   \n",
       "                                     2            HEAVY     1.00  Gelding   \n",
       "                                     3            HEAVY     5.00  Gelding   \n",
       "                                     4            HEAVY     7.00     Mare   \n",
       "\n",
       "                                              jockey_sex  days_since_last_run  \\\n",
       "date       venue_name market_name    uniq_idx                                   \n",
       "2016-06-27 Echuca     R10 1400m Hcap 0              Male                16.00   \n",
       "                                     1              Male                18.00   \n",
       "                                     2              Male                13.00   \n",
       "                                     3              Male                16.00   \n",
       "                                     4              Male                13.00   \n",
       "\n",
       "                                               overall_starts  track_starts  \\\n",
       "date       venue_name market_name    uniq_idx                                 \n",
       "2016-06-27 Echuca     R10 1400m Hcap 0                  26.00         10.00   \n",
       "                                     1                  12.00          1.00   \n",
       "                                     2                  20.00          7.00   \n",
       "                                     3                  31.00          2.00   \n",
       "                                     4                   6.00          0.00   \n",
       "\n",
       "                                               distance_starts  ...  \\\n",
       "date       venue_name market_name    uniq_idx                   ...   \n",
       "2016-06-27 Echuca     R10 1400m Hcap 0                   12.00  ...   \n",
       "                                     1                    9.00  ...   \n",
       "                                     2                   10.00  ...   \n",
       "                                     3                   16.00  ...   \n",
       "                                     4                    3.00  ...   \n",
       "\n",
       "                                               overall_win_percent_z  \\\n",
       "date       venue_name market_name    uniq_idx                          \n",
       "2016-06-27 Echuca     R10 1400m Hcap 0                         -0.09   \n",
       "                                     1                          0.06   \n",
       "                                     2                         -0.72   \n",
       "                                     3                         -0.76   \n",
       "                                     4                          2.00   \n",
       "\n",
       "                                               overall_place_percent_z  \\\n",
       "date       venue_name market_name    uniq_idx                            \n",
       "2016-06-27 Echuca     R10 1400m Hcap 0                           -0.24   \n",
       "                                     1                           -0.12   \n",
       "                                     2                            1.19   \n",
       "                                     3                           -0.17   \n",
       "                                     4                            1.52   \n",
       "\n",
       "                                               distance_win_percent_z  \\\n",
       "date       venue_name market_name    uniq_idx                           \n",
       "2016-06-27 Echuca     R10 1400m Hcap 0                           0.19   \n",
       "                                     1                           0.09   \n",
       "                                     2                           0.01   \n",
       "                                     3                          -0.04   \n",
       "                                     4                           0.50   \n",
       "\n",
       "                                               distance_place_percent_z  \\\n",
       "date       venue_name market_name    uniq_idx                             \n",
       "2016-06-27 Echuca     R10 1400m Hcap 0                             0.50   \n",
       "                                     1                             0.28   \n",
       "                                     2                             0.89   \n",
       "                                     3                             0.01   \n",
       "                                     4                             1.15   \n",
       "\n",
       "                                               condition_win_percent_z  \\\n",
       "date       venue_name market_name    uniq_idx                            \n",
       "2016-06-27 Echuca     R10 1400m Hcap 0                             nan   \n",
       "                                     1                             nan   \n",
       "                                     2                             nan   \n",
       "                                     3                             nan   \n",
       "                                     4                             nan   \n",
       "\n",
       "                                               condition_place_percent_z  \\\n",
       "date       venue_name market_name    uniq_idx                              \n",
       "2016-06-27 Echuca     R10 1400m Hcap 0                               nan   \n",
       "                                     1                               nan   \n",
       "                                     2                               nan   \n",
       "                                     3                               nan   \n",
       "                                     4                               nan   \n",
       "\n",
       "                                               overall_starts_z  \\\n",
       "date       venue_name market_name    uniq_idx                     \n",
       "2016-06-27 Echuca     R10 1400m Hcap 0                     0.23   \n",
       "                                     1                    -0.79   \n",
       "                                     2                    -0.21   \n",
       "                                     3                     0.60   \n",
       "                                     4                    -1.23   \n",
       "\n",
       "                                               distance_starts_z  \\\n",
       "date       venue_name market_name    uniq_idx                      \n",
       "2016-06-27 Echuca     R10 1400m Hcap 0                      0.22   \n",
       "                                     1                     -0.15   \n",
       "                                     2                     -0.03   \n",
       "                                     3                      0.72   \n",
       "                                     4                     -0.90   \n",
       "\n",
       "                                              condition_starts_z  \\\n",
       "date       venue_name market_name    uniq_idx                      \n",
       "2016-06-27 Echuca     R10 1400m Hcap 0                      0.98   \n",
       "                                     1                      0.00   \n",
       "                                     2                     -0.49   \n",
       "                                     3                     -0.49   \n",
       "                                     4                     -0.98   \n",
       "\n",
       "                                              track_starts_z  \n",
       "date       venue_name market_name    uniq_idx                 \n",
       "2016-06-27 Echuca     R10 1400m Hcap 0                  1.70  \n",
       "                                     1                 -0.61  \n",
       "                                     2                  0.93  \n",
       "                                     3                 -0.36  \n",
       "                                     4                 -0.87  \n",
       "\n",
       "[5 rows x 52 columns]"
      ]
     },
     "execution_count": 82,
     "metadata": {},
     "output_type": "execute_result"
    }
   ],
   "source": [
    "#creates dataframe with a unique index\n",
    "odds_cleaned['uniq_idx'] = range(len(odds_cleaned))\n",
    "odds_cleaned_uniq_idx = odds_cleaned.set_index('uniq_idx',append=True)\n",
    "uniq_idx_grouped = odds_cleaned_uniq_idx.groupby(['date','venue_name',\n",
    "                                                  'market_name'])\n",
    "\n",
    "odds_cleaned_uniq_idx.head()"
   ]
  },
  {
   "cell_type": "code",
   "execution_count": 83,
   "metadata": {},
   "outputs": [
    {
     "name": "stdout",
     "output_type": "stream",
     "text": [
      "Number of favorites: 21587\n",
      "Number of favorites that win: 7410\n",
      "Average odds of favorite that wins: 2.9872685560053975\n"
     ]
    }
   ],
   "source": [
    "#finds index of favorite for every race\n",
    "bf_min_indices = uniq_idx_grouped.bf_odds.idxmin\n",
    "\n",
    "#finds row for each favorite\n",
    "min_odds_cleaned = odds_cleaned_uniq_idx.loc[bf_min_indices]\n",
    "\n",
    "#finds favorites that won\n",
    "min_odds_win = cleaned_win_df(min_odds_cleaned)\n",
    "\n",
    "odds_pop = len(min_odds_cleaned)\n",
    "odds_win = len(min_odds_win)\n",
    "\n",
    "#finds average win of favorite that won\n",
    "average = min_odds_win.bf_odds.mean()\n",
    "\n",
    "print('Number of favorites:',odds_pop)\n",
    "print('Number of favorites that win:',odds_win)\n",
    "print('Average odds of favorite that wins:',average)"
   ]
  },
  {
   "cell_type": "markdown",
   "metadata": {},
   "source": [
    "### How often the favorite wins:\n",
    "#### Similar to value found here:\n",
    "https://betmix.com/how-often-does-the-favorite-win-a-horse-race/#:~:text=On%20average%20favorites%20win%20about,dirt%20races%20than%20turf%20races."
   ]
  },
  {
   "cell_type": "code",
   "execution_count": 84,
   "metadata": {},
   "outputs": [
    {
     "data": {
      "text/plain": [
       "0.3432621485153101"
      ]
     },
     "execution_count": 84,
     "metadata": {},
     "output_type": "execute_result"
    }
   ],
   "source": [
    "odds_win/odds_pop"
   ]
  },
  {
   "cell_type": "markdown",
   "metadata": {},
   "source": [
    "### The expected return if betting 1 dollar on favorite every race:"
   ]
  },
  {
   "cell_type": "code",
   "execution_count": 85,
   "metadata": {},
   "outputs": [
    {
     "data": {
      "text/plain": [
       "0.025416222726640857"
      ]
     },
     "execution_count": 85,
     "metadata": {},
     "output_type": "execute_result"
    }
   ],
   "source": [
    "(average*odds_win - odds_pop)/odds_pop"
   ]
  },
  {
   "cell_type": "markdown",
   "metadata": {},
   "source": [
    "# Machine Learning Process:"
   ]
  },
  {
   "cell_type": "markdown",
   "metadata": {},
   "source": [
    "## Dropping null-majority features, creating dummy variables, and imputing:"
   ]
  },
  {
   "cell_type": "code",
   "execution_count": 86,
   "metadata": {},
   "outputs": [],
   "source": [
    "df_cleaned_test = df_cleaned.copy()\n",
    "\n",
    "df_cleaned_test.drop(['condition_place_percent_z','condition_win_percent_z',\n",
    "                      'distance_place_percent_z','distance_win_percent_z'],\n",
    "                     axis=1,inplace=True)\n",
    "\n",
    "#drops last_start 11 through 20 to match information provided on racing websites\n",
    "for i in range(10,20):\n",
    "    df_cleaned_test.drop('last_start'+str(i+1),axis=1,inplace=True)\n",
    "    \n",
    "df_cleaned_test.reset_index(drop=True,inplace=True)"
   ]
  },
  {
   "cell_type": "code",
   "execution_count": 87,
   "metadata": {},
   "outputs": [],
   "source": [
    "#Modifying categorical groups\n",
    "df_cleaned_test.position_again = df_cleaned_test.position_again.replace([2,3,np.nan],[0,0,0])\n",
    "\n",
    "#Creates new target column based on odds\n",
    "conditions = [(df_cleaned_test['position_again'] == 1),\n",
    "              (df_cleaned_test['position_again'] == 2) | (df_cleaned_test['position_again'] == 3)]\n",
    "\n",
    "# Used for making regression model\n",
    "#choices = [df_cleaned_test['bf_odds'], place_odds_estimator(df_cleaned_test['bf_odds'])]\n",
    "#df_cleaned_test['target_odds'] = np.select(conditions, choices, default=0)\n",
    "\n",
    "categorical_list = ['sex','jockey_sex','condition','barrier']\n",
    "for i in range(10):\n",
    "    categorical_list.append('last_start'+str(i+1)) \n",
    "\n",
    "df_cleaned_test = pd.get_dummies(df_cleaned_test,columns=categorical_list,drop_first=True,dummy_na=1)"
   ]
  },
  {
   "cell_type": "code",
   "execution_count": 88,
   "metadata": {},
   "outputs": [
    {
     "data": {
      "text/plain": [
       "position_again              0\n",
       "bf_odds                     0\n",
       "days_since_last_run     13035\n",
       "overall_starts          13035\n",
       "track_starts            13035\n",
       "                        ...  \n",
       "last_start10_fell           0\n",
       "last_start10_none           0\n",
       "last_start10_scratch        0\n",
       "last_start10_ten+           0\n",
       "last_start10_nan            0\n",
       "Length: 183, dtype: int64"
      ]
     },
     "execution_count": 88,
     "metadata": {},
     "output_type": "execute_result"
    }
   ],
   "source": [
    "df_cleaned_test.isnull().sum()"
   ]
  },
  {
   "cell_type": "markdown",
   "metadata": {},
   "source": [
    "### Imputing nans:"
   ]
  },
  {
   "cell_type": "code",
   "execution_count": 89,
   "metadata": {},
   "outputs": [],
   "source": [
    "from sklearn.experimental import enable_iterative_imputer\n",
    "from sklearn.impute import IterativeImputer\n",
    "from sklearn.model_selection import train_test_split"
   ]
  },
  {
   "cell_type": "code",
   "execution_count": 90,
   "metadata": {},
   "outputs": [],
   "source": [
    "y = df_cleaned_test['position_again']\n",
    "X = df_cleaned_test.drop(['position_again','bf_odds'],axis=1)\n",
    "\n",
    "# For regression model experimentation:\n",
    "# y = df_cleaned_test['target_odds']\n",
    "# X = df_cleaned_test.drop(['position_again','target_odds'],axis=1)"
   ]
  },
  {
   "cell_type": "code",
   "execution_count": 91,
   "metadata": {},
   "outputs": [],
   "source": [
    "X_train, X_test, y_train, y_test = train_test_split(X, y, test_size=.9, random_state=0)"
   ]
  },
  {
   "cell_type": "code",
   "execution_count": 92,
   "metadata": {},
   "outputs": [],
   "source": [
    "imp_mean = IterativeImputer(random_state=0)\n",
    "imp_mean.fit(X_train,y_train)\n",
    "transformed_X_test = imp_mean.transform(X_test)\n",
    "\n",
    "# Transformaing np.array output back into pandas dataframe\n",
    "transformed_X_test = pd.DataFrame(data=transformed_X_test,index=y_test.index,columns=X_test.columns)"
   ]
  },
  {
   "cell_type": "code",
   "execution_count": 93,
   "metadata": {},
   "outputs": [
    {
     "data": {
      "text/plain": [
       "0"
      ]
     },
     "execution_count": 93,
     "metadata": {},
     "output_type": "execute_result"
    }
   ],
   "source": [
    "transformed_X_test.isnull().sum().sum() #Total null values after transformation"
   ]
  },
  {
   "cell_type": "markdown",
   "metadata": {},
   "source": [
    "## Shuffling and splitting the grouped data:"
   ]
  },
  {
   "cell_type": "code",
   "execution_count": 94,
   "metadata": {},
   "outputs": [],
   "source": [
    "#classifiers -- All have balancing option for imbalanced datasets\n",
    "from sklearn.ensemble import RandomForestClassifier\n",
    "from sklearn.linear_model import LogisticRegression, SGDClassifier\n",
    "from sklearn.tree import DecisionTreeClassifier\n",
    "import xgboost as xgb\n",
    "\n",
    "#for function below\n",
    "from sklearn.model_selection import StratifiedKFold\n",
    "from time import time\n",
    "from sklearn.metrics import make_scorer,confusion_matrix,accuracy_score,\\\n",
    "    precision_score,recall_score,f1_score,roc_auc_score,matthews_corrcoef"
   ]
  },
  {
   "cell_type": "markdown",
   "metadata": {},
   "source": [
    "### The dataset is imbalanced and this needs to be accounted for, so I use models with a balancing option."
   ]
  },
  {
   "cell_type": "code",
   "execution_count": 95,
   "metadata": {},
   "outputs": [
    {
     "data": {
      "text/plain": [
       "8.61029170763684"
      ]
     },
     "execution_count": 95,
     "metadata": {},
     "output_type": "execute_result"
    }
   ],
   "source": [
    "#for xgboost scale_pos_weight\n",
    "negative = len(df_cleaned_test[df_cleaned_test.position_again ==0])\n",
    "positive = len(df_cleaned_test[df_cleaned_test.position_again ==1])\n",
    "xgb_weight = negative/positive\n",
    "\n",
    "xgb_weight"
   ]
  },
  {
   "cell_type": "code",
   "execution_count": 96,
   "metadata": {},
   "outputs": [],
   "source": [
    "clf_A = SGDClassifier(random_state=0,class_weight='balanced')\n",
    "\n",
    "clf_B = LogisticRegression(random_state=0,class_weight='balanced')\n",
    "\n",
    "clf_D = RandomForestClassifier(random_state=0,max_depth=10,class_weight='balanced')\n",
    "\n",
    "clf_F = DecisionTreeClassifier(random_state=0,max_depth=5,class_weight='balanced')\n",
    "\n",
    "clf_J = xgb.XGBClassifier(random_state=0,scale_pos_weight=xgb_weight)"
   ]
  },
  {
   "cell_type": "markdown",
   "metadata": {},
   "source": [
    "### Creates a function to split data and fit, predict, and score models:"
   ]
  },
  {
   "cell_type": "code",
   "execution_count": 97,
   "metadata": {},
   "outputs": [],
   "source": [
    "def metrics_function(target,pred):\n",
    "    return accuracy_score(target, pred),precision_score(target, pred),\\\n",
    "        recall_score(target, pred),f1_score(target, pred),\\\n",
    "        roc_auc_score(target, pred),matthews_corrcoef(target, pred)\n",
    "\n",
    "def FOLD_TEST(clf,X_all,y_all,folds_num,row_factor):\n",
    "    start=time()\n",
    "    \n",
    "    KFLD=StratifiedKFold(n_splits=folds_num,random_state=0,shuffle=True)\n",
    "    print ('{}:'.format(clf.__class__.__name__),'\\n')\n",
    "    \n",
    "    acc_list_train=[]\n",
    "    acc_list_test=[]\n",
    "    prc_list_train=[]\n",
    "    prc_list_test=[]\n",
    "    rcal_list_train=[]\n",
    "    rcal_list_test=[]\n",
    "    f1_list_train=[]\n",
    "    f1_list_test=[]\n",
    "    matt_list_train=[]\n",
    "    matt_list_test=[]\n",
    "    AUC_list_train=[]\n",
    "    AUC_list_test=[]\n",
    "    \n",
    "    samp_size=X_all.shape[0]//row_factor\n",
    "    \n",
    "    true_values = []\n",
    "    predict_values =[]\n",
    "    \n",
    "    for fold,(train_index,target_index) in enumerate(KFLD.split(X_all[:samp_size],\n",
    "                                                                y_all[:samp_size])):\n",
    "        X_train=X_all.iloc[train_index].values\n",
    "        y_train=y_all.iloc[train_index].values\n",
    "\n",
    "        X_test=X_all.iloc[target_index].values\n",
    "        y_test=y_all.iloc[target_index].values\n",
    "        \n",
    "        clf.fit(X_train,y_train)\n",
    "        y_pred1=clf.predict(X_train)\n",
    "        y_pred2=clf.predict(X_test)\n",
    "\n",
    "        train_acc,train_prc,train_rcal,train_f1,train_auc,train_matt=metrics_function(y_train,y_pred1)\n",
    "        \n",
    "        test_acc,test_prc,test_rcal,test_f1,test_auc,test_matt=metrics_function(y_test,y_pred2)\n",
    "        \n",
    "        acc_list_train.append(train_acc)\n",
    "        acc_list_test.append(test_acc)\n",
    "        prc_list_train.append(train_prc)\n",
    "        prc_list_test.append(test_prc)\n",
    "        rcal_list_train.append(train_rcal)\n",
    "        rcal_list_test.append(test_rcal)\n",
    "        \n",
    "        f1_list_train.append(train_f1)\n",
    "        f1_list_test.append(test_f1)\n",
    "        matt_list_train.append(train_matt)\n",
    "        matt_list_test.append(test_matt)\n",
    "        AUC_list_train.append(train_auc)\n",
    "        AUC_list_test.append(test_auc)\n",
    "        \n",
    "        true_values = true_values + list(zip(target_index,y_test))\n",
    "        predict_values = predict_values + list(zip(target_index,y_pred2))\n",
    "        \n",
    "    print(\"Averages:\"'\\n')\n",
    "    \n",
    "    print(\"Train acc: {}, Test acc: {}\".format(np.mean(acc_list_train),\n",
    "                                               np.mean(acc_list_test)))\n",
    "    print(\"Train prc: {}, Test prc: {}\".format(np.mean(prc_list_train),\n",
    "                                               np.mean(prc_list_test)))\n",
    "    print(\"Train recall: {}, Test recall: {}\".format(np.mean(rcal_list_train),\n",
    "                                                     np.mean(rcal_list_test)),'\\n')\n",
    "    \n",
    "    print(\"Train f1: {}, Test f1: {}\".format(np.mean(f1_list_train),\n",
    "                                             np.mean(f1_list_test)))\n",
    "    print(\"Train MattCC: {}, Test MattCC: {}\".format(np.mean(matt_list_train),\n",
    "                                                     np.mean(matt_list_test)))\n",
    "    print(\"Train AUC: {}, Test AUC: {}\".format(np.mean(AUC_list_train),\n",
    "                                               np.mean(AUC_list_test)),'\\n'*2)\n",
    "        \n",
    "    print(\"Sample Size: {}, Folds Num: {}, Time: {}\".format(samp_size,folds_num,\n",
    "                                                            time()-start),'\\n'*2)\n",
    "    \n",
    "    total_picks = []\n",
    "    correct_idx = []\n",
    "\n",
    "    for ((a,b),(c,d)) in list(zip(true_values,predict_values)):\n",
    "        if (b==1)&(d==1):\n",
    "            correct_idx.append(a)\n",
    "        if d==1:\n",
    "            total_picks.append(c)\n",
    "\n",
    "    win_odds_list=[]\n",
    "\n",
    "    for a in correct_idx:\n",
    "        win_odds_list.append(df_cleaned_test.bf_odds.iloc[a])\n",
    "\n",
    "    average_win=np.mean(win_odds_list)\n",
    "    \n",
    "    print(\"Total Picks:\",len(total_picks),\"Average Win Odds:\",average_win)\n",
    "    print(\"Total Return:\",average_win*len(correct_idx)-len(total_picks))\n",
    "    print(\"Average Expected Return:\",(average_win*len(correct_idx)-len(total_picks))/len(total_picks))"
   ]
  },
  {
   "cell_type": "markdown",
   "metadata": {},
   "source": [
    "### The meaningful values here are\n",
    "- Test prc (precision)\n",
    "- Sample Size\n",
    "- Total Picks\n",
    "- Average Win Odds\n",
    "- Total Return\n",
    "- Average Expected Return."
   ]
  },
  {
   "cell_type": "code",
   "execution_count": 98,
   "metadata": {},
   "outputs": [
    {
     "name": "stdout",
     "output_type": "stream",
     "text": [
      "SGDClassifier: \n",
      "\n",
      "Averages:\n",
      "\n",
      "Train acc: 0.5758445305961822, Test acc: 0.5756617250693761\n",
      "Train prc: 0.21720918387033383, Test prc: 0.20402291301387415\n",
      "Train recall: 0.42356810254632177, Test recall: 0.42434103191390926 \n",
      "\n",
      "Train f1: 0.1148730366050105, Test f1: 0.11560869216778565\n",
      "Train MattCC: 0.04409037737202122, Test MattCC: 0.04261030213847091\n",
      "Train AUC: 0.5085484017263331, Test AUC: 0.5087928724524229 \n",
      "\n",
      "\n",
      "Sample Size: 92361, Folds Num: 5, Time: 41.8225314617157 \n",
      "\n",
      "\n",
      "Total Picks: 37737 Average Win Odds: 32.124860225600784\n",
      "Total Return: 93268.18\n",
      "Average Expected Return: 2.471531388292657\n"
     ]
    }
   ],
   "source": [
    "FOLD_TEST(clf_A, transformed_X_test, y_test, 5, 2)"
   ]
  },
  {
   "cell_type": "code",
   "execution_count": 99,
   "metadata": {},
   "outputs": [
    {
     "name": "stdout",
     "output_type": "stream",
     "text": [
      "LogisticRegression: \n",
      "\n",
      "Averages:\n",
      "\n",
      "Train acc: 0.6510161193881935, Test acc: 0.6493758123035933\n",
      "Train prc: 0.17766671404144446, Test prc: 0.17505172134308283\n",
      "Train recall: 0.6486577646702337, Test recall: 0.6382263448706522 \n",
      "\n",
      "Train f1: 0.2789334500480357, Test f1: 0.274737305967815\n",
      "Train MattCC: 0.18869388445990523, Test MattCC: 0.18179592030923053\n",
      "Train AUC: 0.6499738974408571, Test AUC: 0.6444485198673503 \n",
      "\n",
      "\n",
      "Sample Size: 92361, Folds Num: 5, Time: 52.594948053359985 \n",
      "\n",
      "\n",
      "Total Picks: 35041 Average Win Odds: 31.529696772089984\n",
      "Total Return: 158362.15999999997\n",
      "Average Expected Return: 4.519339059958334\n"
     ]
    }
   ],
   "source": [
    "FOLD_TEST(clf_B, transformed_X_test, y_test, 5, 2)"
   ]
  },
  {
   "cell_type": "code",
   "execution_count": 100,
   "metadata": {},
   "outputs": [
    {
     "name": "stdout",
     "output_type": "stream",
     "text": [
      "RandomForestClassifier: \n",
      "\n",
      "Averages:\n",
      "\n",
      "Train acc: 0.7160841427988319, Test acc: 0.6900099467444639\n",
      "Train prc: 0.2203199445171323, Test prc: 0.17696415375033314\n",
      "Train recall: 0.6804964563482381, Test recall: 0.5418788822312518 \n",
      "\n",
      "Train f1: 0.3328463225649999, Test f1: 0.26677755724051727\n",
      "Train MattCC: 0.2620109547908656, Test MattCC: 0.16324997224835722\n",
      "Train AUC: 0.7003569895034241, Test AUC: 0.6245466918709129 \n",
      "\n",
      "\n",
      "Sample Size: 92361, Folds Num: 5, Time: 9.467440366744995 \n",
      "\n",
      "\n",
      "Total Picks: 29436 Average Win Odds: 31.85351382488479\n",
      "Total Return: 136457.09999999998\n",
      "Average Expected Return: 4.635721565430085\n"
     ]
    }
   ],
   "source": [
    "FOLD_TEST(clf_D, transformed_X_test, y_test, 5, 2)"
   ]
  },
  {
   "cell_type": "code",
   "execution_count": 101,
   "metadata": {},
   "outputs": [
    {
     "name": "stdout",
     "output_type": "stream",
     "text": [
      "DecisionTreeClassifier: \n",
      "\n",
      "Averages:\n",
      "\n",
      "Train acc: 0.6171571096285433, Test acc: 0.6147616919260648\n",
      "Train prc: 0.16730351984150665, Test prc: 0.16309715247202095\n",
      "Train recall: 0.6724848997764148, Test recall: 0.6528969379378713 \n",
      "\n",
      "Train f1: 0.26781981871421373, Test f1: 0.2608520420278773\n",
      "Train MattCC: 0.17548644855058967, Test MattCC: 0.1632239857661963\n",
      "Train AUC: 0.6416080088005941, Test AUC: 0.6316146321109296 \n",
      "\n",
      "\n",
      "Sample Size: 92361, Folds Num: 5, Time: 7.54425311088562 \n",
      "\n",
      "\n",
      "Total Picks: 38520 Average Win Odds: 32.10891792828686\n",
      "Total Return: 162963.46000000002\n",
      "Average Expected Return: 4.230619418483905\n"
     ]
    }
   ],
   "source": [
    "FOLD_TEST(clf_F, transformed_X_test, y_test, 5, 2)"
   ]
  },
  {
   "cell_type": "code",
   "execution_count": 102,
   "metadata": {},
   "outputs": [
    {
     "name": "stdout",
     "output_type": "stream",
     "text": [
      "XGBClassifier: \n",
      "\n",
      "Averages:\n",
      "\n",
      "Train acc: 0.6423057307567757, Test acc: 0.6362101002254013\n",
      "Train prc: 0.1798056764829664, Test prc: 0.17224071344430408\n",
      "Train recall: 0.6843461624502699, Test recall: 0.6558110565837826 \n",
      "\n",
      "Train f1: 0.2847829244200046, Test f1: 0.27282141886667116\n",
      "Train MattCC: 0.20088911051364974, Test MattCC: 0.18088521176006592\n",
      "Train AUC: 0.6608845615876727, Test AUC: 0.6448722956634925 \n",
      "\n",
      "\n",
      "Sample Size: 92361, Folds Num: 5, Time: 133.84301710128784 \n",
      "\n",
      "\n",
      "Total Picks: 36595 Average Win Odds: 31.74943518959226\n",
      "Total Return: 163521.69\n",
      "Average Expected Return: 4.468416177073371\n"
     ]
    }
   ],
   "source": [
    "FOLD_TEST(clf_J, transformed_X_test, y_test, 5, 2)"
   ]
  },
  {
   "cell_type": "markdown",
   "metadata": {},
   "source": [
    "### Regression model experimentation:"
   ]
  },
  {
   "cell_type": "code",
   "execution_count": null,
   "metadata": {},
   "outputs": [],
   "source": [
    "from time import time\n",
    "from sklearn.metrics import make_scorer,confusion_matrix,accuracy_score,\\\n",
    "    precision_score,recall_score,f1_score,roc_auc_score,matthews_corrcoef\n",
    "\n",
    "from sklearn.model_selection import KFold\n",
    "\n",
    "from sklearn.linear_model import Ridge, SGDRegressor\n",
    "\n",
    "from sklearn.metrics import mean_squared_error,mean_absolute_error,r2_score"
   ]
  },
  {
   "cell_type": "code",
   "execution_count": null,
   "metadata": {},
   "outputs": [],
   "source": [
    "def metrics_function2(target,pred):\n",
    "    return mean_squared_error(target,pred),mean_absolute_error(target,pred),r2_score(target,pred)\n",
    "\n",
    "def FOLD_TEST(clf,X_all,y_all,folds_num,row_factor):\n",
    "    start=time()\n",
    "    \n",
    "    KFLD=KFold(n_splits=folds_num,random_state=0,shuffle=True)\n",
    "    print ('{}:'.format(clf.__class__.__name__),'\\n')\n",
    "    \n",
    "    MSE_list_train=[]\n",
    "    MSE_list_test=[]\n",
    "    MAE_list_train=[]\n",
    "    MAE_list_test=[]\n",
    "    R2_list_train=[]\n",
    "    R2_list_test=[]\n",
    "    \n",
    "    samp_size=X_all.shape[0]//row_factor\n",
    "    \n",
    "    true_values = []\n",
    "    predict_values =[]\n",
    "    \n",
    "    for fold,(train_index,target_index) in enumerate(KFLD.split(X_all[:samp_size],\n",
    "                                                                y_all[:samp_size])):\n",
    "        \n",
    "        X_train=X_all.iloc[train_index].values\n",
    "        y_train=y_all.iloc[train_index].values\n",
    "\n",
    "        X_test=X_all.iloc[target_index].values\n",
    "        y_test=y_all.iloc[target_index].values\n",
    "        \n",
    "        clf.fit(X_train,y_train)\n",
    "        y_pred1=clf.predict(X_train)\n",
    "        y_pred2=clf.predict(X_test)\n",
    "\n",
    "        train_MSE,train_MAE,train_R2=metrics_function2(y_train,y_pred1)\n",
    "        test_MSE,test_MAE,test_R2=metrics_function2(y_test,y_pred2)\n",
    "        \n",
    "        MSE_list_train.append(train_MSE)\n",
    "        MSE_list_test.append(test_MSE)\n",
    "        MAE_list_train.append(train_MAE)\n",
    "        MAE_list_test.append(test_MAE)\n",
    "        R2_list_train.append(train_R2)\n",
    "        R2_list_test.append(test_R2)\n",
    "        \n",
    "        true_values = true_values + list(zip(target_index,y_test))\n",
    "        predict_values = predict_values + list(zip(target_index,y_pred2))\n",
    "    \n",
    "\n",
    "        \n",
    "    print(\"Train MSE: {}, Test MSE: {}\".format(np.mean(MSE_list_train),\n",
    "                                               np.mean(MSE_list_test)),'\\n'*2) \n",
    "    print(\"Train MAE: {}, Test MAE: {}\".format(np.mean(MAE_list_train),\n",
    "                                               np.mean(MAE_list_test)),'\\n'*2)\n",
    "    print(\"Train R2: {}, Test R2: {}\".format(np.mean(R2_list_train),\n",
    "                                             np.mean(R2_list_test)),'\\n'*2)   \n",
    "        \n",
    "    print(\"Sample Size: {}, Folds Num: {}, Time: {}\".format(samp_size,folds_num,\n",
    "                                                            time()-start),'\\n'*2)\n",
    "    \n",
    "    total_picks = []\n",
    "    correct_idx = []\n",
    "\n",
    "    for ((a,b),(c,d)) in list(zip(true_values,predict_values)):\n",
    "        if (b==1)&(d==1):\n",
    "            correct_idx.append(a)\n",
    "        if d==1:\n",
    "            total_picks.append(c)\n",
    "\n",
    "    win_odds_list=[]\n",
    "\n",
    "    for a in correct_idx:\n",
    "        win_odds_list.append(df_cleaned_test.bf_odds.iloc[a])\n",
    "\n",
    "    average_win=np.mean(win_odds_list)\n",
    "    \n",
    "    print(\"Total Picks:\",len(total_picks),\"Average Win Odds:\",average_win)\n",
    "    print(\"Total Return:\",average_win*len(correct_idx)-len(total_picks))\n",
    "    print(\"Average Expected Return:\",(average_win*len(correct_idx)-len(total_picks))/len(total_picks))"
   ]
  },
  {
   "cell_type": "code",
   "execution_count": null,
   "metadata": {},
   "outputs": [],
   "source": [
    "#clf_A3 = \n",
    "\n",
    "clf_A2 = Ridge(alpha=1e3,random_state=0)\n",
    "\n",
    "clf_A1 = SGDRegressor()"
   ]
  },
  {
   "cell_type": "code",
   "execution_count": null,
   "metadata": {},
   "outputs": [],
   "source": [
    "FOLD_TEST(clf_A1,transformed_X_test,y_test,5,1)"
   ]
  }
 ],
 "metadata": {
  "kernelspec": {
   "display_name": "Python 3",
   "language": "python",
   "name": "python3"
  },
  "language_info": {
   "codemirror_mode": {
    "name": "ipython",
    "version": 3
   },
   "file_extension": ".py",
   "mimetype": "text/x-python",
   "name": "python",
   "nbconvert_exporter": "python",
   "pygments_lexer": "ipython3",
   "version": "3.7.3"
  }
 },
 "nbformat": 4,
 "nbformat_minor": 2
}
